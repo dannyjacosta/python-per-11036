{
 "cells": [
  {
   "cell_type": "markdown",
   "id": "4fd187be-c6ec-4a11-9835-6cd56de46fd7",
   "metadata": {},
   "source": [
    "### Tema III"
   ]
  },
  {
   "cell_type": "markdown",
   "id": "7c056e99-e77c-4c2e-b9d8-fb8adc44fb02",
   "metadata": {
    "jp-MarkdownHeadingCollapsed": true
   },
   "source": [
    "#### Estructuras de datos"
   ]
  },
  {
   "cell_type": "markdown",
   "id": "4b36502c-223e-4b98-9bc0-c783e1211057",
   "metadata": {
    "jp-MarkdownHeadingCollapsed": true
   },
   "source": [
    "##### Listas"
   ]
  },
  {
   "cell_type": "code",
   "execution_count": null,
   "id": "0e90e2da-abab-4d01-94f8-474fa11b083c",
   "metadata": {},
   "outputs": [
    {
     "data": {
      "text/plain": [
       "[3, 'Hola', True]"
      ]
     },
     "execution_count": 62,
     "metadata": {},
     "output_type": "execute_result"
    }
   ],
   "source": [
    "lista = [3, 'Hola', True]\n",
    "lista"
   ]
  },
  {
   "cell_type": "code",
   "execution_count": null,
   "id": "7cad864b-6864-4512-802d-b4acd2774e38",
   "metadata": {},
   "outputs": [
    {
     "data": {
      "text/plain": [
       "[]"
      ]
     },
     "execution_count": 63,
     "metadata": {},
     "output_type": "execute_result"
    }
   ],
   "source": [
    "lista_vacia = []\n",
    "lista_vacia"
   ]
  },
  {
   "cell_type": "code",
   "execution_count": null,
   "id": "b9547261-77a2-4544-bfe7-1746f4abe10c",
   "metadata": {},
   "outputs": [
    {
     "data": {
      "text/plain": [
       "True"
      ]
     },
     "execution_count": 64,
     "metadata": {},
     "output_type": "execute_result"
    }
   ],
   "source": [
    "lista[2]"
   ]
  },
  {
   "cell_type": "code",
   "execution_count": null,
   "id": "0c671493-5200-493f-a22a-6977787cd924",
   "metadata": {},
   "outputs": [
    {
     "data": {
      "text/plain": [
       "[3, 'Hola']"
      ]
     },
     "execution_count": 65,
     "metadata": {},
     "output_type": "execute_result"
    }
   ],
   "source": [
    "lista[:2]"
   ]
  },
  {
   "cell_type": "code",
   "execution_count": null,
   "id": "87199cae-a729-417c-85dd-14ee328da0bd",
   "metadata": {},
   "outputs": [
    {
     "data": {
      "text/plain": [
       "['Hola', True]"
      ]
     },
     "execution_count": 66,
     "metadata": {},
     "output_type": "execute_result"
    }
   ],
   "source": [
    "lista[1:]"
   ]
  },
  {
   "cell_type": "code",
   "execution_count": null,
   "id": "fadec0c0-13bb-4cc6-89c7-d3bf992b03c9",
   "metadata": {},
   "outputs": [
    {
     "data": {
      "text/plain": [
       "True"
      ]
     },
     "execution_count": 67,
     "metadata": {},
     "output_type": "execute_result"
    }
   ],
   "source": [
    "lista[-1]"
   ]
  },
  {
   "cell_type": "code",
   "execution_count": null,
   "id": "32bd82ab-e005-4961-b256-e73341054aa7",
   "metadata": {},
   "outputs": [
    {
     "data": {
      "text/plain": [
       "3"
      ]
     },
     "execution_count": 68,
     "metadata": {},
     "output_type": "execute_result"
    }
   ],
   "source": [
    "len(lista)"
   ]
  },
  {
   "cell_type": "code",
   "execution_count": null,
   "id": "bb205418-d416-4cfd-a2d7-6d1fec4117bb",
   "metadata": {},
   "outputs": [
    {
     "data": {
      "text/plain": [
       "1"
      ]
     },
     "execution_count": 69,
     "metadata": {},
     "output_type": "execute_result"
    }
   ],
   "source": [
    "lista.index('Hola')"
   ]
  },
  {
   "cell_type": "code",
   "execution_count": null,
   "id": "d83b20d0-7703-40ed-925e-76f78d5716c8",
   "metadata": {},
   "outputs": [
    {
     "data": {
      "text/plain": [
       "[3, 'Adios', 'Hola', True]"
      ]
     },
     "execution_count": 70,
     "metadata": {},
     "output_type": "execute_result"
    }
   ],
   "source": [
    "lista.insert(1, 'Adios')\n",
    "lista"
   ]
  },
  {
   "cell_type": "code",
   "execution_count": null,
   "id": "7dc0d382-cf0e-4202-bc4e-b33d7a2de51b",
   "metadata": {},
   "outputs": [
    {
     "data": {
      "text/plain": [
       "[3, 'Adios', 'Hola', True, 'Bienvenido']"
      ]
     },
     "execution_count": 71,
     "metadata": {},
     "output_type": "execute_result"
    }
   ],
   "source": [
    "lista.append('Bienvenido')\n",
    "lista"
   ]
  },
  {
   "cell_type": "code",
   "execution_count": null,
   "id": "d7745241-f091-4db5-bf56-6214e130048f",
   "metadata": {},
   "outputs": [
    {
     "data": {
      "text/plain": [
       "[3, 'Adios', 'Hola', True, 'Bienvenido', [3, 4]]"
      ]
     },
     "execution_count": 72,
     "metadata": {},
     "output_type": "execute_result"
    }
   ],
   "source": [
    "lista.append([3,4]) #insert una lista dentro de la lista destino.\n",
    "lista"
   ]
  },
  {
   "cell_type": "code",
   "execution_count": null,
   "id": "e03fe6f4-306d-4e33-92e2-536ad9e6ccb9",
   "metadata": {},
   "outputs": [
    {
     "data": {
      "text/plain": [
       "[3, 'Adios', 'Hola', True, 'Bienvenido', [3, 4], 5, 6]"
      ]
     },
     "execution_count": 73,
     "metadata": {},
     "output_type": "execute_result"
    }
   ],
   "source": [
    "lista.extend([5,6]) #Inserta cada elemento de la lista fuenta a la lista destino.\n",
    "lista"
   ]
  },
  {
   "cell_type": "code",
   "execution_count": null,
   "id": "0206661c-1810-4064-ae2e-574396570898",
   "metadata": {},
   "outputs": [
    {
     "data": {
      "text/plain": [
       "[3, 'Adios', True, 'Bienvenido', 5, 6]"
      ]
     },
     "execution_count": 74,
     "metadata": {},
     "output_type": "execute_result"
    }
   ],
   "source": [
    "lista.remove('Hola')\n",
    "lista.remove([3,4])\n",
    "lista"
   ]
  },
  {
   "cell_type": "code",
   "execution_count": null,
   "id": "88bda4c5-206d-4a74-8ff2-b2859aff5008",
   "metadata": {},
   "outputs": [
    {
     "data": {
      "text/plain": [
       "1"
      ]
     },
     "execution_count": 75,
     "metadata": {},
     "output_type": "execute_result"
    }
   ],
   "source": [
    "lista.count('Adios')"
   ]
  },
  {
   "cell_type": "code",
   "execution_count": null,
   "id": "ca740fce-d96f-4887-96c5-930e97335dee",
   "metadata": {},
   "outputs": [
    {
     "data": {
      "text/plain": [
       "[6, 5, 'Bienvenido', True, 'Adios', 3]"
      ]
     },
     "execution_count": 76,
     "metadata": {},
     "output_type": "execute_result"
    }
   ],
   "source": [
    "lista.reverse()\n",
    "lista"
   ]
  },
  {
   "cell_type": "code",
   "execution_count": null,
   "id": "adac5022-7a3d-4e50-8a0f-360372efd990",
   "metadata": {},
   "outputs": [
    {
     "data": {
      "text/plain": [
       "[1, 2, 3, 4, 5, 6, 7, 8, 9, 10]"
      ]
     },
     "execution_count": 77,
     "metadata": {},
     "output_type": "execute_result"
    }
   ],
   "source": [
    "lista = [1,2,3,4,5,6,7,8,9,10]\n",
    "lista.sort()\n",
    "lista"
   ]
  },
  {
   "cell_type": "code",
   "execution_count": null,
   "id": "a151a9d2-2b1b-4afb-bcaf-56fa9fb4119e",
   "metadata": {},
   "outputs": [
    {
     "data": {
      "text/plain": [
       "[10, 9, 8, 7, 6, 5, 4, 3, 2, 1]"
      ]
     },
     "execution_count": 78,
     "metadata": {},
     "output_type": "execute_result"
    }
   ],
   "source": [
    "lista.sort(reverse=True)\n",
    "lista"
   ]
  },
  {
   "cell_type": "code",
   "execution_count": null,
   "id": "16f86dd8-999e-40bd-909b-e119b8b7d0da",
   "metadata": {},
   "outputs": [
    {
     "data": {
      "text/plain": [
       "9"
      ]
     },
     "execution_count": 79,
     "metadata": {},
     "output_type": "execute_result"
    }
   ],
   "source": [
    "lista.pop(1)"
   ]
  },
  {
   "cell_type": "code",
   "execution_count": null,
   "id": "bc90b4e5-950b-4dae-8143-2b1902d10d30",
   "metadata": {},
   "outputs": [
    {
     "data": {
      "text/plain": [
       "[10, 8, 7, 6, 5, 4, 3, 2, 1]"
      ]
     },
     "execution_count": 80,
     "metadata": {},
     "output_type": "execute_result"
    }
   ],
   "source": [
    "lista"
   ]
  },
  {
   "cell_type": "code",
   "execution_count": null,
   "id": "0e4d5b39-e1e7-4fe9-9467-c5f3d8656b13",
   "metadata": {},
   "outputs": [
    {
     "data": {
      "text/plain": [
       "1"
      ]
     },
     "execution_count": 81,
     "metadata": {},
     "output_type": "execute_result"
    }
   ],
   "source": [
    "lista.pop()"
   ]
  },
  {
   "cell_type": "code",
   "execution_count": null,
   "id": "588d4414-30d3-475b-9dfc-eec0c6d1726a",
   "metadata": {},
   "outputs": [
    {
     "data": {
      "text/plain": [
       "[10, 8, 7, 6, 5, 4, 3, 2]"
      ]
     },
     "execution_count": 82,
     "metadata": {},
     "output_type": "execute_result"
    }
   ],
   "source": [
    "lista"
   ]
  },
  {
   "cell_type": "markdown",
   "id": "0ca6c5e6-7974-403a-b3c1-f9bf2af2e45d",
   "metadata": {
    "jp-MarkdownHeadingCollapsed": true
   },
   "source": [
    "##### Tuplas - (Las tuplas son immutables)"
   ]
  },
  {
   "cell_type": "code",
   "execution_count": null,
   "id": "08bc4c71-66c0-4d47-a980-1e38e8bd0064",
   "metadata": {},
   "outputs": [
    {
     "data": {
      "text/plain": [
       "('Hola', 3.4, True, 'Adios')"
      ]
     },
     "execution_count": 85,
     "metadata": {},
     "output_type": "execute_result"
    }
   ],
   "source": [
    "tupla = 'Hola', 3.4, True, 'Adios' #tuple packing\n",
    "tupla"
   ]
  },
  {
   "cell_type": "code",
   "execution_count": null,
   "id": "3837a7ec-30c0-4212-bec7-1729a22dc227",
   "metadata": {},
   "outputs": [
    {
     "name": "stdout",
     "output_type": "stream",
     "text": [
      "Hola\n",
      "3.4\n",
      "True\n",
      "Adios\n"
     ]
    }
   ],
   "source": [
    "w, x, y, z = tupla #tuple unpacking\n",
    "print(w)\n",
    "print(x)\n",
    "print(y)\n",
    "print(z)"
   ]
  },
  {
   "cell_type": "code",
   "execution_count": null,
   "id": "c21a5fa5-9c88-44b1-b9f9-7c70dc415c45",
   "metadata": {},
   "outputs": [
    {
     "data": {
      "text/plain": [
       "3.4"
      ]
     },
     "execution_count": 90,
     "metadata": {},
     "output_type": "execute_result"
    }
   ],
   "source": [
    "tupla[1]"
   ]
  },
  {
   "cell_type": "code",
   "execution_count": null,
   "id": "6b0ea82d-7344-4f7b-b93d-45d245421414",
   "metadata": {},
   "outputs": [
    {
     "data": {
      "text/plain": [
       "4"
      ]
     },
     "execution_count": 91,
     "metadata": {},
     "output_type": "execute_result"
    }
   ],
   "source": [
    "len(tupla)"
   ]
  },
  {
   "cell_type": "code",
   "execution_count": null,
   "id": "80ce3597-39ac-4303-9a9a-01ac8325ae75",
   "metadata": {},
   "outputs": [
    {
     "data": {
      "text/plain": [
       "1"
      ]
     },
     "execution_count": 93,
     "metadata": {},
     "output_type": "execute_result"
    }
   ],
   "source": [
    "tupla.count('Hola')"
   ]
  },
  {
   "cell_type": "code",
   "execution_count": null,
   "id": "5e0e9fc4-0535-4ec7-8725-e664c9f88bd4",
   "metadata": {},
   "outputs": [
    {
     "data": {
      "text/plain": [
       "0"
      ]
     },
     "execution_count": 94,
     "metadata": {},
     "output_type": "execute_result"
    }
   ],
   "source": [
    "tupla.index('Hola')"
   ]
  },
  {
   "cell_type": "markdown",
   "id": "b0c3b704-1cce-4adc-920f-7fd714225696",
   "metadata": {
    "jp-MarkdownHeadingCollapsed": true
   },
   "source": [
    "##### Dictionaries"
   ]
  },
  {
   "cell_type": "code",
   "execution_count": null,
   "id": "1866dd8b-111f-4ff4-a85b-d6194fb2df56",
   "metadata": {},
   "outputs": [
    {
     "data": {
      "text/plain": [
       "{'clave1': 'Mi primer valor',\n",
       " 'clave3': 'Tercer valor',\n",
       " 'clave2': 'Segundo valor'}"
      ]
     },
     "execution_count": 95,
     "metadata": {},
     "output_type": "execute_result"
    }
   ],
   "source": [
    "diccionario = {\n",
    "    'clave1': 'Mi primer valor',\n",
    "    'clave3': 'Tercer valor',\n",
    "    'clave2': 'Segundo valor' \n",
    "}\n",
    "diccionario"
   ]
  },
  {
   "cell_type": "code",
   "execution_count": null,
   "id": "755769ba-c048-4f15-913d-18b8662ed73f",
   "metadata": {},
   "outputs": [
    {
     "data": {
      "text/plain": [
       "'Mi primer valor'"
      ]
     },
     "execution_count": 96,
     "metadata": {},
     "output_type": "execute_result"
    }
   ],
   "source": [
    "diccionario['clave1']"
   ]
  },
  {
   "cell_type": "code",
   "execution_count": null,
   "id": "96102472-0083-4d14-a404-c6307667198b",
   "metadata": {},
   "outputs": [
    {
     "data": {
      "text/plain": [
       "{'clave1': 'Mi primer valor',\n",
       " 'clave3': 'Tercer valor',\n",
       " 'clave2': 'Segundo valor',\n",
       " 'clave4': 'Cuarto Valor'}"
      ]
     },
     "execution_count": 98,
     "metadata": {},
     "output_type": "execute_result"
    }
   ],
   "source": [
    "diccionario['clave4'] = 'Cuarto Valor'\n",
    "diccionario"
   ]
  },
  {
   "cell_type": "code",
   "execution_count": null,
   "id": "482722d0-3241-4f0c-a5e4-e408be4b984f",
   "metadata": {},
   "outputs": [
    {
     "data": {
      "text/plain": [
       "{}"
      ]
     },
     "execution_count": 100,
     "metadata": {},
     "output_type": "execute_result"
    }
   ],
   "source": [
    "diccionario_vacio = {}\n",
    "diccionario_vacio"
   ]
  },
  {
   "cell_type": "code",
   "execution_count": null,
   "id": "ea1a788a-55c7-468b-89c6-4eaa382e06ed",
   "metadata": {},
   "outputs": [
    {
     "data": {
      "text/plain": [
       "{}"
      ]
     },
     "execution_count": 101,
     "metadata": {},
     "output_type": "execute_result"
    }
   ],
   "source": [
    "otro_diccionario_vacio = dict()\n",
    "otro_diccionario_vacio"
   ]
  },
  {
   "cell_type": "code",
   "execution_count": null,
   "id": "0816a78c-c06d-4264-a417-e55d3d3dfdce",
   "metadata": {},
   "outputs": [
    {
     "data": {
      "text/plain": [
       "{'clave3': 'Tercer valor', 'clave2': 'Segundo valor', 'clave4': 'Cuarto Valor'}"
      ]
     },
     "execution_count": 102,
     "metadata": {},
     "output_type": "execute_result"
    }
   ],
   "source": [
    "del diccionario['clave1']\n",
    "diccionario"
   ]
  },
  {
   "cell_type": "code",
   "execution_count": null,
   "id": "b0e37de9-bba7-4cd3-b58b-054568e01033",
   "metadata": {},
   "outputs": [
    {
     "data": {
      "text/plain": [
       "['clave3', 'clave2', 'clave4']"
      ]
     },
     "execution_count": 103,
     "metadata": {},
     "output_type": "execute_result"
    }
   ],
   "source": [
    "list(diccionario)"
   ]
  },
  {
   "cell_type": "code",
   "execution_count": null,
   "id": "4e3ddb6e-1e1a-4b62-9403-5abbb68a4675",
   "metadata": {},
   "outputs": [
    {
     "data": {
      "text/plain": [
       "['clave2', 'clave3', 'clave4']"
      ]
     },
     "execution_count": 104,
     "metadata": {},
     "output_type": "execute_result"
    }
   ],
   "source": [
    "sorted(diccionario)"
   ]
  },
  {
   "cell_type": "code",
   "execution_count": null,
   "id": "5c69c53c-1b9b-4164-b1bc-91c6d60b2f27",
   "metadata": {},
   "outputs": [
    {
     "data": {
      "text/plain": [
       "True"
      ]
     },
     "execution_count": 105,
     "metadata": {},
     "output_type": "execute_result"
    }
   ],
   "source": [
    "'clave3' in diccionario"
   ]
  },
  {
   "cell_type": "markdown",
   "id": "88c26557-feda-4346-b714-c117697070e8",
   "metadata": {},
   "source": [
    "##### Conjuntos"
   ]
  },
  {
   "cell_type": "code",
   "execution_count": null,
   "id": "306fa166-1abb-4561-9368-58035540a1b8",
   "metadata": {},
   "outputs": [
    {
     "data": {
      "text/plain": [
       "{'audi', 'ferrari', 'mercedes', 'renault', 'seat'}"
      ]
     },
     "execution_count": 107,
     "metadata": {},
     "output_type": "execute_result"
    }
   ],
   "source": [
    "conjunto = {'audi', 'mercedes', 'seat', 'ferrari', 'ferrari', 'renault'}\n",
    "conjunto"
   ]
  },
  {
   "cell_type": "code",
   "execution_count": null,
   "id": "03c0d358-da43-4125-b952-c45a082826a7",
   "metadata": {},
   "outputs": [
    {
     "data": {
      "text/plain": [
       "set()"
      ]
     },
     "execution_count": 110,
     "metadata": {},
     "output_type": "execute_result"
    }
   ],
   "source": [
    "conjunto_vacio = set()\n",
    "conjunto_vacio"
   ]
  },
  {
   "cell_type": "code",
   "execution_count": null,
   "id": "d2acbe6c-f7fe-4cc6-b0fe-d203fbf44f40",
   "metadata": {},
   "outputs": [
    {
     "data": {
      "text/plain": [
       "{1, 2, 3, 4, 5}"
      ]
     },
     "execution_count": 111,
     "metadata": {},
     "output_type": "execute_result"
    }
   ],
   "source": [
    "conjunto1 = {1,2,3}\n",
    "conjunto2 = {3,4,5}\n",
    "conjunto1.union(conjunto2)"
   ]
  },
  {
   "cell_type": "code",
   "execution_count": null,
   "id": "6da1a434-7c75-4631-b161-62785a319529",
   "metadata": {},
   "outputs": [
    {
     "data": {
      "text/plain": [
       "{3}"
      ]
     },
     "execution_count": 112,
     "metadata": {},
     "output_type": "execute_result"
    }
   ],
   "source": [
    "conjunto1.intersection(conjunto2)"
   ]
  },
  {
   "cell_type": "code",
   "execution_count": null,
   "id": "1cee2803-b2b9-4d64-a1ad-6ccca5267a89",
   "metadata": {},
   "outputs": [
    {
     "data": {
      "text/plain": [
       "{1, 2}"
      ]
     },
     "execution_count": 113,
     "metadata": {},
     "output_type": "execute_result"
    }
   ],
   "source": [
    "conjunto1.difference(conjunto2)"
   ]
  },
  {
   "cell_type": "code",
   "execution_count": null,
   "id": "fcf78cf5-7b23-417c-8fa2-ee655e5194f4",
   "metadata": {},
   "outputs": [
    {
     "data": {
      "text/plain": [
       "{4, 5}"
      ]
     },
     "execution_count": 114,
     "metadata": {},
     "output_type": "execute_result"
    }
   ],
   "source": [
    "conjunto2.difference(conjunto1)"
   ]
  },
  {
   "cell_type": "code",
   "execution_count": null,
   "id": "daca3272-f861-4ff2-bb9f-3d089989daa1",
   "metadata": {},
   "outputs": [
    {
     "data": {
      "text/plain": [
       "True"
      ]
     },
     "execution_count": 115,
     "metadata": {},
     "output_type": "execute_result"
    }
   ],
   "source": [
    "1 in conjunto1\n"
   ]
  },
  {
   "cell_type": "code",
   "execution_count": null,
   "id": "722055eb-b39c-4f4c-943f-9f8d72b0f7b2",
   "metadata": {},
   "outputs": [
    {
     "data": {
      "text/plain": [
       "3"
      ]
     },
     "execution_count": 116,
     "metadata": {},
     "output_type": "execute_result"
    }
   ],
   "source": [
    "len(conjunto1)"
   ]
  },
  {
   "cell_type": "markdown",
   "id": "e042bf23-0b47-4413-8f07-f579769deeed",
   "metadata": {},
   "source": [
    "#### Ejecuciones condicionales"
   ]
  },
  {
   "cell_type": "code",
   "execution_count": null,
   "id": "cb2ca678-05f2-4f3e-9858-28efd7a91f05",
   "metadata": {},
   "outputs": [
    {
     "name": "stdout",
     "output_type": "stream",
     "text": [
      "Escribe un número entre 1 y 10\n"
     ]
    },
    {
     "name": "stdout",
     "output_type": "stream",
     "text": [
      " 5\n"
     ]
    },
    {
     "name": "stdout",
     "output_type": "stream",
     "text": [
      "¡Soy el número 5!\n"
     ]
    }
   ],
   "source": [
    "print('Escribe un número entre 1 y 10')\n",
    "number = int(input())\n",
    "if (number > 5):\n",
    "    print('¡Soy mayor que 5!')\n",
    "elif (number == 5):\n",
    "    print('¡Soy el número 5!')\n",
    "else:\n",
    "    print('¡Soy menor que 5!')"
   ]
  },
  {
   "cell_type": "code",
   "execution_count": null,
   "id": "ea7c2804-eb23-4ad1-962c-58c492ac403f",
   "metadata": {},
   "outputs": [
    {
     "name": "stdout",
     "output_type": "stream",
     "text": [
      "5\n",
      "4\n",
      "3\n",
      "2\n",
      "1\n",
      "Ejecución finalizada\n"
     ]
    }
   ],
   "source": [
    "numero = 5\n",
    "while(numero > 0):\n",
    "    print(numero)\n",
    "    numero -= 1\n",
    "else:\n",
    "    print('Ejecución finalizada')"
   ]
  },
  {
   "cell_type": "code",
   "execution_count": null,
   "id": "9297fdf7-46eb-4b10-853b-14724d793db4",
   "metadata": {},
   "outputs": [
    {
     "name": "stdout",
     "output_type": "stream",
     "text": [
      "1\n",
      "2\n",
      "3\n",
      "4\n",
      "5\n",
      "Ejecución finalizada.\n"
     ]
    }
   ],
   "source": [
    "numeros = [1,2,3,4,5]\n",
    "for n in numeros:\n",
    "    print(n)\n",
    "else:\n",
    "    print('Ejecución finalizada.')"
   ]
  },
  {
   "cell_type": "code",
   "execution_count": null,
   "id": "5affbe4c-1e9c-45e6-ae2a-d5b5f8c965f6",
   "metadata": {},
   "outputs": [
    {
     "data": {
      "text/plain": [
       "range(0, 5)"
      ]
     },
     "execution_count": 16,
     "metadata": {},
     "output_type": "execute_result"
    }
   ],
   "source": [
    "range(5)"
   ]
  },
  {
   "cell_type": "code",
   "execution_count": null,
   "id": "3d839056-4973-41fe-ad32-07f186d270fa",
   "metadata": {},
   "outputs": [
    {
     "data": {
      "text/plain": [
       "range(5, 10)"
      ]
     },
     "execution_count": 17,
     "metadata": {},
     "output_type": "execute_result"
    }
   ],
   "source": [
    "range(5, 10)"
   ]
  },
  {
   "cell_type": "code",
   "execution_count": null,
   "id": "52bc332b-5fa0-4506-8277-9106cefb2fe4",
   "metadata": {},
   "outputs": [
    {
     "data": {
      "text/plain": [
       "range(1, 50, 2)"
      ]
     },
     "execution_count": 18,
     "metadata": {},
     "output_type": "execute_result"
    }
   ],
   "source": [
    "range(1, 50, 2)"
   ]
  },
  {
   "cell_type": "code",
   "execution_count": null,
   "id": "15a5a56d-9493-4bb6-8371-79f82974cfdc",
   "metadata": {},
   "outputs": [
    {
     "name": "stdout",
     "output_type": "stream",
     "text": [
      "H\n",
      "l\n",
      " \n",
      "u\n",
      "d\n"
     ]
    }
   ],
   "source": [
    "cadena = 'Hola mundo'\n",
    "for c in range(0, len(cadena), 2):\n",
    "    print(cadena[c])"
   ]
  },
  {
   "cell_type": "code",
   "execution_count": null,
   "id": "e9165a80-d977-4dc7-aa3a-342728e149ca",
   "metadata": {},
   "outputs": [
    {
     "data": {
      "text/plain": [
       "'H'"
      ]
     },
     "execution_count": 22,
     "metadata": {},
     "output_type": "execute_result"
    }
   ],
   "source": [
    "cadena = 'Hola mundo de Python'\n",
    "letra = iter(cadena)\n",
    "next(letra)\n"
   ]
  }
 ],
 "metadata": {
  "kernelspec": {
   "display_name": "Python 3 (ipykernel)",
   "language": "python",
   "name": "python3"
  },
  "language_info": {
   "codemirror_mode": {
    "name": "ipython",
    "version": 3
   },
   "file_extension": ".py",
   "mimetype": "text/x-python",
   "name": "python",
   "nbconvert_exporter": "python",
   "pygments_lexer": "ipython3",
   "version": "3.12.4"
  }
 },
 "nbformat": 4,
 "nbformat_minor": 5
}
