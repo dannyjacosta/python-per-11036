{
 "cells": [
  {
   "cell_type": "markdown",
   "id": "ef9584ca-ecb5-426a-b2d8-69280aadaf65",
   "metadata": {},
   "source": [
    "# Tema V"
   ]
  },
  {
   "cell_type": "markdown",
   "id": "ddcf68be-67cc-469a-831d-9eb0e95fb238",
   "metadata": {},
   "source": [
    "## Modulos y paquetes"
   ]
  },
  {
   "cell_type": "markdown",
   "id": "72816c36-6511-4c33-a5a2-33b5e54d5052",
   "metadata": {},
   "source": [
    "### Módulos"
   ]
  },
  {
   "cell_type": "code",
   "execution_count": 1,
   "id": "afefa0e5-7c8b-4bfa-a4f4-9242b5028507",
   "metadata": {},
   "outputs": [
    {
     "data": {
      "text/plain": [
       "31.41592653589793"
      ]
     },
     "execution_count": 1,
     "metadata": {},
     "output_type": "execute_result"
    }
   ],
   "source": [
    "import circunferencia\n",
    "\n",
    "circunferencia.perimetro(5)"
   ]
  },
  {
   "cell_type": "code",
   "execution_count": 2,
   "id": "6e46c10f-5cfb-4265-a1be-48156547a49e",
   "metadata": {},
   "outputs": [
    {
     "data": {
      "text/plain": [
       "78.53981633974483"
      ]
     },
     "execution_count": 2,
     "metadata": {},
     "output_type": "execute_result"
    }
   ],
   "source": [
    "circunferencia.area(5)"
   ]
  },
  {
   "cell_type": "code",
   "execution_count": 3,
   "id": "8677d238-fd5d-4ab5-9e6a-940280ebddd9",
   "metadata": {},
   "outputs": [
    {
     "data": {
      "text/plain": [
       "31.41592653589793"
      ]
     },
     "execution_count": 3,
     "metadata": {},
     "output_type": "execute_result"
    }
   ],
   "source": [
    "import circunferencia as c\n",
    "\n",
    "c.perimetro(5)"
   ]
  },
  {
   "cell_type": "code",
   "execution_count": 4,
   "id": "6a73fcb9-e1bd-47bd-bebb-26d45409fbd0",
   "metadata": {},
   "outputs": [
    {
     "data": {
      "text/plain": [
       "78.53981633974483"
      ]
     },
     "execution_count": 4,
     "metadata": {},
     "output_type": "execute_result"
    }
   ],
   "source": [
    "c.area(5)"
   ]
  },
  {
   "cell_type": "markdown",
   "id": "475250f1-5094-42c7-a822-8e2a8aabe074",
   "metadata": {},
   "source": [
    "### Paquetes"
   ]
  },
  {
   "cell_type": "code",
   "execution_count": null,
   "id": "4e1a6276-6786-43e2-9ce5-4480b8137cd1",
   "metadata": {},
   "outputs": [],
   "source": []
  }
 ],
 "metadata": {
  "kernelspec": {
   "display_name": "Python 3 (ipykernel)",
   "language": "python",
   "name": "python3"
  },
  "language_info": {
   "codemirror_mode": {
    "name": "ipython",
    "version": 3
   },
   "file_extension": ".py",
   "mimetype": "text/x-python",
   "name": "python",
   "nbconvert_exporter": "python",
   "pygments_lexer": "ipython3",
   "version": "3.12.4"
  }
 },
 "nbformat": 4,
 "nbformat_minor": 5
}
