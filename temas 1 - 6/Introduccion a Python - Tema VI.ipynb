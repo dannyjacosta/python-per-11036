{
 "cells": [
  {
   "cell_type": "markdown",
   "id": "8272886f-bf25-427f-8626-25c8c42b46d7",
   "metadata": {},
   "source": [
    "# Tema VI"
   ]
  },
  {
   "cell_type": "markdown",
   "id": "577c7256-3d0b-4baf-83ba-f0a857cee9dc",
   "metadata": {
    "jp-MarkdownHeadingCollapsed": true
   },
   "source": [
    "## Expresiones Regulares"
   ]
  },
  {
   "cell_type": "markdown",
   "id": "fcd9daef-a85e-4758-9fa1-33bda366e401",
   "metadata": {},
   "source": [
    "**Literales**\n",
    "- \\n: salto de línea.\n",
    "- \\t: tabulador.\n",
    "- \\\\: barra diagonal inversa.\n",
    "- \\d: un dígito.\n",
    "- \\w: un carácter alfanumérico.\n",
    "- \\s: un espacio en blanco.\n",
    "- \\D: carácter que no sea un dígito.\n",
    "- \\W: carácter que no sea alfanumérico.\n",
    "\n",
    "**Metacaracteres**\n",
    "- |: *or*\n",
    "- ?: una on ninguna\n",
    "- +: una o más\n",
    "- *: ninguna o más\n",
    "- {n}: *n* veces\n",
    "- {n,n}: entre *m* y *n* veces\n",
    "- []: lista de opciones separadas por coma\n",
    "- -: rango de caracteres dentro de una lista: *[1-3]*\n"
   ]
  },
  {
   "cell_type": "code",
   "execution_count": 1,
   "id": "36d94d1e-efc3-4a90-818c-5eef49951e6f",
   "metadata": {},
   "outputs": [
    {
     "data": {
      "text/plain": [
       "<re.Match object; span=(37, 42), match='curso'>"
      ]
     },
     "execution_count": 1,
     "metadata": {},
     "output_type": "execute_result"
    }
   ],
   "source": [
    "import re\n",
    "\n",
    "mensaje = 'Esto es un mensaje de prueba para el curso de Python.'\n",
    "match = re.search('curso', mensaje)\n",
    "match"
   ]
  },
  {
   "cell_type": "code",
   "execution_count": 2,
   "id": "b8cd1530-bf23-49de-bd49-cced69ab45ad",
   "metadata": {},
   "outputs": [
    {
     "data": {
      "text/plain": [
       "<re.Match object; span=(0, 4), match='Esto'>"
      ]
     },
     "execution_count": 2,
     "metadata": {},
     "output_type": "execute_result"
    }
   ],
   "source": [
    "match = re.match('Esto', mensaje)\n",
    "match"
   ]
  },
  {
   "cell_type": "code",
   "execution_count": 3,
   "id": "85337d2a-3424-417f-b710-f6ad0c8acb32",
   "metadata": {},
   "outputs": [
    {
     "data": {
      "text/plain": [
       "['Esto',\n",
       " 'es',\n",
       " 'un',\n",
       " 'mensaje',\n",
       " 'de',\n",
       " 'prueba',\n",
       " 'para',\n",
       " 'el',\n",
       " 'curso',\n",
       " 'de',\n",
       " 'Python.']"
      ]
     },
     "execution_count": 3,
     "metadata": {},
     "output_type": "execute_result"
    }
   ],
   "source": [
    "match = re.split(' ', mensaje)\n",
    "match"
   ]
  },
  {
   "cell_type": "code",
   "execution_count": 4,
   "id": "d2f62f95-fbf9-489c-bf2a-31268a1603fe",
   "metadata": {},
   "outputs": [
    {
     "data": {
      "text/plain": [
       "'Esto es un mensaje de prueba para el curso de C#.'"
      ]
     },
     "execution_count": 4,
     "metadata": {},
     "output_type": "execute_result"
    }
   ],
   "source": [
    "match = re.sub('Python', 'C#', mensaje)\n",
    "match"
   ]
  },
  {
   "cell_type": "code",
   "execution_count": 5,
   "id": "1b84f05c-b17b-463b-ab30-f96a316749f6",
   "metadata": {},
   "outputs": [
    {
     "data": {
      "text/plain": [
       "['de', 'de']"
      ]
     },
     "execution_count": 5,
     "metadata": {},
     "output_type": "execute_result"
    }
   ],
   "source": [
    "match = re.findall('de', mensaje)\n",
    "match"
   ]
  },
  {
   "cell_type": "code",
   "execution_count": 6,
   "id": "16850bb8-9616-4175-81e7-6474fc49057f",
   "metadata": {},
   "outputs": [
    {
     "data": {
      "text/plain": [
       "'Un texto es una composición de signos codificados en un sistema de escritura que forma una unidad de sentido.\\n\\nTambién es una composición de caracteres imprimibles (con grafema) generados por un algoritmo de cifrado que, aunque no tiene sentido para cualquier persona, sí puede ser descifrado por su destinatario original. En otras palabras, un texto es un entramado de signos con una intención danny.acosta@gmail.com comunicativa que adquiere sentido en determinado contexto.'"
      ]
     },
     "execution_count": 6,
     "metadata": {},
     "output_type": "execute_result"
    }
   ],
   "source": [
    "texto = 'Un texto es una composición de signos codificados en un sistema de escritura que forma una unidad de sentido.\\n\\nTambién es una composición de caracteres imprimibles (con grafema) generados por un algoritmo de cifrado que, aunque no tiene sentido para cualquier persona, sí puede ser descifrado por su destinatario original. En otras palabras, un texto es un entramado de signos con una intención danny.acosta@gmail.com comunicativa que adquiere sentido en determinado contexto.'\n",
    "texto"
   ]
  },
  {
   "cell_type": "code",
   "execution_count": 7,
   "id": "0802643a-1e4c-479e-b431-f725c229f36f",
   "metadata": {},
   "outputs": [
    {
     "data": {
      "text/plain": [
       "'Un texto es una composición de signos codificados en un sistema de escritura que forma una unidad de sentido.**AQUI****AQUI**También es una composición de caracteres imprimibles (con grafema) generados por un algoritmo de cifrado que, aunque no tiene sentido para cualquier persona, sí puede ser descifrado por su destinatario original. En otras palabras, un texto es un entramado de signos con una intención danny.acosta@gmail.com comunicativa que adquiere sentido en determinado contexto.'"
      ]
     },
     "execution_count": 7,
     "metadata": {},
     "output_type": "execute_result"
    }
   ],
   "source": [
    "match = re.sub('\\n', '**AQUI**', texto)\n",
    "match"
   ]
  },
  {
   "cell_type": "code",
   "execution_count": 8,
   "id": "776ca12c-1016-4606-bd60-7c4a2c3456ab",
   "metadata": {},
   "outputs": [
    {
     "data": {
      "text/plain": [
       "['sentido para', 'ser descifrado', 'sentido en']"
      ]
     },
     "execution_count": 8,
     "metadata": {},
     "output_type": "execute_result"
    }
   ],
   "source": [
    "pattern = r'se\\w+\\s\\w+'\n",
    "match = re.findall(pattern, texto)\n",
    "match"
   ]
  },
  {
   "cell_type": "code",
   "execution_count": 9,
   "id": "1b76acca-7ca3-4613-a452-0d086a2f5fd5",
   "metadata": {},
   "outputs": [
    {
     "data": {
      "text/plain": [
       "['sentido', 'ser', 'sentido']"
      ]
     },
     "execution_count": 9,
     "metadata": {},
     "output_type": "execute_result"
    }
   ],
   "source": [
    "pattern = r'(se\\w+)\\s\\w+'\n",
    "match = re.findall(pattern, texto)\n",
    "match"
   ]
  },
  {
   "cell_type": "code",
   "execution_count": 10,
   "id": "1ec2cd46-7308-47c5-8640-ce442c8eb81d",
   "metadata": {},
   "outputs": [
    {
     "data": {
      "text/plain": [
       "'Un texto **AQUI** una composición de signos codificados en un sistema de **AQUI**critura que forma una unidad de sentido.\\n\\nTambién **AQUI** una composición de caracter**AQUI** imprimibl**AQUI** (con grafema) generados por un algoritmo de cifrado que, aunque no tiene sentido para cualquier persona, sí puede **AQUI** d**AQUI**cifrado por su d**AQUI**tinatario original. En otras palabras, un texto **AQUI** un entramado de signos con una intención danny.acosta@gmail.com comunicativa que adquiere sentido en determinado contexto.'"
      ]
     },
     "execution_count": 10,
     "metadata": {},
     "output_type": "execute_result"
    }
   ],
   "source": [
    "pattern = r'es|ser'\n",
    "match = re.sub(pattern, '**AQUI**', texto)\n",
    "match"
   ]
  },
  {
   "cell_type": "code",
   "execution_count": 11,
   "id": "707b3ab0-efc8-4a2a-9b65-569545714333",
   "metadata": {},
   "outputs": [
    {
     "data": {
      "text/plain": [
       "['1 ', '2 ', '3 ']"
      ]
     },
     "execution_count": 11,
     "metadata": {},
     "output_type": "execute_result"
    }
   ],
   "source": [
    "ejemplo = '1 22 333 444'\n",
    "pattern = r'\\d?\\s'\n",
    "match = re.findall(pattern, ejemplo)\n",
    "match"
   ]
  },
  {
   "cell_type": "code",
   "execution_count": 12,
   "id": "d1c0ea84-b409-45c8-b68e-35a4f329f6a7",
   "metadata": {},
   "outputs": [
    {
     "data": {
      "text/plain": [
       "['333']"
      ]
     },
     "execution_count": 12,
     "metadata": {},
     "output_type": "execute_result"
    }
   ],
   "source": [
    "pattern = r'3+'\n",
    "match = re.findall(pattern, ejemplo)\n",
    "match"
   ]
  },
  {
   "cell_type": "code",
   "execution_count": 16,
   "id": "4675e1ed-0cfc-4378-a4af-1cc28c85c8bb",
   "metadata": {},
   "outputs": [
    {
     "data": {
      "text/plain": [
       "['12', '2']"
      ]
     },
     "execution_count": 16,
     "metadata": {},
     "output_type": "execute_result"
    }
   ],
   "source": [
    "ejemplo = '122333114444'\n",
    "pattern = r'(1*2)'\n",
    "match = re.findall(pattern, ejemplo)\n",
    "match"
   ]
  },
  {
   "cell_type": "code",
   "execution_count": 18,
   "id": "91480d66-5294-434a-b8f1-58062a29b8e9",
   "metadata": {},
   "outputs": [
    {
     "data": {
      "text/plain": [
       "['333', '444']"
      ]
     },
     "execution_count": 18,
     "metadata": {},
     "output_type": "execute_result"
    }
   ],
   "source": [
    "ejemplo = '1 22 333 4444'\n",
    "pattern = r'\\d{3}'\n",
    "match = re.findall(pattern, ejemplo)\n",
    "match"
   ]
  },
  {
   "cell_type": "code",
   "execution_count": 19,
   "id": "b877f94b-7d3c-4c2d-8860-3581b498d959",
   "metadata": {},
   "outputs": [
    {
     "data": {
      "text/plain": [
       "['22', '333', '444']"
      ]
     },
     "execution_count": 19,
     "metadata": {},
     "output_type": "execute_result"
    }
   ],
   "source": [
    "pattern = r'\\d{2,3}'\n",
    "match = re.findall(pattern, ejemplo)\n",
    "match"
   ]
  },
  {
   "cell_type": "code",
   "execution_count": 20,
   "id": "2400672f-5cd6-4a30-a787-14ad7a29dd40",
   "metadata": {},
   "outputs": [
    {
     "data": {
      "text/plain": [
       "['333', '444']"
      ]
     },
     "execution_count": 20,
     "metadata": {},
     "output_type": "execute_result"
    }
   ],
   "source": [
    "pattern = r'[3,4]{2,3}'\n",
    "match = re.findall(pattern, ejemplo)\n",
    "match"
   ]
  },
  {
   "cell_type": "code",
   "execution_count": 21,
   "id": "ca3bb6eb-3b23-4107-9347-b2bb2526db4e",
   "metadata": {},
   "outputs": [
    {
     "data": {
      "text/plain": [
       "['22', '333']"
      ]
     },
     "execution_count": 21,
     "metadata": {},
     "output_type": "execute_result"
    }
   ],
   "source": [
    "pattern = r'[1-3]{2,}'\n",
    "match = re.findall(pattern, ejemplo)\n",
    "match"
   ]
  },
  {
   "cell_type": "markdown",
   "id": "fe167c29-91cd-4581-a007-893480cca7fc",
   "metadata": {
    "jp-MarkdownHeadingCollapsed": true
   },
   "source": [
    "## Errores y excepciones"
   ]
  },
  {
   "cell_type": "code",
   "execution_count": 27,
   "id": "f8189b26-72d4-4fae-bb3b-800dcf012c5e",
   "metadata": {},
   "outputs": [
    {
     "name": "stdout",
     "output_type": "stream",
     "text": [
      "4\n",
      "No ha occurido ningún error.\n",
      "Ejecución del bloque try-except finalizada.\n",
      "Sigo la ejecución\n"
     ]
    }
   ],
   "source": [
    "lista = [2,3,4]\n",
    "try:\n",
    "    print(lista[2])\n",
    "except IndexError:\n",
    "    print('No existe esa posición')\n",
    "except TypeError:\n",
    "    print('El tipo de la operación es erroneo')\n",
    "except:\n",
    "    print('Ha occurido un error')\n",
    "else:\n",
    "    print('No ha occurido ningún error.')\n",
    "finally:\n",
    "    print('Ejecución del bloque try-except finalizada.')\n",
    "    \n",
    "print('Sigo la ejecución')"
   ]
  },
  {
   "cell_type": "code",
   "execution_count": 28,
   "id": "c1959174-5cd0-4e8c-b949-5ce64fb7413b",
   "metadata": {},
   "outputs": [
    {
     "name": "stdout",
     "output_type": "stream",
     "text": [
      "He detectado un error de tipo.\n"
     ]
    }
   ],
   "source": [
    "try:\n",
    "    raise TypeError('Ha ocurrido un error de tipo.')\n",
    "except TypeError:\n",
    "    print('He detectado un error de tipo.')"
   ]
  },
  {
   "cell_type": "markdown",
   "id": "8581ea00-ce61-4230-ade9-2efed9221578",
   "metadata": {},
   "source": [
    "## Compresión de Lista"
   ]
  },
  {
   "cell_type": "markdown",
   "id": "99468370-ea54-459f-8ea5-cefc3469013f",
   "metadata": {
    "jp-MarkdownHeadingCollapsed": true
   },
   "source": [
    "### Listas"
   ]
  },
  {
   "cell_type": "code",
   "execution_count": 31,
   "id": "ec0d599a-1953-4072-877f-8e6f5785677d",
   "metadata": {},
   "outputs": [
    {
     "data": {
      "text/plain": [
       "[1, 4, 9, 16, 25, 36, 49, 64, 81, 100]"
      ]
     },
     "execution_count": 31,
     "metadata": {},
     "output_type": "execute_result"
    }
   ],
   "source": [
    "result = []\n",
    "for i in range(1,11):\n",
    "    result.append(i ** 2)\n",
    "\n",
    "result"
   ]
  },
  {
   "cell_type": "code",
   "execution_count": 32,
   "id": "83225bee-d034-485f-9b04-e3ed707b9e46",
   "metadata": {},
   "outputs": [
    {
     "data": {
      "text/plain": [
       "[1, 4, 9, 16, 25, 36, 49, 64, 81, 100]"
      ]
     },
     "execution_count": 32,
     "metadata": {},
     "output_type": "execute_result"
    }
   ],
   "source": [
    "result = [i ** 2 for i in range(1,11)]\n",
    "result"
   ]
  },
  {
   "cell_type": "code",
   "execution_count": 34,
   "id": "4a946d66-7456-47bb-b12c-85f26c0648bc",
   "metadata": {},
   "outputs": [
    {
     "data": {
      "text/plain": [
       "[9, 36, 81]"
      ]
     },
     "execution_count": 34,
     "metadata": {},
     "output_type": "execute_result"
    }
   ],
   "source": [
    "result = [i ** 2 for i in range(1,11) if i % 3 == 0]\n",
    "result"
   ]
  },
  {
   "cell_type": "markdown",
   "id": "6ac030a7-f780-4e46-8d45-8206213b7060",
   "metadata": {},
   "source": [
    "### Diccionarios y Conjuntos"
   ]
  },
  {
   "cell_type": "code",
   "execution_count": 37,
   "id": "53f5ea06-2366-4bb0-bfe2-c665d9a66d29",
   "metadata": {},
   "outputs": [
    {
     "data": {
      "text/plain": [
       "{2: 4, 4: 16, 6: 36, 8: 64, 10: 100}"
      ]
     },
     "execution_count": 37,
     "metadata": {},
     "output_type": "execute_result"
    }
   ],
   "source": [
    "dic = {i: i ** 2 for i in range(1,11) if i % 2 == 0 }\n",
    "dic"
   ]
  },
  {
   "cell_type": "code",
   "execution_count": 38,
   "id": "9101f7bb-4186-4e2b-9f36-e5e5bd39690c",
   "metadata": {},
   "outputs": [
    {
     "data": {
      "text/plain": [
       "{4, 16, 36, 64, 100}"
      ]
     },
     "execution_count": 38,
     "metadata": {},
     "output_type": "execute_result"
    }
   ],
   "source": [
    "conjunto = { i ** 2 for i in range(1,11) if i % 2 == 0 }\n",
    "conjunto"
   ]
  }
 ],
 "metadata": {
  "kernelspec": {
   "display_name": "Python 3 (ipykernel)",
   "language": "python",
   "name": "python3"
  },
  "language_info": {
   "codemirror_mode": {
    "name": "ipython",
    "version": 3
   },
   "file_extension": ".py",
   "mimetype": "text/x-python",
   "name": "python",
   "nbconvert_exporter": "python",
   "pygments_lexer": "ipython3",
   "version": "3.12.4"
  }
 },
 "nbformat": 4,
 "nbformat_minor": 5
}
