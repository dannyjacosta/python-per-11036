{
 "cells": [
  {
   "cell_type": "markdown",
   "id": "4ddfa0a0-b399-4ff7-aac4-387329f52d29",
   "metadata": {},
   "source": [
    "# Tema VII"
   ]
  },
  {
   "cell_type": "markdown",
   "id": "6e55969e-5074-40b8-ae39-acf103146e6c",
   "metadata": {},
   "source": [
    "## Numpy"
   ]
  },
  {
   "cell_type": "code",
   "execution_count": 1,
   "id": "25172c6d-0937-4883-bac5-6429bd53add9",
   "metadata": {},
   "outputs": [],
   "source": [
    "import numpy as np"
   ]
  },
  {
   "cell_type": "markdown",
   "id": "102efbde-935d-47e7-be3e-2297d8a92d9e",
   "metadata": {
    "jp-MarkdownHeadingCollapsed": true
   },
   "source": [
    "### Arrays"
   ]
  },
  {
   "cell_type": "code",
   "execution_count": 2,
   "id": "7c5cabbe-99a7-4209-a4f0-9533a987d15a",
   "metadata": {},
   "outputs": [
    {
     "data": {
      "text/plain": [
       "array([1, 2, 3, 4, 5])"
      ]
     },
     "execution_count": 2,
     "metadata": {},
     "output_type": "execute_result"
    }
   ],
   "source": [
    "arr = np.array(range(1,6))\n",
    "arr"
   ]
  },
  {
   "cell_type": "code",
   "execution_count": 3,
   "id": "20a80ab3-64bb-4014-b7de-1ad70d3dc4da",
   "metadata": {},
   "outputs": [
    {
     "data": {
      "text/plain": [
       "np.int64(3)"
      ]
     },
     "execution_count": 3,
     "metadata": {},
     "output_type": "execute_result"
    }
   ],
   "source": [
    "arr[2]"
   ]
  },
  {
   "cell_type": "markdown",
   "id": "68a80bf2-3cb5-489a-bd49-a66077668e26",
   "metadata": {
    "jp-MarkdownHeadingCollapsed": true
   },
   "source": [
    "### Matrices"
   ]
  },
  {
   "cell_type": "code",
   "execution_count": 4,
   "id": "b59dd4d8-9691-42f0-b7d2-897d6f41256c",
   "metadata": {},
   "outputs": [
    {
     "data": {
      "text/plain": [
       "array([[1, 2, 3],\n",
       "       [4, 5, 6]])"
      ]
     },
     "execution_count": 4,
     "metadata": {},
     "output_type": "execute_result"
    }
   ],
   "source": [
    "matriz = np.array([[1,2,3],[4,5,6]])\n",
    "matriz"
   ]
  },
  {
   "cell_type": "markdown",
   "id": "ad230f07-78a8-4ae6-b5b9-79742b059f4d",
   "metadata": {},
   "source": [
    "Comparando es espacio en memoria de una lista de Python y un array de Numpy. El array de Numpy is es, en este caso, 71% más pequeño que la lista."
   ]
  },
  {
   "cell_type": "code",
   "execution_count": 5,
   "id": "ef2a847a-1a4d-429f-b636-7c61c93c1730",
   "metadata": {},
   "outputs": [
    {
     "name": "stdout",
     "output_type": "stream",
     "text": [
      "28000\n",
      "8000\n",
      "8\n"
     ]
    }
   ],
   "source": [
    "import sys\n",
    "\n",
    "lista_python = range(1000)\n",
    "array_numpy = np.array(range(1000))\n",
    "\n",
    "list_size = sys.getsizeof(1) * len(lista_python)\n",
    "array_size = array_numpy.size * array_numpy.itemsize\n",
    "\n",
    "print(list_size)\n",
    "print(array_size)\n",
    "print(array_numpy.itemsize)"
   ]
  },
  {
   "cell_type": "markdown",
   "id": "65bfeda6-3d0c-49b1-acc8-03c5e9496178",
   "metadata": {},
   "source": [
    "Comparando el tiempo de ejecución de una resta en una lista de Python contra un array en Numpy."
   ]
  },
  {
   "cell_type": "code",
   "execution_count": 7,
   "id": "39e5c6c0-6b60-452e-93c6-6e02c917dae1",
   "metadata": {},
   "outputs": [
    {
     "name": "stdout",
     "output_type": "stream",
     "text": [
      "La duración de la resta de lista es: 0.039556026458740234\n",
      "La duración de la resta de array es: 0.0019991397857666016\n"
     ]
    }
   ],
   "source": [
    "import time\n",
    "\n",
    "lista1 = range(1000000)\n",
    "lista2 = range(1000000)\n",
    "\n",
    "array1 = np.array(range(1000000))\n",
    "array2 = np.array(range(1000000))\n",
    "\n",
    "#tiempo de operación\n",
    "inicio = time.time()\n",
    "resultado = [x - y for x, y in zip(lista1, lista2)]\n",
    "final = time.time()\n",
    "print(f'La duración de la resta de lista es: {final - inicio}')\n",
    "\n",
    "inicio = time.time()\n",
    "resultado = array1 - array2\n",
    "final = time.time()\n",
    "print(f'La duración de la resta de array es: {final - inicio}')\n"
   ]
  },
  {
   "cell_type": "markdown",
   "id": "31eb6cab-de34-469e-a7ec-ae4cbecb4c16",
   "metadata": {},
   "source": [
    "### Funciones Universales"
   ]
  },
  {
   "cell_type": "markdown",
   "id": "2e90bd4c-7cfe-4513-bfe4-8541bb3337ae",
   "metadata": {},
   "source": [
    "#### Funciones Aritméticas"
   ]
  },
  {
   "cell_type": "code",
   "execution_count": 8,
   "id": "31e71252-3593-4d80-bfa6-2a20ff51b6e6",
   "metadata": {},
   "outputs": [
    {
     "data": {
      "text/plain": [
       "array([-2, 50,  5])"
      ]
     },
     "execution_count": 8,
     "metadata": {},
     "output_type": "execute_result"
    }
   ],
   "source": [
    "#substract()\n",
    "array1 = np.array([4, 89, 15])\n",
    "array2 = np.array([6, 39, 10])\n",
    "np.subtract(array1, array2)"
   ]
  },
  {
   "cell_type": "code",
   "execution_count": 9,
   "id": "730e3095-848a-444c-a346-301f8aa6be82",
   "metadata": {},
   "outputs": [
    {
     "data": {
      "text/plain": [
       "array([ 10, 128,  25])"
      ]
     },
     "execution_count": 9,
     "metadata": {},
     "output_type": "execute_result"
    }
   ],
   "source": [
    "#add()\n",
    "np.add(array1, array2)"
   ]
  },
  {
   "cell_type": "code",
   "execution_count": 10,
   "id": "49326ab9-7bc2-4c00-892f-e9b0a00b2d91",
   "metadata": {},
   "outputs": [
    {
     "data": {
      "text/plain": [
       "array([  24, 3471,  150])"
      ]
     },
     "execution_count": 10,
     "metadata": {},
     "output_type": "execute_result"
    }
   ],
   "source": [
    "#multiply()\n",
    "np.multiply(array1, array2)"
   ]
  },
  {
   "cell_type": "code",
   "execution_count": 11,
   "id": "a24e71d7-2c08-4d77-a744-7e209194948f",
   "metadata": {},
   "outputs": [
    {
     "data": {
      "text/plain": [
       "array([0.66666667, 2.28205128, 1.5       ])"
      ]
     },
     "execution_count": 11,
     "metadata": {},
     "output_type": "execute_result"
    }
   ],
   "source": [
    "#divide()\n",
    "np.divide(array1, array2)"
   ]
  },
  {
   "cell_type": "code",
   "execution_count": 12,
   "id": "62d8fcd2-acaf-496e-9cd7-4ea70fa9e1e7",
   "metadata": {},
   "outputs": [
    {
     "data": {
      "text/plain": [
       "array([               4096, 8803743584212754089,        576650390625])"
      ]
     },
     "execution_count": 12,
     "metadata": {},
     "output_type": "execute_result"
    }
   ],
   "source": [
    "#power()\n",
    "np.power(array1, array2)"
   ]
  },
  {
   "cell_type": "code",
   "execution_count": 15,
   "id": "8e481a42-b5f4-4620-ba37-fc27749b11d1",
   "metadata": {},
   "outputs": [
    {
     "data": {
      "text/plain": [
       "array([2.        , 9.43398113, 3.87298335])"
      ]
     },
     "execution_count": 15,
     "metadata": {},
     "output_type": "execute_result"
    }
   ],
   "source": [
    "#sqrt()\n",
    "np.sqrt(array1)"
   ]
  },
  {
   "cell_type": "code",
   "execution_count": 16,
   "id": "29bc47f9-7084-4b52-91ca-a0696231996c",
   "metadata": {},
   "outputs": [
    {
     "data": {
      "text/plain": [
       "array([  16, 7921,  225])"
      ]
     },
     "execution_count": 16,
     "metadata": {},
     "output_type": "execute_result"
    }
   ],
   "source": [
    "#square()\n",
    "np.square(array1)"
   ]
  },
  {
   "cell_type": "code",
   "execution_count": 17,
   "id": "354761b0-b4cc-44d4-acd6-110c54d17720",
   "metadata": {},
   "outputs": [
    {
     "data": {
      "text/plain": [
       "array([2, 1, 5])"
      ]
     },
     "execution_count": 17,
     "metadata": {},
     "output_type": "execute_result"
    }
   ],
   "source": [
    "#gcd() - máximo común divisor - greatest common denominator\n",
    "np.gcd(array1, array2)"
   ]
  },
  {
   "cell_type": "code",
   "execution_count": 18,
   "id": "b0f7b59f-17a8-456f-8d12-008811b34e86",
   "metadata": {},
   "outputs": [
    {
     "data": {
      "text/plain": [
       "array([  12, 3471,   30])"
      ]
     },
     "execution_count": 18,
     "metadata": {},
     "output_type": "execute_result"
    }
   ],
   "source": [
    "#lcm() - mínimo común múltiplo - lowest common multiple\n",
    "np.lcm(array1, array2)"
   ]
  },
  {
   "cell_type": "markdown",
   "id": "dd8402fb-a3a4-40b3-a99a-4f2a34878b4c",
   "metadata": {},
   "source": [
    "### Funciones de compración"
   ]
  }
 ],
 "metadata": {
  "kernelspec": {
   "display_name": "Python 3 (ipykernel)",
   "language": "python",
   "name": "python3"
  },
  "language_info": {
   "codemirror_mode": {
    "name": "ipython",
    "version": 3
   },
   "file_extension": ".py",
   "mimetype": "text/x-python",
   "name": "python",
   "nbconvert_exporter": "python",
   "pygments_lexer": "ipython3",
   "version": "3.12.4"
  }
 },
 "nbformat": 4,
 "nbformat_minor": 5
}
