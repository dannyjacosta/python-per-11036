{
 "cells": [
  {
   "cell_type": "markdown",
   "id": "4ddfa0a0-b399-4ff7-aac4-387329f52d29",
   "metadata": {},
   "source": [
    "# Tema VII"
   ]
  },
  {
   "cell_type": "markdown",
   "id": "6e55969e-5074-40b8-ae39-acf103146e6c",
   "metadata": {},
   "source": [
    "## Numpy"
   ]
  },
  {
   "cell_type": "code",
   "execution_count": null,
   "id": "25172c6d-0937-4883-bac5-6429bd53add9",
   "metadata": {},
   "outputs": [],
   "source": []
  }
 ],
 "metadata": {
  "kernelspec": {
   "display_name": "Python 3 (ipykernel)",
   "language": "python",
   "name": "python3"
  },
  "language_info": {
   "codemirror_mode": {
    "name": "ipython",
    "version": 3
   },
   "file_extension": ".py",
   "mimetype": "text/x-python",
   "name": "python",
   "nbconvert_exporter": "python",
   "pygments_lexer": "ipython3",
   "version": "3.12.4"
  }
 },
 "nbformat": 4,
 "nbformat_minor": 5
}
