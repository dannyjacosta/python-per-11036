{
 "cells": [
  {
   "cell_type": "markdown",
   "id": "ef9584ca-ecb5-426a-b2d8-69280aadaf65",
   "metadata": {},
   "source": [
    "# Tema V"
   ]
  },
  {
   "cell_type": "markdown",
   "id": "ddcf68be-67cc-469a-831d-9eb0e95fb238",
   "metadata": {
    "jp-MarkdownHeadingCollapsed": true
   },
   "source": [
    "## Modulos y paquetes"
   ]
  },
  {
   "cell_type": "markdown",
   "id": "72816c36-6511-4c33-a5a2-33b5e54d5052",
   "metadata": {
    "jp-MarkdownHeadingCollapsed": true
   },
   "source": [
    "### Módulos"
   ]
  },
  {
   "cell_type": "code",
   "execution_count": 1,
   "id": "afefa0e5-7c8b-4bfa-a4f4-9242b5028507",
   "metadata": {},
   "outputs": [
    {
     "data": {
      "text/plain": [
       "31.41592653589793"
      ]
     },
     "execution_count": 1,
     "metadata": {},
     "output_type": "execute_result"
    }
   ],
   "source": [
    "import circunferencia\n",
    "\n",
    "circunferencia.perimetro(5)"
   ]
  },
  {
   "cell_type": "code",
   "execution_count": 2,
   "id": "6e46c10f-5cfb-4265-a1be-48156547a49e",
   "metadata": {},
   "outputs": [
    {
     "data": {
      "text/plain": [
       "78.53981633974483"
      ]
     },
     "execution_count": 2,
     "metadata": {},
     "output_type": "execute_result"
    }
   ],
   "source": [
    "circunferencia.area(5)"
   ]
  },
  {
   "cell_type": "code",
   "execution_count": 3,
   "id": "8677d238-fd5d-4ab5-9e6a-940280ebddd9",
   "metadata": {},
   "outputs": [
    {
     "data": {
      "text/plain": [
       "31.41592653589793"
      ]
     },
     "execution_count": 3,
     "metadata": {},
     "output_type": "execute_result"
    }
   ],
   "source": [
    "import circunferencia as c\n",
    "\n",
    "c.perimetro(5)"
   ]
  },
  {
   "cell_type": "code",
   "execution_count": 4,
   "id": "6a73fcb9-e1bd-47bd-bebb-26d45409fbd0",
   "metadata": {},
   "outputs": [
    {
     "data": {
      "text/plain": [
       "78.53981633974483"
      ]
     },
     "execution_count": 4,
     "metadata": {},
     "output_type": "execute_result"
    }
   ],
   "source": [
    "c.area(5)"
   ]
  },
  {
   "cell_type": "markdown",
   "id": "475250f1-5094-42c7-a822-8e2a8aabe074",
   "metadata": {},
   "source": [
    "### Paquetes"
   ]
  },
  {
   "cell_type": "code",
   "execution_count": 5,
   "id": "4e1a6276-6786-43e2-9ce5-4480b8137cd1",
   "metadata": {},
   "outputs": [
    {
     "data": {
      "text/plain": [
       "78.53981633974483"
      ]
     },
     "execution_count": 5,
     "metadata": {},
     "output_type": "execute_result"
    }
   ],
   "source": [
    "import figuras\n",
    "\n",
    "figuras.circunferencia.area(5)"
   ]
  },
  {
   "cell_type": "code",
   "execution_count": 6,
   "id": "0a83c376-e639-43f7-a7b4-1b2fbb7d5cdb",
   "metadata": {},
   "outputs": [
    {
     "data": {
      "text/plain": [
       "58"
      ]
     },
     "execution_count": 6,
     "metadata": {},
     "output_type": "execute_result"
    }
   ],
   "source": [
    "figuras.poligono.perimetro(4,5,9,15,25)"
   ]
  },
  {
   "cell_type": "code",
   "execution_count": 7,
   "id": "47ec9b2b-24c1-4cbb-b134-52852dc84cba",
   "metadata": {},
   "outputs": [
    {
     "data": {
      "text/plain": [
       "314.1592653589793"
      ]
     },
     "execution_count": 7,
     "metadata": {},
     "output_type": "execute_result"
    }
   ],
   "source": [
    "from figuras import circunferencia as c\n",
    "from figuras import poligono as p\n",
    "\n",
    "c.area(10)"
   ]
  },
  {
   "cell_type": "code",
   "execution_count": 8,
   "id": "3ba04a3d-5650-4d61-b241-f476565e05ae",
   "metadata": {},
   "outputs": [
    {
     "data": {
      "text/plain": [
       "160"
      ]
     },
     "execution_count": 8,
     "metadata": {},
     "output_type": "execute_result"
    }
   ],
   "source": [
    "p.perimetro(12, 56, 78, 14)"
   ]
  },
  {
   "cell_type": "code",
   "execution_count": 9,
   "id": "f2ce671d-5da1-4728-83b6-5383565e5983",
   "metadata": {},
   "outputs": [
    {
     "name": "stdout",
     "output_type": "stream",
     "text": [
      "Help on package figuras:\n",
      "\n",
      "NAME\n",
      "    figuras - Contiene funciones para calcular el area y el perímetro de difirente figuras geométricas.\n",
      "\n",
      "PACKAGE CONTENTS\n",
      "    circunferencia\n",
      "    poligono\n",
      "\n",
      "FILE\n",
      "    c:\\users\\danny\\source\\repos\\danny\\python-per-11036\\figuras\\__init__.py\n",
      "\n",
      "\n"
     ]
    }
   ],
   "source": [
    "help(figuras)"
   ]
  },
  {
   "cell_type": "markdown",
   "id": "b3cb17fa-5c31-4c5c-a83d-70f992f87e33",
   "metadata": {},
   "source": [
    "## Programación orientada a objetos."
   ]
  },
  {
   "cell_type": "markdown",
   "id": "1d1fed29-d74a-4822-84a2-5067eda173c2",
   "metadata": {},
   "source": [
    "### Objetos y clases"
   ]
  },
  {
   "cell_type": "markdown",
   "id": "9cbb362d-2f55-4178-99c2-7962b1a051eb",
   "metadata": {},
   "source": [
    "Todos el contenido de esta sección fueron hecho en archivos"
   ]
  }
 ],
 "metadata": {
  "kernelspec": {
   "display_name": "Python 3 (ipykernel)",
   "language": "python",
   "name": "python3"
  },
  "language_info": {
   "codemirror_mode": {
    "name": "ipython",
    "version": 3
   },
   "file_extension": ".py",
   "mimetype": "text/x-python",
   "name": "python",
   "nbconvert_exporter": "python",
   "pygments_lexer": "ipython3",
   "version": "3.12.4"
  }
 },
 "nbformat": 4,
 "nbformat_minor": 5
}
