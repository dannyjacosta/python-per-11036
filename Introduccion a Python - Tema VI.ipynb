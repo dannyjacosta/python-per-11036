{
 "cells": [
  {
   "cell_type": "markdown",
   "id": "8272886f-bf25-427f-8626-25c8c42b46d7",
   "metadata": {},
   "source": [
    "# Tema VI"
   ]
  },
  {
   "cell_type": "markdown",
   "id": "577c7256-3d0b-4baf-83ba-f0a857cee9dc",
   "metadata": {},
   "source": [
    "## Expresiones Regulares"
   ]
  },
  {
   "cell_type": "code",
   "execution_count": 9,
   "id": "36d94d1e-efc3-4a90-818c-5eef49951e6f",
   "metadata": {},
   "outputs": [
    {
     "data": {
      "text/plain": [
       "<re.Match object; span=(37, 42), match='curso'>"
      ]
     },
     "execution_count": 9,
     "metadata": {},
     "output_type": "execute_result"
    }
   ],
   "source": [
    "import re\n",
    "\n",
    "mensaje = 'Esto es un mensaje de prueba para el curso de Python.'\n",
    "match = re.search('curso', mensaje)\n",
    "match"
   ]
  },
  {
   "cell_type": "code",
   "execution_count": 7,
   "id": "b8cd1530-bf23-49de-bd49-cced69ab45ad",
   "metadata": {},
   "outputs": [
    {
     "data": {
      "text/plain": [
       "<re.Match object; span=(0, 4), match='Esto'>"
      ]
     },
     "execution_count": 7,
     "metadata": {},
     "output_type": "execute_result"
    }
   ],
   "source": [
    "match = re.match('Esto', mensaje)\n",
    "match"
   ]
  },
  {
   "cell_type": "code",
   "execution_count": 6,
   "id": "85337d2a-3424-417f-b710-f6ad0c8acb32",
   "metadata": {},
   "outputs": [
    {
     "data": {
      "text/plain": [
       "['Esto',\n",
       " 'es',\n",
       " 'un',\n",
       " 'mensaje',\n",
       " 'de',\n",
       " 'prueba',\n",
       " 'para',\n",
       " 'el',\n",
       " 'curso',\n",
       " 'de',\n",
       " 'Python.']"
      ]
     },
     "execution_count": 6,
     "metadata": {},
     "output_type": "execute_result"
    }
   ],
   "source": [
    "match = re.split(' ', mensaje)\n",
    "match"
   ]
  },
  {
   "cell_type": "code",
   "execution_count": 11,
   "id": "d2f62f95-fbf9-489c-bf2a-31268a1603fe",
   "metadata": {},
   "outputs": [
    {
     "data": {
      "text/plain": [
       "'Esto es un mensaje de prueba para el curso de C#.'"
      ]
     },
     "execution_count": 11,
     "metadata": {},
     "output_type": "execute_result"
    }
   ],
   "source": [
    "match = re.sub('Python', 'C#', mensaje)\n",
    "match"
   ]
  },
  {
   "cell_type": "code",
   "execution_count": 12,
   "id": "1b84f05c-b17b-463b-ab30-f96a316749f6",
   "metadata": {},
   "outputs": [
    {
     "data": {
      "text/plain": [
       "['de', 'de']"
      ]
     },
     "execution_count": 12,
     "metadata": {},
     "output_type": "execute_result"
    }
   ],
   "source": [
    "match = re.findall('de', mensaje)\n",
    "match"
   ]
  },
  {
   "cell_type": "code",
   "execution_count": 19,
   "id": "16850bb8-9616-4175-81e7-6474fc49057f",
   "metadata": {},
   "outputs": [
    {
     "data": {
      "text/plain": [
       "'Un texto es una composición de signos codificados en un sistema de escritura que forma una unidad de sentido.\\n\\nTambién es una composición de caracteres imprimibles (con grafema) generados por un algoritmo de cifrado que, aunque no tiene sentido para cualquier persona, sí puede ser descifrado por su destinatario original. En otras palabras, un texto es un entramado de signos con una intención comunicativa que adquiere sentido en determinado contexto.'"
      ]
     },
     "execution_count": 19,
     "metadata": {},
     "output_type": "execute_result"
    }
   ],
   "source": [
    "texto = 'Un texto es una composición de signos codificados en un sistema de escritura que forma una unidad de sentido.\\n\\nTambién es una composición de caracteres imprimibles (con grafema) generados por un algoritmo de cifrado que, aunque no tiene sentido para cualquier persona, sí puede ser descifrado por su destinatario original. En otras palabras, un texto es un entramado de signos con una intención comunicativa que adquiere sentido en determinado contexto.'\n",
    "texto"
   ]
  },
  {
   "cell_type": "code",
   "execution_count": 20,
   "id": "0802643a-1e4c-479e-b431-f725c229f36f",
   "metadata": {},
   "outputs": [
    {
     "data": {
      "text/plain": [
       "'Un texto es una composición de signos codificados en un sistema de escritura que forma una unidad de sentido.**AQUI****AQUI**También es una composición de caracteres imprimibles (con grafema) generados por un algoritmo de cifrado que, aunque no tiene sentido para cualquier persona, sí puede ser descifrado por su destinatario original. En otras palabras, un texto es un entramado de signos con una intención comunicativa que adquiere sentido en determinado contexto.'"
      ]
     },
     "execution_count": 20,
     "metadata": {},
     "output_type": "execute_result"
    }
   ],
   "source": [
    "match = re.sub('\\n', '**AQUI**', texto)\n",
    "match"
   ]
  },
  {
   "cell_type": "code",
   "execution_count": 23,
   "id": "776ca12c-1016-4606-bd60-7c4a2c3456ab",
   "metadata": {},
   "outputs": [
    {
     "data": {
      "text/plain": [
       "['sentido para', 'ser descifrado', 'sentido en']"
      ]
     },
     "execution_count": 23,
     "metadata": {},
     "output_type": "execute_result"
    }
   ],
   "source": [
    "pattern = r'se\\w+\\s\\w+'\n",
    "match = re.findall(pattern, texto)\n",
    "match"
   ]
  }
 ],
 "metadata": {
  "kernelspec": {
   "display_name": "Python 3 (ipykernel)",
   "language": "python",
   "name": "python3"
  },
  "language_info": {
   "codemirror_mode": {
    "name": "ipython",
    "version": 3
   },
   "file_extension": ".py",
   "mimetype": "text/x-python",
   "name": "python",
   "nbconvert_exporter": "python",
   "pygments_lexer": "ipython3",
   "version": "3.12.4"
  }
 },
 "nbformat": 4,
 "nbformat_minor": 5
}
