{
 "cells": [
  {
   "cell_type": "markdown",
   "id": "4ddfa0a0-b399-4ff7-aac4-387329f52d29",
   "metadata": {},
   "source": [
    "# Tema VII"
   ]
  },
  {
   "cell_type": "markdown",
   "id": "6e55969e-5074-40b8-ae39-acf103146e6c",
   "metadata": {
    "jp-MarkdownHeadingCollapsed": true
   },
   "source": [
    "## Numpy"
   ]
  },
  {
   "cell_type": "code",
   "execution_count": 1,
   "id": "25172c6d-0937-4883-bac5-6429bd53add9",
   "metadata": {},
   "outputs": [],
   "source": [
    "import numpy as np"
   ]
  },
  {
   "cell_type": "markdown",
   "id": "102efbde-935d-47e7-be3e-2297d8a92d9e",
   "metadata": {
    "jp-MarkdownHeadingCollapsed": true
   },
   "source": [
    "### Arrays"
   ]
  },
  {
   "cell_type": "code",
   "execution_count": 2,
   "id": "7c5cabbe-99a7-4209-a4f0-9533a987d15a",
   "metadata": {},
   "outputs": [
    {
     "data": {
      "text/plain": [
       "array([1, 2, 3, 4, 5])"
      ]
     },
     "execution_count": 2,
     "metadata": {},
     "output_type": "execute_result"
    }
   ],
   "source": [
    "arr = np.array(range(1,6))\n",
    "arr"
   ]
  },
  {
   "cell_type": "code",
   "execution_count": 3,
   "id": "20a80ab3-64bb-4014-b7de-1ad70d3dc4da",
   "metadata": {},
   "outputs": [
    {
     "data": {
      "text/plain": [
       "np.int64(3)"
      ]
     },
     "execution_count": 3,
     "metadata": {},
     "output_type": "execute_result"
    }
   ],
   "source": [
    "arr[2]"
   ]
  },
  {
   "cell_type": "markdown",
   "id": "68a80bf2-3cb5-489a-bd49-a66077668e26",
   "metadata": {
    "jp-MarkdownHeadingCollapsed": true
   },
   "source": [
    "### Matrices"
   ]
  },
  {
   "cell_type": "code",
   "execution_count": 4,
   "id": "b59dd4d8-9691-42f0-b7d2-897d6f41256c",
   "metadata": {},
   "outputs": [
    {
     "data": {
      "text/plain": [
       "array([[1, 2, 3],\n",
       "       [4, 5, 6]])"
      ]
     },
     "execution_count": 4,
     "metadata": {},
     "output_type": "execute_result"
    }
   ],
   "source": [
    "matriz = np.array([[1,2,3],[4,5,6]])\n",
    "matriz"
   ]
  },
  {
   "cell_type": "markdown",
   "id": "ad230f07-78a8-4ae6-b5b9-79742b059f4d",
   "metadata": {},
   "source": [
    "Comparando es espacio en memoria de una lista de Python y un array de Numpy. El array de Numpy is es, en este caso, 71% más pequeño que la lista."
   ]
  },
  {
   "cell_type": "code",
   "execution_count": 5,
   "id": "ef2a847a-1a4d-429f-b636-7c61c93c1730",
   "metadata": {},
   "outputs": [
    {
     "name": "stdout",
     "output_type": "stream",
     "text": [
      "28000\n",
      "8000\n",
      "8\n"
     ]
    }
   ],
   "source": [
    "import sys\n",
    "\n",
    "lista_python = range(1000)\n",
    "array_numpy = np.array(range(1000))\n",
    "\n",
    "list_size = sys.getsizeof(1) * len(lista_python)\n",
    "array_size = array_numpy.size * array_numpy.itemsize\n",
    "\n",
    "print(list_size)\n",
    "print(array_size)\n",
    "print(array_numpy.itemsize)"
   ]
  },
  {
   "cell_type": "markdown",
   "id": "65bfeda6-3d0c-49b1-acc8-03c5e9496178",
   "metadata": {},
   "source": [
    "Comparando el tiempo de ejecución de una resta en una lista de Python contra un array en Numpy."
   ]
  },
  {
   "cell_type": "code",
   "execution_count": 6,
   "id": "39e5c6c0-6b60-452e-93c6-6e02c917dae1",
   "metadata": {},
   "outputs": [
    {
     "name": "stdout",
     "output_type": "stream",
     "text": [
      "La duración de la resta de lista es: 0.039897918701171875\n",
      "La duración de la resta de array es: 0.0019989013671875\n"
     ]
    }
   ],
   "source": [
    "import time\n",
    "\n",
    "lista1 = range(1000000)\n",
    "lista2 = range(1000000)\n",
    "\n",
    "array1 = np.array(range(1000000))\n",
    "array2 = np.array(range(1000000))\n",
    "\n",
    "#tiempo de operación\n",
    "inicio = time.time()\n",
    "resultado = [x - y for x, y in zip(lista1, lista2)]\n",
    "final = time.time()\n",
    "print(f'La duración de la resta de lista es: {final - inicio}')\n",
    "\n",
    "inicio = time.time()\n",
    "resultado = array1 - array2\n",
    "final = time.time()\n",
    "print(f'La duración de la resta de array es: {final - inicio}')\n"
   ]
  },
  {
   "cell_type": "markdown",
   "id": "31eb6cab-de34-469e-a7ec-ae4cbecb4c16",
   "metadata": {
    "jp-MarkdownHeadingCollapsed": true
   },
   "source": [
    "### Funciones Universales"
   ]
  },
  {
   "cell_type": "markdown",
   "id": "2e90bd4c-7cfe-4513-bfe4-8541bb3337ae",
   "metadata": {},
   "source": [
    "#### Funciones Aritméticas"
   ]
  },
  {
   "cell_type": "code",
   "execution_count": 7,
   "id": "31e71252-3593-4d80-bfa6-2a20ff51b6e6",
   "metadata": {},
   "outputs": [
    {
     "data": {
      "text/plain": [
       "array([-2, 50,  5])"
      ]
     },
     "execution_count": 7,
     "metadata": {},
     "output_type": "execute_result"
    }
   ],
   "source": [
    "#substract()\n",
    "array1 = np.array([4, 89, 15])\n",
    "array2 = np.array([6, 39, 10])\n",
    "np.subtract(array1, array2)"
   ]
  },
  {
   "cell_type": "code",
   "execution_count": 8,
   "id": "730e3095-848a-444c-a346-301f8aa6be82",
   "metadata": {},
   "outputs": [
    {
     "data": {
      "text/plain": [
       "array([ 10, 128,  25])"
      ]
     },
     "execution_count": 8,
     "metadata": {},
     "output_type": "execute_result"
    }
   ],
   "source": [
    "#add()\n",
    "np.add(array1, array2)"
   ]
  },
  {
   "cell_type": "code",
   "execution_count": 9,
   "id": "49326ab9-7bc2-4c00-892f-e9b0a00b2d91",
   "metadata": {},
   "outputs": [
    {
     "data": {
      "text/plain": [
       "array([  24, 3471,  150])"
      ]
     },
     "execution_count": 9,
     "metadata": {},
     "output_type": "execute_result"
    }
   ],
   "source": [
    "#multiply()\n",
    "np.multiply(array1, array2)"
   ]
  },
  {
   "cell_type": "code",
   "execution_count": 10,
   "id": "a24e71d7-2c08-4d77-a744-7e209194948f",
   "metadata": {},
   "outputs": [
    {
     "data": {
      "text/plain": [
       "array([0.66666667, 2.28205128, 1.5       ])"
      ]
     },
     "execution_count": 10,
     "metadata": {},
     "output_type": "execute_result"
    }
   ],
   "source": [
    "#divide()\n",
    "np.divide(array1, array2)"
   ]
  },
  {
   "cell_type": "code",
   "execution_count": 11,
   "id": "62d8fcd2-acaf-496e-9cd7-4ea70fa9e1e7",
   "metadata": {},
   "outputs": [
    {
     "data": {
      "text/plain": [
       "array([               4096, 8803743584212754089,        576650390625])"
      ]
     },
     "execution_count": 11,
     "metadata": {},
     "output_type": "execute_result"
    }
   ],
   "source": [
    "#power()\n",
    "np.power(array1, array2)"
   ]
  },
  {
   "cell_type": "code",
   "execution_count": 12,
   "id": "8e481a42-b5f4-4620-ba37-fc27749b11d1",
   "metadata": {},
   "outputs": [
    {
     "data": {
      "text/plain": [
       "array([2.        , 9.43398113, 3.87298335])"
      ]
     },
     "execution_count": 12,
     "metadata": {},
     "output_type": "execute_result"
    }
   ],
   "source": [
    "#sqrt()\n",
    "np.sqrt(array1)"
   ]
  },
  {
   "cell_type": "code",
   "execution_count": 13,
   "id": "29bc47f9-7084-4b52-91ca-a0696231996c",
   "metadata": {},
   "outputs": [
    {
     "data": {
      "text/plain": [
       "array([  16, 7921,  225])"
      ]
     },
     "execution_count": 13,
     "metadata": {},
     "output_type": "execute_result"
    }
   ],
   "source": [
    "#square()\n",
    "np.square(array1)"
   ]
  },
  {
   "cell_type": "code",
   "execution_count": 14,
   "id": "354761b0-b4cc-44d4-acd6-110c54d17720",
   "metadata": {},
   "outputs": [
    {
     "data": {
      "text/plain": [
       "array([2, 1, 5])"
      ]
     },
     "execution_count": 14,
     "metadata": {},
     "output_type": "execute_result"
    }
   ],
   "source": [
    "#gcd() - máximo común divisor - greatest common denominator\n",
    "np.gcd(array1, array2)"
   ]
  },
  {
   "cell_type": "code",
   "execution_count": 15,
   "id": "b0f7b59f-17a8-456f-8d12-008811b34e86",
   "metadata": {},
   "outputs": [
    {
     "data": {
      "text/plain": [
       "array([  12, 3471,   30])"
      ]
     },
     "execution_count": 15,
     "metadata": {},
     "output_type": "execute_result"
    }
   ],
   "source": [
    "#lcm() - mínimo común múltiplo - lowest common multiple\n",
    "np.lcm(array1, array2)"
   ]
  },
  {
   "cell_type": "markdown",
   "id": "dd8402fb-a3a4-40b3-a99a-4f2a34878b4c",
   "metadata": {
    "jp-MarkdownHeadingCollapsed": true
   },
   "source": [
    "### Funciones de compración"
   ]
  },
  {
   "cell_type": "code",
   "execution_count": 16,
   "id": "b34310e1-c0eb-4250-a2f9-e6d45c6ba54e",
   "metadata": {},
   "outputs": [
    {
     "data": {
      "text/plain": [
       "array([False,  True,  True])"
      ]
     },
     "execution_count": 16,
     "metadata": {},
     "output_type": "execute_result"
    }
   ],
   "source": [
    "#greater()\n",
    "left = np.array([4, 89, 15])\n",
    "right = np.array([6, 39, 10])\n",
    "np.greater(left, right)"
   ]
  },
  {
   "cell_type": "code",
   "execution_count": 18,
   "id": "63fb3dcb-4cc5-44b4-9ddf-89adbf086ba5",
   "metadata": {},
   "outputs": [
    {
     "data": {
      "text/plain": [
       "array([False,  True,  True])"
      ]
     },
     "execution_count": 18,
     "metadata": {},
     "output_type": "execute_result"
    }
   ],
   "source": [
    "#greater_equal()\n",
    "np.greater_equal(left, right)"
   ]
  },
  {
   "cell_type": "code",
   "execution_count": 19,
   "id": "574c7a8c-f6b2-4dba-9578-8a701b6e0a70",
   "metadata": {},
   "outputs": [
    {
     "data": {
      "text/plain": [
       "array([ True, False, False])"
      ]
     },
     "execution_count": 19,
     "metadata": {},
     "output_type": "execute_result"
    }
   ],
   "source": [
    "#less()\n",
    "np.less(left, right)"
   ]
  },
  {
   "cell_type": "code",
   "execution_count": 20,
   "id": "294e94f9-655f-4744-ad5d-b709636e71ef",
   "metadata": {},
   "outputs": [
    {
     "data": {
      "text/plain": [
       "array([ True, False, False])"
      ]
     },
     "execution_count": 20,
     "metadata": {},
     "output_type": "execute_result"
    }
   ],
   "source": [
    "#less_equal()\n",
    "np.less_equal(left, right)"
   ]
  },
  {
   "cell_type": "code",
   "execution_count": 21,
   "id": "ed5d870f-cca5-43c2-b45c-44e421526f93",
   "metadata": {},
   "outputs": [
    {
     "data": {
      "text/plain": [
       "array([False, False, False])"
      ]
     },
     "execution_count": 21,
     "metadata": {},
     "output_type": "execute_result"
    }
   ],
   "source": [
    "#equal()\n",
    "np.equal(left, right)"
   ]
  },
  {
   "cell_type": "code",
   "execution_count": 22,
   "id": "0a17fa4e-a893-4eb0-9c8b-b5c97d23a684",
   "metadata": {},
   "outputs": [
    {
     "data": {
      "text/plain": [
       "array([ True,  True,  True])"
      ]
     },
     "execution_count": 22,
     "metadata": {},
     "output_type": "execute_result"
    }
   ],
   "source": [
    "#not_equal()\n",
    "np.not_equal(left, right)"
   ]
  },
  {
   "cell_type": "markdown",
   "id": "78d104a6-4726-4c6d-9599-9534e142a185",
   "metadata": {
    "jp-MarkdownHeadingCollapsed": true
   },
   "source": [
    "### Funciones Booleanas"
   ]
  },
  {
   "cell_type": "code",
   "execution_count": 23,
   "id": "705f83b4-b503-4642-bb91-344356561280",
   "metadata": {},
   "outputs": [
    {
     "data": {
      "text/plain": [
       "array([False, False,  True])"
      ]
     },
     "execution_count": 23,
     "metadata": {},
     "output_type": "execute_result"
    }
   ],
   "source": [
    "#logical_and()\n",
    "left = [True, False, True]\n",
    "right = [False, False, True]\n",
    "np.logical_and(left, right)"
   ]
  },
  {
   "cell_type": "code",
   "execution_count": 24,
   "id": "ef2b8a57-7aae-4ec9-9de0-31d4c448f171",
   "metadata": {},
   "outputs": [
    {
     "data": {
      "text/plain": [
       "array([ True, False,  True])"
      ]
     },
     "execution_count": 24,
     "metadata": {},
     "output_type": "execute_result"
    }
   ],
   "source": [
    "#logical_or()\n",
    "np.logical_or(left, right)"
   ]
  },
  {
   "cell_type": "code",
   "execution_count": 25,
   "id": "087e7523-19d8-48ed-b01e-5fed7ad5ea48",
   "metadata": {},
   "outputs": [
    {
     "data": {
      "text/plain": [
       "array([ True, False, False])"
      ]
     },
     "execution_count": 25,
     "metadata": {},
     "output_type": "execute_result"
    }
   ],
   "source": [
    "#logical_xor()\n",
    "np.logical_xor(left, right)"
   ]
  },
  {
   "cell_type": "code",
   "execution_count": 27,
   "id": "3244c496-c1ba-4121-aed7-7304e13deb94",
   "metadata": {},
   "outputs": [
    {
     "data": {
      "text/plain": [
       "array([False,  True, False])"
      ]
     },
     "execution_count": 27,
     "metadata": {},
     "output_type": "execute_result"
    }
   ],
   "source": [
    "#logical_not()\n",
    "np.logical_not(left)"
   ]
  },
  {
   "cell_type": "markdown",
   "id": "f5716885-b2f6-4d09-871b-347f17b0cdb5",
   "metadata": {},
   "source": [
    "### Fuciones Estadisticas"
   ]
  },
  {
   "cell_type": "code",
   "execution_count": 3,
   "id": "09ca5ea1-d38c-4034-943e-30069a63a86f",
   "metadata": {},
   "outputs": [
    {
     "name": "stdout",
     "output_type": "stream",
     "text": [
      "Mínimo: 1\n"
     ]
    }
   ],
   "source": [
    "#amin()\n",
    "array = np.array(range(1,11))\n",
    "print(f'Mínimo: {np.amin(array)}')"
   ]
  },
  {
   "cell_type": "code",
   "execution_count": 8,
   "id": "f44c3bc2-07b0-475f-aca5-a2061ec84c17",
   "metadata": {},
   "outputs": [
    {
     "name": "stdout",
     "output_type": "stream",
     "text": [
      "Mínimo: 1\n"
     ]
    }
   ],
   "source": [
    "matriz = np.array([[1,2,3,4], [5,6,7,8]])\n",
    "print(f'Mínimo: {np.amin(matriz)}')"
   ]
  },
  {
   "cell_type": "code",
   "execution_count": 34,
   "id": "3c6ecbf9-7dc9-4f28-a285-243183752272",
   "metadata": {},
   "outputs": [
    {
     "name": "stdout",
     "output_type": "stream",
     "text": [
      "Máximo: 10\n",
      "Máximo: 8\n"
     ]
    }
   ],
   "source": [
    "#amax()\n",
    "print(f'Máximo: {np.amax(array)}')\n",
    "print(f'Máximo: {np.amax(matriz)}')"
   ]
  },
  {
   "cell_type": "code",
   "execution_count": 4,
   "id": "d74db1c2-7cba-44ea-a16c-5dd40ca6ffe7",
   "metadata": {},
   "outputs": [
    {
     "name": "stdout",
     "output_type": "stream",
     "text": [
      "Percentile 25: 3.25\n"
     ]
    }
   ],
   "source": [
    "#percentile()\n",
    "print(f'Percentile 25: {np.percentile(array, 25)}')"
   ]
  },
  {
   "cell_type": "code",
   "execution_count": 9,
   "id": "16df2cfd-87b6-452a-bfca-e2ab338c083d",
   "metadata": {},
   "outputs": [
    {
     "name": "stdout",
     "output_type": "stream",
     "text": [
      "Percentile 25: [1.75 5.75]\n"
     ]
    }
   ],
   "source": [
    "print(f'Percentile 25: {np.percentile(matriz, 25, axis=1)}')"
   ]
  },
  {
   "cell_type": "code",
   "execution_count": 13,
   "id": "7fa3543c-840d-479f-b33a-eb135eb20c43",
   "metadata": {},
   "outputs": [
    {
     "name": "stdout",
     "output_type": "stream",
     "text": [
      "Median: 5.5\n"
     ]
    }
   ],
   "source": [
    "#median()\n",
    "numbers = np.array(range(1,11))\n",
    "print(f'Median: {np.median(numbers)}')"
   ]
  },
  {
   "cell_type": "code",
   "execution_count": 12,
   "id": "d24577e0-59d6-4058-9144-d92441c3f99a",
   "metadata": {},
   "outputs": [
    {
     "name": "stdout",
     "output_type": "stream",
     "text": [
      "Mean: 6.0\n"
     ]
    }
   ],
   "source": [
    "#mean()\n",
    "print(f'Mean: {np.mean(numbers)}')"
   ]
  },
  {
   "cell_type": "code",
   "execution_count": 28,
   "id": "0f460ea4-f4bb-495a-8e24-be5ce76c5b64",
   "metadata": {},
   "outputs": [
    {
     "name": "stdout",
     "output_type": "stream",
     "text": [
      "Media Ponderada: 7.0\n",
      "Media: 5.5\n",
      "Promedio Manual: 5.5\n"
     ]
    }
   ],
   "source": [
    "#average()\n",
    "suma = np.sum(numbers)\n",
    "pesos = numbers / suma\n",
    "print(f'Media Ponderada: {np.average(numbers, weights=pesos)}')\n",
    "print(f'Media: {np.average(numbers)}')\n",
    "print(f' Manual: {suma / len(numbers)}')"
   ]
  },
  {
   "cell_type": "code",
   "execution_count": 36,
   "id": "022e825d-26dd-44e2-bdc7-53d18f654c09",
   "metadata": {},
   "outputs": [
    {
     "name": "stdout",
     "output_type": "stream",
     "text": [
      "Desviación Estandar: 2.8722813232690143\n"
     ]
    }
   ],
   "source": [
    "#std()\n",
    "valores = np.array([51, 52, 53, 54, 55, 56, 57, 58, 59, 60])\n",
    "print(f'Desviación Estandar: {np.std(valores)}')"
   ]
  },
  {
   "cell_type": "code",
   "execution_count": 37,
   "id": "f49fa952-cb08-4a1b-a665-29ba706ca169",
   "metadata": {},
   "outputs": [
    {
     "name": "stdout",
     "output_type": "stream",
     "text": [
      "Varianza: 8.25\n"
     ]
    }
   ],
   "source": [
    "#var()\n",
    "print(f'Varianza: {np.var(valores)}')"
   ]
  },
  {
   "cell_type": "markdown",
   "id": "536c6af6-2c33-48de-96d0-c1b1fe962b29",
   "metadata": {},
   "source": [
    "## Pandas"
   ]
  },
  {
   "cell_type": "code",
   "execution_count": 16,
   "id": "86b60e5e-797d-42e3-81ae-d14a8cb69bee",
   "metadata": {},
   "outputs": [],
   "source": [
    "import pandas as pd\n",
    "import numpy as np"
   ]
  },
  {
   "cell_type": "markdown",
   "id": "da35b5a5-c3b6-4674-b9e2-170d14d62686",
   "metadata": {
    "jp-MarkdownHeadingCollapsed": true
   },
   "source": [
    "### Series en Pandas"
   ]
  },
  {
   "cell_type": "code",
   "execution_count": 4,
   "id": "2b466eb3-a3d8-46c6-b04e-3d25e9e64bef",
   "metadata": {},
   "outputs": [
    {
     "data": {
      "text/plain": [
       "a    1\n",
       "b    2\n",
       "c    3\n",
       "d    4\n",
       "e    5\n",
       "dtype: int64"
      ]
     },
     "execution_count": 4,
     "metadata": {},
     "output_type": "execute_result"
    }
   ],
   "source": [
    "serie = pd.Series([1,2,3,4,5], index= ['a', 'b', 'c', 'd', 'e'])\n",
    "serie"
   ]
  },
  {
   "cell_type": "code",
   "execution_count": 5,
   "id": "b2c806d8-55f3-44e8-b100-d562bc64da23",
   "metadata": {},
   "outputs": [
    {
     "data": {
      "text/plain": [
       "a    1\n",
       "b    2\n",
       "c    3\n",
       "d    4\n",
       "e    5\n",
       "dtype: int64"
      ]
     },
     "execution_count": 5,
     "metadata": {},
     "output_type": "execute_result"
    }
   ],
   "source": [
    "#Otras formas de crear series\n",
    "diccionario = {'a': 1, 'b': 2, 'c': 3, 'd': 4, 'e': 5}\n",
    "serie1 = pd.Series(diccionario)\n",
    "serie1"
   ]
  },
  {
   "cell_type": "code",
   "execution_count": 8,
   "id": "f0589937-ee01-46bc-a252-d415411e7838",
   "metadata": {},
   "outputs": [
    {
     "data": {
      "text/plain": [
       "np.int64(1)"
      ]
     },
     "execution_count": 8,
     "metadata": {},
     "output_type": "execute_result"
    }
   ],
   "source": [
    "serie['a']"
   ]
  },
  {
   "cell_type": "code",
   "execution_count": 11,
   "id": "f2c52ee6-2b54-4491-bb10-435087b528aa",
   "metadata": {},
   "outputs": [
    {
     "name": "stdout",
     "output_type": "stream",
     "text": [
      "Index(['a', 'b', 'c', 'd', 'e'], dtype='object')\n",
      "[1 2 3 4 5]\n"
     ]
    }
   ],
   "source": [
    "print(serie.index)\n",
    "print(serie.values)"
   ]
  },
  {
   "cell_type": "code",
   "execution_count": 22,
   "id": "fe9fc9c4-c6a1-4bf1-b874-2b9d3226404f",
   "metadata": {},
   "outputs": [
    {
     "name": "stdout",
     "output_type": "stream",
     "text": [
      "Suma\n",
      "a     2\n",
      "b     4\n",
      "c     6\n",
      "d     8\n",
      "e    10\n",
      "dtype: int64\n",
      "\n",
      "Multiplicación\n",
      "a    10\n",
      "b    20\n",
      "c    30\n",
      "d    40\n",
      "e    50\n",
      "dtype: int64\n",
      "\n",
      "Raiz Cuadrada\n",
      "a    1.000000\n",
      "b    1.414214\n",
      "c    1.732051\n",
      "d    2.000000\n",
      "e    2.236068\n",
      "dtype: float64\n"
     ]
    }
   ],
   "source": [
    "#suma()\n",
    "r = serie + serie1\n",
    "print('Suma')\n",
    "print(r)\n",
    "print()\n",
    "\n",
    "#multiplicación\n",
    "print('Multiplicación')\n",
    "print(serie * 10)\n",
    "print()\n",
    "\n",
    "#raiz cuadrada\n",
    "print('Raiz Cuadrada')\n",
    "sqr = np.sqrt(serie)\n",
    "print(sqr)"
   ]
  },
  {
   "cell_type": "markdown",
   "id": "db20c325-921c-4e0c-a912-1963606c0aa6",
   "metadata": {},
   "source": [
    "### Dataframe en Pandas"
   ]
  },
  {
   "cell_type": "markdown",
   "id": "4df3e888-3435-4f89-ae0b-10d81a2eb11b",
   "metadata": {
    "jp-MarkdownHeadingCollapsed": true
   },
   "source": [
    "#### Creando DataFrame"
   ]
  },
  {
   "cell_type": "code",
   "execution_count": 27,
   "id": "2f15c76b-22a3-44bf-a6c6-8b3209591b1a",
   "metadata": {},
   "outputs": [],
   "source": [
    "dic1 = {'a': 1, 'b': 2, 'c': 3, 'd': 4, 'e': 5}\n",
    "dic2 = {'a': 6, 'b': 7, 'c': 8, 'd': 9, 'f': 10}"
   ]
  },
  {
   "cell_type": "code",
   "execution_count": 28,
   "id": "2732f570-585e-4b33-9420-72a77db366bc",
   "metadata": {},
   "outputs": [
    {
     "data": {
      "text/html": [
       "<div>\n",
       "<style scoped>\n",
       "    .dataframe tbody tr th:only-of-type {\n",
       "        vertical-align: middle;\n",
       "    }\n",
       "\n",
       "    .dataframe tbody tr th {\n",
       "        vertical-align: top;\n",
       "    }\n",
       "\n",
       "    .dataframe thead th {\n",
       "        text-align: right;\n",
       "    }\n",
       "</style>\n",
       "<table border=\"1\" class=\"dataframe\">\n",
       "  <thead>\n",
       "    <tr style=\"text-align: right;\">\n",
       "      <th></th>\n",
       "      <th>columna1</th>\n",
       "      <th>columna2</th>\n",
       "    </tr>\n",
       "  </thead>\n",
       "  <tbody>\n",
       "    <tr>\n",
       "      <th>a</th>\n",
       "      <td>1.0</td>\n",
       "      <td>6.0</td>\n",
       "    </tr>\n",
       "    <tr>\n",
       "      <th>b</th>\n",
       "      <td>2.0</td>\n",
       "      <td>7.0</td>\n",
       "    </tr>\n",
       "    <tr>\n",
       "      <th>c</th>\n",
       "      <td>3.0</td>\n",
       "      <td>8.0</td>\n",
       "    </tr>\n",
       "    <tr>\n",
       "      <th>d</th>\n",
       "      <td>4.0</td>\n",
       "      <td>9.0</td>\n",
       "    </tr>\n",
       "    <tr>\n",
       "      <th>e</th>\n",
       "      <td>5.0</td>\n",
       "      <td>NaN</td>\n",
       "    </tr>\n",
       "    <tr>\n",
       "      <th>f</th>\n",
       "      <td>NaN</td>\n",
       "      <td>10.0</td>\n",
       "    </tr>\n",
       "  </tbody>\n",
       "</table>\n",
       "</div>"
      ],
      "text/plain": [
       "   columna1  columna2\n",
       "a       1.0       6.0\n",
       "b       2.0       7.0\n",
       "c       3.0       8.0\n",
       "d       4.0       9.0\n",
       "e       5.0       NaN\n",
       "f       NaN      10.0"
      ]
     },
     "execution_count": 28,
     "metadata": {},
     "output_type": "execute_result"
    }
   ],
   "source": [
    "serie1 = pd.Series(dic1)\n",
    "serie2 = pd.Series(dic2)\n",
    "tabla = {'columna1': serie1, 'columna2': serie2}\n",
    "df = pd.DataFrame(tabla)\n",
    "df"
   ]
  },
  {
   "cell_type": "code",
   "execution_count": 30,
   "id": "db6eb01d-dc0d-42c9-9b1f-d173accd326c",
   "metadata": {},
   "outputs": [
    {
     "data": {
      "text/html": [
       "<div>\n",
       "<style scoped>\n",
       "    .dataframe tbody tr th:only-of-type {\n",
       "        vertical-align: middle;\n",
       "    }\n",
       "\n",
       "    .dataframe tbody tr th {\n",
       "        vertical-align: top;\n",
       "    }\n",
       "\n",
       "    .dataframe thead th {\n",
       "        text-align: right;\n",
       "    }\n",
       "</style>\n",
       "<table border=\"1\" class=\"dataframe\">\n",
       "  <thead>\n",
       "    <tr style=\"text-align: right;\">\n",
       "      <th></th>\n",
       "      <th>a</th>\n",
       "      <th>b</th>\n",
       "      <th>c</th>\n",
       "      <th>d</th>\n",
       "      <th>e</th>\n",
       "      <th>f</th>\n",
       "    </tr>\n",
       "  </thead>\n",
       "  <tbody>\n",
       "    <tr>\n",
       "      <th>0</th>\n",
       "      <td>1</td>\n",
       "      <td>2</td>\n",
       "      <td>3</td>\n",
       "      <td>4</td>\n",
       "      <td>5.0</td>\n",
       "      <td>NaN</td>\n",
       "    </tr>\n",
       "    <tr>\n",
       "      <th>1</th>\n",
       "      <td>6</td>\n",
       "      <td>7</td>\n",
       "      <td>8</td>\n",
       "      <td>9</td>\n",
       "      <td>NaN</td>\n",
       "      <td>10.0</td>\n",
       "    </tr>\n",
       "    <tr>\n",
       "      <th>2</th>\n",
       "      <td>11</td>\n",
       "      <td>12</td>\n",
       "      <td>13</td>\n",
       "      <td>14</td>\n",
       "      <td>NaN</td>\n",
       "      <td>15.0</td>\n",
       "    </tr>\n",
       "  </tbody>\n",
       "</table>\n",
       "</div>"
      ],
      "text/plain": [
       "    a   b   c   d    e     f\n",
       "0   1   2   3   4  5.0   NaN\n",
       "1   6   7   8   9  NaN  10.0\n",
       "2  11  12  13  14  NaN  15.0"
      ]
     },
     "execution_count": 30,
     "metadata": {},
     "output_type": "execute_result"
    }
   ],
   "source": [
    "#Creando dataframe mediante una lista de diccionarios\n",
    "dic3 = {'a': 11, 'b': 12, 'c': 13, 'd': 14, 'f': 15}\n",
    "df = pd.DataFrame([dic1, dic2, dic3])\n",
    "df"
   ]
  },
  {
   "cell_type": "markdown",
   "id": "cd279fd8-6577-4366-9f03-fc2d22e8c3a5",
   "metadata": {},
   "source": [
    "#### Operaciones con DataFrame"
   ]
  },
  {
   "cell_type": "code",
   "execution_count": 31,
   "id": "576a29ee-0393-40fd-8585-20adaf3b5aa4",
   "metadata": {},
   "outputs": [
    {
     "data": {
      "text/plain": [
       "0     1\n",
       "1     6\n",
       "2    11\n",
       "Name: a, dtype: int64"
      ]
     },
     "execution_count": 31,
     "metadata": {},
     "output_type": "execute_result"
    }
   ],
   "source": [
    "#Consultando el dataframe\n",
    "df['a']"
   ]
  },
  {
   "cell_type": "code",
   "execution_count": 103,
   "id": "855d42d4-7a39-4e9f-a3d0-8c0640ec6820",
   "metadata": {},
   "outputs": [
    {
     "data": {
      "text/html": [
       "<div>\n",
       "<style scoped>\n",
       "    .dataframe tbody tr th:only-of-type {\n",
       "        vertical-align: middle;\n",
       "    }\n",
       "\n",
       "    .dataframe tbody tr th {\n",
       "        vertical-align: top;\n",
       "    }\n",
       "\n",
       "    .dataframe thead th {\n",
       "        text-align: right;\n",
       "    }\n",
       "</style>\n",
       "<table border=\"1\" class=\"dataframe\">\n",
       "  <thead>\n",
       "    <tr style=\"text-align: right;\">\n",
       "      <th></th>\n",
       "      <th>columna1</th>\n",
       "      <th>columna2</th>\n",
       "      <th>Columna3</th>\n",
       "    </tr>\n",
       "  </thead>\n",
       "  <tbody>\n",
       "    <tr>\n",
       "      <th>a</th>\n",
       "      <td>1.0</td>\n",
       "      <td>6.0</td>\n",
       "      <td>11.0</td>\n",
       "    </tr>\n",
       "    <tr>\n",
       "      <th>b</th>\n",
       "      <td>2.0</td>\n",
       "      <td>7.0</td>\n",
       "      <td>12.0</td>\n",
       "    </tr>\n",
       "    <tr>\n",
       "      <th>c</th>\n",
       "      <td>3.0</td>\n",
       "      <td>8.0</td>\n",
       "      <td>13.0</td>\n",
       "    </tr>\n",
       "    <tr>\n",
       "      <th>d</th>\n",
       "      <td>4.0</td>\n",
       "      <td>9.0</td>\n",
       "      <td>14.0</td>\n",
       "    </tr>\n",
       "    <tr>\n",
       "      <th>e</th>\n",
       "      <td>5.0</td>\n",
       "      <td>NaN</td>\n",
       "      <td>NaN</td>\n",
       "    </tr>\n",
       "    <tr>\n",
       "      <th>f</th>\n",
       "      <td>NaN</td>\n",
       "      <td>10.0</td>\n",
       "      <td>15.0</td>\n",
       "    </tr>\n",
       "  </tbody>\n",
       "</table>\n",
       "</div>"
      ],
      "text/plain": [
       "   columna1  columna2  Columna3\n",
       "a       1.0       6.0      11.0\n",
       "b       2.0       7.0      12.0\n",
       "c       3.0       8.0      13.0\n",
       "d       4.0       9.0      14.0\n",
       "e       5.0       NaN       NaN\n",
       "f       NaN      10.0      15.0"
      ]
     },
     "execution_count": 103,
     "metadata": {},
     "output_type": "execute_result"
    }
   ],
   "source": [
    "#Agregar nueva columna al DataFrame\n",
    "serie1 = pd.Series(dic1)\n",
    "serie2 = pd.Series(dic2)\n",
    "tabla = {'columna1': serie1, 'columna2': serie2}\n",
    "df = pd.DataFrame(tabla)\n",
    "df\n",
    "columna3 = pd.Series({'a': 11, 'b': 12, 'c': 13, 'd': 14, 'f': 15})\n",
    "df['Columna3'] = columna3\n",
    "df\n"
   ]
  },
  {
   "cell_type": "code",
   "execution_count": 35,
   "id": "fc756e39-5556-4165-8739-f635f37e09ba",
   "metadata": {},
   "outputs": [
    {
     "data": {
      "text/html": [
       "<div>\n",
       "<style scoped>\n",
       "    .dataframe tbody tr th:only-of-type {\n",
       "        vertical-align: middle;\n",
       "    }\n",
       "\n",
       "    .dataframe tbody tr th {\n",
       "        vertical-align: top;\n",
       "    }\n",
       "\n",
       "    .dataframe thead th {\n",
       "        text-align: right;\n",
       "    }\n",
       "</style>\n",
       "<table border=\"1\" class=\"dataframe\">\n",
       "  <thead>\n",
       "    <tr style=\"text-align: right;\">\n",
       "      <th></th>\n",
       "      <th>columna1</th>\n",
       "      <th>columna2</th>\n",
       "    </tr>\n",
       "  </thead>\n",
       "  <tbody>\n",
       "    <tr>\n",
       "      <th>a</th>\n",
       "      <td>1.0</td>\n",
       "      <td>6.0</td>\n",
       "    </tr>\n",
       "    <tr>\n",
       "      <th>b</th>\n",
       "      <td>2.0</td>\n",
       "      <td>7.0</td>\n",
       "    </tr>\n",
       "    <tr>\n",
       "      <th>c</th>\n",
       "      <td>3.0</td>\n",
       "      <td>8.0</td>\n",
       "    </tr>\n",
       "    <tr>\n",
       "      <th>d</th>\n",
       "      <td>4.0</td>\n",
       "      <td>9.0</td>\n",
       "    </tr>\n",
       "    <tr>\n",
       "      <th>e</th>\n",
       "      <td>5.0</td>\n",
       "      <td>NaN</td>\n",
       "    </tr>\n",
       "    <tr>\n",
       "      <th>f</th>\n",
       "      <td>NaN</td>\n",
       "      <td>10.0</td>\n",
       "    </tr>\n",
       "  </tbody>\n",
       "</table>\n",
       "</div>"
      ],
      "text/plain": [
       "   columna1  columna2\n",
       "a       1.0       6.0\n",
       "b       2.0       7.0\n",
       "c       3.0       8.0\n",
       "d       4.0       9.0\n",
       "e       5.0       NaN\n",
       "f       NaN      10.0"
      ]
     },
     "execution_count": 35,
     "metadata": {},
     "output_type": "execute_result"
    }
   ],
   "source": [
    "#Delete a column from the DataFrame\n",
    "del df['Columna3']\n",
    "df"
   ]
  },
  {
   "cell_type": "code",
   "execution_count": 36,
   "id": "7bc85a1a-66d3-430a-bc44-f1f8cc56de3d",
   "metadata": {},
   "outputs": [
    {
     "data": {
      "text/plain": [
       "columna1    1.0\n",
       "columna2    6.0\n",
       "Name: a, dtype: float64"
      ]
     },
     "execution_count": 36,
     "metadata": {},
     "output_type": "execute_result"
    }
   ],
   "source": [
    "#Accediendo a las filas por sus etiquetas\n",
    "df.loc['a']"
   ]
  },
  {
   "cell_type": "code",
   "execution_count": 40,
   "id": "60ef9a90-a318-4fbf-b764-f1a917f7cf21",
   "metadata": {},
   "outputs": [
    {
     "data": {
      "text/html": [
       "<div>\n",
       "<style scoped>\n",
       "    .dataframe tbody tr th:only-of-type {\n",
       "        vertical-align: middle;\n",
       "    }\n",
       "\n",
       "    .dataframe tbody tr th {\n",
       "        vertical-align: top;\n",
       "    }\n",
       "\n",
       "    .dataframe thead th {\n",
       "        text-align: right;\n",
       "    }\n",
       "</style>\n",
       "<table border=\"1\" class=\"dataframe\">\n",
       "  <thead>\n",
       "    <tr style=\"text-align: right;\">\n",
       "      <th></th>\n",
       "      <th>columna1</th>\n",
       "      <th>columna2</th>\n",
       "    </tr>\n",
       "  </thead>\n",
       "  <tbody>\n",
       "    <tr>\n",
       "      <th>c</th>\n",
       "      <td>3.0</td>\n",
       "      <td>8.0</td>\n",
       "    </tr>\n",
       "    <tr>\n",
       "      <th>d</th>\n",
       "      <td>4.0</td>\n",
       "      <td>9.0</td>\n",
       "    </tr>\n",
       "    <tr>\n",
       "      <th>e</th>\n",
       "      <td>5.0</td>\n",
       "      <td>NaN</td>\n",
       "    </tr>\n",
       "  </tbody>\n",
       "</table>\n",
       "</div>"
      ],
      "text/plain": [
       "   columna1  columna2\n",
       "c       3.0       8.0\n",
       "d       4.0       9.0\n",
       "e       5.0       NaN"
      ]
     },
     "execution_count": 40,
     "metadata": {},
     "output_type": "execute_result"
    }
   ],
   "source": [
    "#Accediendo a las filas por su posición\n",
    "df.iloc[2:5]"
   ]
  },
  {
   "cell_type": "code",
   "execution_count": 45,
   "id": "cb31cc59-0594-41a6-96c3-017ec8a216f9",
   "metadata": {},
   "outputs": [
    {
     "name": "stdout",
     "output_type": "stream",
     "text": [
      "a     True\n",
      "b     True\n",
      "c     True\n",
      "d     True\n",
      "e    False\n",
      "f    False\n",
      "dtype: bool\n"
     ]
    },
    {
     "data": {
      "text/html": [
       "<div>\n",
       "<style scoped>\n",
       "    .dataframe tbody tr th:only-of-type {\n",
       "        vertical-align: middle;\n",
       "    }\n",
       "\n",
       "    .dataframe tbody tr th {\n",
       "        vertical-align: top;\n",
       "    }\n",
       "\n",
       "    .dataframe thead th {\n",
       "        text-align: right;\n",
       "    }\n",
       "</style>\n",
       "<table border=\"1\" class=\"dataframe\">\n",
       "  <thead>\n",
       "    <tr style=\"text-align: right;\">\n",
       "      <th></th>\n",
       "      <th>columna1</th>\n",
       "      <th>columna2</th>\n",
       "    </tr>\n",
       "  </thead>\n",
       "  <tbody>\n",
       "    <tr>\n",
       "      <th>a</th>\n",
       "      <td>1.0</td>\n",
       "      <td>6.0</td>\n",
       "    </tr>\n",
       "    <tr>\n",
       "      <th>b</th>\n",
       "      <td>2.0</td>\n",
       "      <td>7.0</td>\n",
       "    </tr>\n",
       "    <tr>\n",
       "      <th>c</th>\n",
       "      <td>3.0</td>\n",
       "      <td>8.0</td>\n",
       "    </tr>\n",
       "    <tr>\n",
       "      <th>d</th>\n",
       "      <td>4.0</td>\n",
       "      <td>9.0</td>\n",
       "    </tr>\n",
       "  </tbody>\n",
       "</table>\n",
       "</div>"
      ],
      "text/plain": [
       "   columna1  columna2\n",
       "a       1.0       6.0\n",
       "b       2.0       7.0\n",
       "c       3.0       8.0\n",
       "d       4.0       9.0"
      ]
     },
     "execution_count": 45,
     "metadata": {},
     "output_type": "execute_result"
    }
   ],
   "source": [
    "#Accediendo a las filas por array booleano\n",
    "filtro = np.less_equal(df['columna1'], df['columna2'])\n",
    "print(filtro)\n",
    "df[filtro]"
   ]
  },
  {
   "cell_type": "code",
   "execution_count": 51,
   "id": "e01e8b4a-9291-4aeb-a5e3-05d138028f79",
   "metadata": {},
   "outputs": [
    {
     "data": {
      "text/html": [
       "<div>\n",
       "<style scoped>\n",
       "    .dataframe tbody tr th:only-of-type {\n",
       "        vertical-align: middle;\n",
       "    }\n",
       "\n",
       "    .dataframe tbody tr th {\n",
       "        vertical-align: top;\n",
       "    }\n",
       "\n",
       "    .dataframe thead th {\n",
       "        text-align: right;\n",
       "    }\n",
       "</style>\n",
       "<table border=\"1\" class=\"dataframe\">\n",
       "  <thead>\n",
       "    <tr style=\"text-align: right;\">\n",
       "      <th></th>\n",
       "      <th>columna1</th>\n",
       "      <th>columna2</th>\n",
       "    </tr>\n",
       "  </thead>\n",
       "  <tbody>\n",
       "    <tr>\n",
       "      <th>a</th>\n",
       "      <td>2.0</td>\n",
       "      <td>12.0</td>\n",
       "    </tr>\n",
       "    <tr>\n",
       "      <th>b</th>\n",
       "      <td>4.0</td>\n",
       "      <td>14.0</td>\n",
       "    </tr>\n",
       "    <tr>\n",
       "      <th>c</th>\n",
       "      <td>6.0</td>\n",
       "      <td>16.0</td>\n",
       "    </tr>\n",
       "    <tr>\n",
       "      <th>d</th>\n",
       "      <td>8.0</td>\n",
       "      <td>18.0</td>\n",
       "    </tr>\n",
       "    <tr>\n",
       "      <th>e</th>\n",
       "      <td>10.0</td>\n",
       "      <td>NaN</td>\n",
       "    </tr>\n",
       "    <tr>\n",
       "      <th>f</th>\n",
       "      <td>NaN</td>\n",
       "      <td>20.0</td>\n",
       "    </tr>\n",
       "  </tbody>\n",
       "</table>\n",
       "</div>"
      ],
      "text/plain": [
       "   columna1  columna2\n",
       "a       2.0      12.0\n",
       "b       4.0      14.0\n",
       "c       6.0      16.0\n",
       "d       8.0      18.0\n",
       "e      10.0       NaN\n",
       "f       NaN      20.0"
      ]
     },
     "execution_count": 51,
     "metadata": {},
     "output_type": "execute_result"
    }
   ],
   "source": [
    "#multiplicación\n",
    "res = df * 2\n",
    "res"
   ]
  },
  {
   "cell_type": "code",
   "execution_count": 49,
   "id": "a66ee7cb-4ba8-4c17-813b-79ebd3978b51",
   "metadata": {},
   "outputs": [
    {
     "data": {
      "text/html": [
       "<div>\n",
       "<style scoped>\n",
       "    .dataframe tbody tr th:only-of-type {\n",
       "        vertical-align: middle;\n",
       "    }\n",
       "\n",
       "    .dataframe tbody tr th {\n",
       "        vertical-align: top;\n",
       "    }\n",
       "\n",
       "    .dataframe thead th {\n",
       "        text-align: right;\n",
       "    }\n",
       "</style>\n",
       "<table border=\"1\" class=\"dataframe\">\n",
       "  <thead>\n",
       "    <tr style=\"text-align: right;\">\n",
       "      <th></th>\n",
       "      <th>columna1</th>\n",
       "      <th>columna2</th>\n",
       "    </tr>\n",
       "  </thead>\n",
       "  <tbody>\n",
       "    <tr>\n",
       "      <th>a</th>\n",
       "      <td>3.0</td>\n",
       "      <td>18.0</td>\n",
       "    </tr>\n",
       "    <tr>\n",
       "      <th>b</th>\n",
       "      <td>6.0</td>\n",
       "      <td>21.0</td>\n",
       "    </tr>\n",
       "    <tr>\n",
       "      <th>c</th>\n",
       "      <td>9.0</td>\n",
       "      <td>24.0</td>\n",
       "    </tr>\n",
       "    <tr>\n",
       "      <th>d</th>\n",
       "      <td>12.0</td>\n",
       "      <td>27.0</td>\n",
       "    </tr>\n",
       "    <tr>\n",
       "      <th>e</th>\n",
       "      <td>15.0</td>\n",
       "      <td>NaN</td>\n",
       "    </tr>\n",
       "    <tr>\n",
       "      <th>f</th>\n",
       "      <td>NaN</td>\n",
       "      <td>30.0</td>\n",
       "    </tr>\n",
       "  </tbody>\n",
       "</table>\n",
       "</div>"
      ],
      "text/plain": [
       "   columna1  columna2\n",
       "a       3.0      18.0\n",
       "b       6.0      21.0\n",
       "c       9.0      24.0\n",
       "d      12.0      27.0\n",
       "e      15.0       NaN\n",
       "f       NaN      30.0"
      ]
     },
     "execution_count": 49,
     "metadata": {},
     "output_type": "execute_result"
    }
   ],
   "source": [
    "#Suma\n",
    "df + res"
   ]
  },
  {
   "cell_type": "code",
   "execution_count": 52,
   "id": "8fd57a40-f3f2-4f47-9328-00c1c8dc567c",
   "metadata": {},
   "outputs": [
    {
     "data": {
      "text/html": [
       "<div>\n",
       "<style scoped>\n",
       "    .dataframe tbody tr th:only-of-type {\n",
       "        vertical-align: middle;\n",
       "    }\n",
       "\n",
       "    .dataframe tbody tr th {\n",
       "        vertical-align: top;\n",
       "    }\n",
       "\n",
       "    .dataframe thead th {\n",
       "        text-align: right;\n",
       "    }\n",
       "</style>\n",
       "<table border=\"1\" class=\"dataframe\">\n",
       "  <thead>\n",
       "    <tr style=\"text-align: right;\">\n",
       "      <th></th>\n",
       "      <th>columna1</th>\n",
       "      <th>columna2</th>\n",
       "    </tr>\n",
       "  </thead>\n",
       "  <tbody>\n",
       "    <tr>\n",
       "      <th>a</th>\n",
       "      <td>1.000000</td>\n",
       "      <td>2.449490</td>\n",
       "    </tr>\n",
       "    <tr>\n",
       "      <th>b</th>\n",
       "      <td>1.414214</td>\n",
       "      <td>2.645751</td>\n",
       "    </tr>\n",
       "    <tr>\n",
       "      <th>c</th>\n",
       "      <td>1.732051</td>\n",
       "      <td>2.828427</td>\n",
       "    </tr>\n",
       "    <tr>\n",
       "      <th>d</th>\n",
       "      <td>2.000000</td>\n",
       "      <td>3.000000</td>\n",
       "    </tr>\n",
       "    <tr>\n",
       "      <th>e</th>\n",
       "      <td>2.236068</td>\n",
       "      <td>NaN</td>\n",
       "    </tr>\n",
       "    <tr>\n",
       "      <th>f</th>\n",
       "      <td>NaN</td>\n",
       "      <td>3.162278</td>\n",
       "    </tr>\n",
       "  </tbody>\n",
       "</table>\n",
       "</div>"
      ],
      "text/plain": [
       "   columna1  columna2\n",
       "a  1.000000  2.449490\n",
       "b  1.414214  2.645751\n",
       "c  1.732051  2.828427\n",
       "d  2.000000  3.000000\n",
       "e  2.236068       NaN\n",
       "f       NaN  3.162278"
      ]
     },
     "execution_count": 52,
     "metadata": {},
     "output_type": "execute_result"
    }
   ],
   "source": [
    "#Raiz Cuadrada\n",
    "np.sqrt(df)"
   ]
  },
  {
   "cell_type": "code",
   "execution_count": 54,
   "id": "d017bd1a-305e-48be-a82a-4daef936ce4d",
   "metadata": {},
   "outputs": [
    {
     "name": "stdout",
     "output_type": "stream",
     "text": [
      "   columna1  columna2\n",
      "a       1.0       6.0\n",
      "b       2.0       7.0\n",
      "c       3.0       8.0\n",
      "d       4.0       9.0\n",
      "e       5.0       NaN\n",
      "f       NaN      10.0\n",
      "   a  b  c  d    e     f\n",
      "0  1  2  3  4  5.0   NaN\n",
      "1  6  7  8  9  NaN  10.0\n"
     ]
    },
    {
     "data": {
      "text/html": [
       "<div>\n",
       "<style scoped>\n",
       "    .dataframe tbody tr th:only-of-type {\n",
       "        vertical-align: middle;\n",
       "    }\n",
       "\n",
       "    .dataframe tbody tr th {\n",
       "        vertical-align: top;\n",
       "    }\n",
       "\n",
       "    .dataframe thead th {\n",
       "        text-align: right;\n",
       "    }\n",
       "</style>\n",
       "<table border=\"1\" class=\"dataframe\">\n",
       "  <thead>\n",
       "    <tr style=\"text-align: right;\">\n",
       "      <th></th>\n",
       "      <th>a</th>\n",
       "      <th>b</th>\n",
       "      <th>c</th>\n",
       "      <th>d</th>\n",
       "      <th>e</th>\n",
       "      <th>f</th>\n",
       "    </tr>\n",
       "  </thead>\n",
       "  <tbody>\n",
       "    <tr>\n",
       "      <th>columna1</th>\n",
       "      <td>1.0</td>\n",
       "      <td>2.0</td>\n",
       "      <td>3.0</td>\n",
       "      <td>4.0</td>\n",
       "      <td>5.0</td>\n",
       "      <td>NaN</td>\n",
       "    </tr>\n",
       "    <tr>\n",
       "      <th>columna2</th>\n",
       "      <td>6.0</td>\n",
       "      <td>7.0</td>\n",
       "      <td>8.0</td>\n",
       "      <td>9.0</td>\n",
       "      <td>NaN</td>\n",
       "      <td>10.0</td>\n",
       "    </tr>\n",
       "  </tbody>\n",
       "</table>\n",
       "</div>"
      ],
      "text/plain": [
       "            a    b    c    d    e     f\n",
       "columna1  1.0  2.0  3.0  4.0  5.0   NaN\n",
       "columna2  6.0  7.0  8.0  9.0  NaN  10.0"
      ]
     },
     "execution_count": 54,
     "metadata": {},
     "output_type": "execute_result"
    }
   ],
   "source": [
    "#La Transpuesta\n",
    "serie1 = pd.Series(dic1)\n",
    "serie2 = pd.Series(dic2)\n",
    "tabla = {'columna1': serie1, 'columna2': serie2}\n",
    "df1 = pd.DataFrame(tabla)\n",
    "print(df1)\n",
    "\n",
    "df2 = pd.DataFrame([dic1, dic2])\n",
    "print(df2)\n",
    "df1.T\n"
   ]
  },
  {
   "cell_type": "markdown",
   "id": "9f242b17-c1c4-42cd-85d0-8d875b7df829",
   "metadata": {
    "jp-MarkdownHeadingCollapsed": true
   },
   "source": [
    "#### Funciones de Gestión de Datos"
   ]
  },
  {
   "cell_type": "code",
   "execution_count": 114,
   "id": "0d348f65-5ab2-4db7-a83b-5799c5ffe87c",
   "metadata": {},
   "outputs": [
    {
     "data": {
      "text/html": [
       "<div>\n",
       "<style scoped>\n",
       "    .dataframe tbody tr th:only-of-type {\n",
       "        vertical-align: middle;\n",
       "    }\n",
       "\n",
       "    .dataframe tbody tr th {\n",
       "        vertical-align: top;\n",
       "    }\n",
       "\n",
       "    .dataframe thead th {\n",
       "        text-align: right;\n",
       "    }\n",
       "</style>\n",
       "<table border=\"1\" class=\"dataframe\">\n",
       "  <thead>\n",
       "    <tr style=\"text-align: right;\">\n",
       "      <th></th>\n",
       "      <th>nombre</th>\n",
       "      <th>localidad</th>\n",
       "      <th>edad</th>\n",
       "      <th>estado civil</th>\n",
       "      <th>sexo</th>\n",
       "      <th>salario</th>\n",
       "    </tr>\n",
       "  </thead>\n",
       "  <tbody>\n",
       "    <tr>\n",
       "      <th>user3</th>\n",
       "      <td>Juan</td>\n",
       "      <td>Barcelona</td>\n",
       "      <td>32</td>\n",
       "      <td>Soltero</td>\n",
       "      <td>Hombre</td>\n",
       "      <td>45</td>\n",
       "    </tr>\n",
       "    <tr>\n",
       "      <th>user4</th>\n",
       "      <td>Alicia</td>\n",
       "      <td>Santander</td>\n",
       "      <td>47</td>\n",
       "      <td>Casado</td>\n",
       "      <td>Mujer</td>\n",
       "      <td>78</td>\n",
       "    </tr>\n",
       "    <tr>\n",
       "      <th>user2</th>\n",
       "      <td>Marcos</td>\n",
       "      <td>Madrid</td>\n",
       "      <td>31</td>\n",
       "      <td>Casado</td>\n",
       "      <td>Hombre</td>\n",
       "      <td>120</td>\n",
       "    </tr>\n",
       "    <tr>\n",
       "      <th>user1</th>\n",
       "      <td>Isabel</td>\n",
       "      <td>Zaragoza</td>\n",
       "      <td>70</td>\n",
       "      <td>Soltero</td>\n",
       "      <td>Mujer</td>\n",
       "      <td>92</td>\n",
       "    </tr>\n",
       "  </tbody>\n",
       "</table>\n",
       "</div>"
      ],
      "text/plain": [
       "       nombre  localidad edad estado civil    sexo salario\n",
       "user3    Juan  Barcelona   32      Soltero  Hombre      45\n",
       "user4  Alicia  Santander   47       Casado   Mujer      78\n",
       "user2  Marcos     Madrid   31       Casado  Hombre     120\n",
       "user1  Isabel   Zaragoza   70      Soltero   Mujer      92"
      ]
     },
     "execution_count": 114,
     "metadata": {},
     "output_type": "execute_result"
    }
   ],
   "source": [
    "diccionario = {'user3': pd. Series ( ['Juan' , 'Barcelona', 32, 'Soltero', 'Hombre', 45 ], index=['nombre', 'localidad' , 'edad' ,'estado civil', 'sexo', 'salario' ]),\n",
    "'user4': pd. Series ( ['Alicia', 'Santander' , 47, 'Casado' , 'Mujer',78 ], index=['nombre' , 'localidad' , 'edad' , 'estado civil','sexo', 'salario' ] ),\n",
    "'user2': pd. Series ( ['Marcos' , 'Madrid' , 31, 'Casado' , 'Hombre',120 ], index=['nombre' , 'localidad' , 'edad' , 'estado civil','sexo', 'salario' ] ),\n",
    "'user1': pd. Series ( ['Isabel', 'Zaragoza' , 70, 'Soltero' , 'Mujer',92 ], index=['nombre' , 'localidad', 'edad' , 'estado civil','sexo', 'salario' ] ) }\n",
    "df = pd.DataFrame(diccionario).T\n",
    "df"
   ]
  },
  {
   "cell_type": "code",
   "execution_count": 62,
   "id": "29e32a03-68d0-4639-9c09-8c4deaaf7eb5",
   "metadata": {},
   "outputs": [
    {
     "data": {
      "text/html": [
       "<div>\n",
       "<style scoped>\n",
       "    .dataframe tbody tr th:only-of-type {\n",
       "        vertical-align: middle;\n",
       "    }\n",
       "\n",
       "    .dataframe tbody tr th {\n",
       "        vertical-align: top;\n",
       "    }\n",
       "\n",
       "    .dataframe thead th {\n",
       "        text-align: right;\n",
       "    }\n",
       "</style>\n",
       "<table border=\"1\" class=\"dataframe\">\n",
       "  <thead>\n",
       "    <tr style=\"text-align: right;\">\n",
       "      <th></th>\n",
       "      <th>nombre</th>\n",
       "      <th>localidad</th>\n",
       "      <th>edad</th>\n",
       "      <th>estado civil</th>\n",
       "      <th>sexo</th>\n",
       "    </tr>\n",
       "  </thead>\n",
       "  <tbody>\n",
       "    <tr>\n",
       "      <th>userl</th>\n",
       "      <td>Isabel</td>\n",
       "      <td>Zaragoza</td>\n",
       "      <td>70</td>\n",
       "      <td>Soltero</td>\n",
       "      <td>Mujer</td>\n",
       "    </tr>\n",
       "    <tr>\n",
       "      <th>user4</th>\n",
       "      <td>Alicia</td>\n",
       "      <td>Santander</td>\n",
       "      <td>47</td>\n",
       "      <td>Casado</td>\n",
       "      <td>Mujer</td>\n",
       "    </tr>\n",
       "    <tr>\n",
       "      <th>user3</th>\n",
       "      <td>Juan</td>\n",
       "      <td>Barcelona</td>\n",
       "      <td>32</td>\n",
       "      <td>Soltero</td>\n",
       "      <td>Hombre</td>\n",
       "    </tr>\n",
       "    <tr>\n",
       "      <th>user2</th>\n",
       "      <td>Marcos</td>\n",
       "      <td>Madrid</td>\n",
       "      <td>31</td>\n",
       "      <td>Casado</td>\n",
       "      <td>Hombre</td>\n",
       "    </tr>\n",
       "  </tbody>\n",
       "</table>\n",
       "</div>"
      ],
      "text/plain": [
       "       nombre  localidad edad estado civil    sexo\n",
       "userl  Isabel   Zaragoza   70      Soltero   Mujer\n",
       "user4  Alicia  Santander   47       Casado   Mujer\n",
       "user3    Juan  Barcelona   32      Soltero  Hombre\n",
       "user2  Marcos     Madrid   31       Casado  Hombre"
      ]
     },
     "execution_count": 62,
     "metadata": {},
     "output_type": "execute_result"
    }
   ],
   "source": [
    "df.sort_values('edad', ascending=False)"
   ]
  },
  {
   "cell_type": "code",
   "execution_count": 65,
   "id": "1b65751a-456b-4355-b7c0-2c7bd9946ac6",
   "metadata": {},
   "outputs": [
    {
     "data": {
      "text/html": [
       "<div>\n",
       "<style scoped>\n",
       "    .dataframe tbody tr th:only-of-type {\n",
       "        vertical-align: middle;\n",
       "    }\n",
       "\n",
       "    .dataframe tbody tr th {\n",
       "        vertical-align: top;\n",
       "    }\n",
       "\n",
       "    .dataframe thead th {\n",
       "        text-align: right;\n",
       "    }\n",
       "</style>\n",
       "<table border=\"1\" class=\"dataframe\">\n",
       "  <thead>\n",
       "    <tr style=\"text-align: right;\">\n",
       "      <th></th>\n",
       "      <th>nombre</th>\n",
       "      <th>localidad</th>\n",
       "      <th>edad</th>\n",
       "      <th>estado civil</th>\n",
       "      <th>sexo</th>\n",
       "    </tr>\n",
       "  </thead>\n",
       "  <tbody>\n",
       "    <tr>\n",
       "      <th>user1</th>\n",
       "      <td>Isabel</td>\n",
       "      <td>Zaragoza</td>\n",
       "      <td>70</td>\n",
       "      <td>Soltero</td>\n",
       "      <td>Mujer</td>\n",
       "    </tr>\n",
       "    <tr>\n",
       "      <th>user2</th>\n",
       "      <td>Marcos</td>\n",
       "      <td>Madrid</td>\n",
       "      <td>31</td>\n",
       "      <td>Casado</td>\n",
       "      <td>Hombre</td>\n",
       "    </tr>\n",
       "    <tr>\n",
       "      <th>user3</th>\n",
       "      <td>Juan</td>\n",
       "      <td>Barcelona</td>\n",
       "      <td>32</td>\n",
       "      <td>Soltero</td>\n",
       "      <td>Hombre</td>\n",
       "    </tr>\n",
       "    <tr>\n",
       "      <th>user4</th>\n",
       "      <td>Alicia</td>\n",
       "      <td>Santander</td>\n",
       "      <td>47</td>\n",
       "      <td>Casado</td>\n",
       "      <td>Mujer</td>\n",
       "    </tr>\n",
       "  </tbody>\n",
       "</table>\n",
       "</div>"
      ],
      "text/plain": [
       "       nombre  localidad edad estado civil    sexo\n",
       "user1  Isabel   Zaragoza   70      Soltero   Mujer\n",
       "user2  Marcos     Madrid   31       Casado  Hombre\n",
       "user3    Juan  Barcelona   32      Soltero  Hombre\n",
       "user4  Alicia  Santander   47       Casado   Mujer"
      ]
     },
     "execution_count": 65,
     "metadata": {},
     "output_type": "execute_result"
    }
   ],
   "source": [
    "df.sort_index()"
   ]
  },
  {
   "cell_type": "code",
   "execution_count": 74,
   "id": "72c76301-e4d8-4041-b3c2-b55525dc8c6d",
   "metadata": {},
   "outputs": [
    {
     "data": {
      "text/html": [
       "<div>\n",
       "<style scoped>\n",
       "    .dataframe tbody tr th:only-of-type {\n",
       "        vertical-align: middle;\n",
       "    }\n",
       "\n",
       "    .dataframe tbody tr th {\n",
       "        vertical-align: top;\n",
       "    }\n",
       "\n",
       "    .dataframe thead th {\n",
       "        text-align: right;\n",
       "    }\n",
       "</style>\n",
       "<table border=\"1\" class=\"dataframe\">\n",
       "  <thead>\n",
       "    <tr style=\"text-align: right;\">\n",
       "      <th></th>\n",
       "      <th>nombre</th>\n",
       "      <th>localidad</th>\n",
       "      <th>edad</th>\n",
       "      <th>estado civil</th>\n",
       "    </tr>\n",
       "    <tr>\n",
       "      <th>sexo</th>\n",
       "      <th></th>\n",
       "      <th></th>\n",
       "      <th></th>\n",
       "      <th></th>\n",
       "    </tr>\n",
       "  </thead>\n",
       "  <tbody>\n",
       "    <tr>\n",
       "      <th>Hombre</th>\n",
       "      <td>2</td>\n",
       "      <td>2</td>\n",
       "      <td>2</td>\n",
       "      <td>2</td>\n",
       "    </tr>\n",
       "    <tr>\n",
       "      <th>Mujer</th>\n",
       "      <td>2</td>\n",
       "      <td>2</td>\n",
       "      <td>2</td>\n",
       "      <td>2</td>\n",
       "    </tr>\n",
       "  </tbody>\n",
       "</table>\n",
       "</div>"
      ],
      "text/plain": [
       "        nombre  localidad  edad  estado civil\n",
       "sexo                                         \n",
       "Hombre       2          2     2             2\n",
       "Mujer        2          2     2             2"
      ]
     },
     "execution_count": 74,
     "metadata": {},
     "output_type": "execute_result"
    }
   ],
   "source": [
    "#Agrupar por estado civil y contar cuando elementos en cada grupo\n",
    "df.groupby('sexo').count()\n"
   ]
  },
  {
   "cell_type": "code",
   "execution_count": 120,
   "id": "353ee665-4063-41cc-a41b-30dfa7dc5f11",
   "metadata": {},
   "outputs": [
    {
     "data": {
      "text/html": [
       "<div>\n",
       "<style scoped>\n",
       "    .dataframe tbody tr th:only-of-type {\n",
       "        vertical-align: middle;\n",
       "    }\n",
       "\n",
       "    .dataframe tbody tr th {\n",
       "        vertical-align: top;\n",
       "    }\n",
       "\n",
       "    .dataframe thead th {\n",
       "        text-align: right;\n",
       "    }\n",
       "</style>\n",
       "<table border=\"1\" class=\"dataframe\">\n",
       "  <thead>\n",
       "    <tr style=\"text-align: right;\">\n",
       "      <th></th>\n",
       "      <th>nombre</th>\n",
       "      <th>localidad</th>\n",
       "      <th>edad</th>\n",
       "      <th>estado civil</th>\n",
       "      <th>sexo</th>\n",
       "      <th>salario</th>\n",
       "      <th>salario formateado</th>\n",
       "    </tr>\n",
       "  </thead>\n",
       "  <tbody>\n",
       "    <tr>\n",
       "      <th>user3</th>\n",
       "      <td>Juan</td>\n",
       "      <td>Barcelona</td>\n",
       "      <td>32</td>\n",
       "      <td>Soltero</td>\n",
       "      <td>Hombre</td>\n",
       "      <td>45</td>\n",
       "      <td>45000</td>\n",
       "    </tr>\n",
       "    <tr>\n",
       "      <th>user4</th>\n",
       "      <td>Alicia</td>\n",
       "      <td>Santander</td>\n",
       "      <td>47</td>\n",
       "      <td>Casado</td>\n",
       "      <td>Mujer</td>\n",
       "      <td>78</td>\n",
       "      <td>78000</td>\n",
       "    </tr>\n",
       "    <tr>\n",
       "      <th>user2</th>\n",
       "      <td>Marcos</td>\n",
       "      <td>Madrid</td>\n",
       "      <td>31</td>\n",
       "      <td>Casado</td>\n",
       "      <td>Hombre</td>\n",
       "      <td>120</td>\n",
       "      <td>120000</td>\n",
       "    </tr>\n",
       "    <tr>\n",
       "      <th>user1</th>\n",
       "      <td>Isabel</td>\n",
       "      <td>Zaragoza</td>\n",
       "      <td>70</td>\n",
       "      <td>Soltero</td>\n",
       "      <td>Mujer</td>\n",
       "      <td>92</td>\n",
       "      <td>92000</td>\n",
       "    </tr>\n",
       "  </tbody>\n",
       "</table>\n",
       "</div>"
      ],
      "text/plain": [
       "       nombre  localidad edad estado civil    sexo salario  salario formateado\n",
       "user3    Juan  Barcelona   32      Soltero  Hombre      45               45000\n",
       "user4  Alicia  Santander   47       Casado   Mujer      78               78000\n",
       "user2  Marcos     Madrid   31       Casado  Hombre     120              120000\n",
       "user1  Isabel   Zaragoza   70      Soltero   Mujer      92               92000"
      ]
     },
     "execution_count": 120,
     "metadata": {},
     "output_type": "execute_result"
    }
   ],
   "source": [
    "#Función apply\n",
    "def format_salary(x):\n",
    "    return x * 1000\n",
    "    \n",
    "df['salario formateado'] = df['salario'].apply(format_salary)\n",
    "df"
   ]
  },
  {
   "cell_type": "code",
   "execution_count": 125,
   "id": "9182576a-4931-43cb-8d02-d171d9e0ea48",
   "metadata": {},
   "outputs": [
    {
     "data": {
      "text/html": [
       "<div>\n",
       "<style scoped>\n",
       "    .dataframe tbody tr th:only-of-type {\n",
       "        vertical-align: middle;\n",
       "    }\n",
       "\n",
       "    .dataframe tbody tr th {\n",
       "        vertical-align: top;\n",
       "    }\n",
       "\n",
       "    .dataframe thead th {\n",
       "        text-align: right;\n",
       "    }\n",
       "</style>\n",
       "<table border=\"1\" class=\"dataframe\">\n",
       "  <thead>\n",
       "    <tr style=\"text-align: right;\">\n",
       "      <th></th>\n",
       "      <th>salario formateado</th>\n",
       "    </tr>\n",
       "  </thead>\n",
       "  <tbody>\n",
       "    <tr>\n",
       "      <th>count</th>\n",
       "      <td>4.000000</td>\n",
       "    </tr>\n",
       "    <tr>\n",
       "      <th>mean</th>\n",
       "      <td>83750.000000</td>\n",
       "    </tr>\n",
       "    <tr>\n",
       "      <th>std</th>\n",
       "      <td>31180.923655</td>\n",
       "    </tr>\n",
       "    <tr>\n",
       "      <th>min</th>\n",
       "      <td>45000.000000</td>\n",
       "    </tr>\n",
       "    <tr>\n",
       "      <th>25%</th>\n",
       "      <td>69750.000000</td>\n",
       "    </tr>\n",
       "    <tr>\n",
       "      <th>50%</th>\n",
       "      <td>85000.000000</td>\n",
       "    </tr>\n",
       "    <tr>\n",
       "      <th>75%</th>\n",
       "      <td>99000.000000</td>\n",
       "    </tr>\n",
       "    <tr>\n",
       "      <th>max</th>\n",
       "      <td>120000.000000</td>\n",
       "    </tr>\n",
       "  </tbody>\n",
       "</table>\n",
       "</div>"
      ],
      "text/plain": [
       "       salario formateado\n",
       "count            4.000000\n",
       "mean         83750.000000\n",
       "std          31180.923655\n",
       "min          45000.000000\n",
       "25%          69750.000000\n",
       "50%          85000.000000\n",
       "75%          99000.000000\n",
       "max         120000.000000"
      ]
     },
     "execution_count": 125,
     "metadata": {},
     "output_type": "execute_result"
    }
   ],
   "source": [
    "df.describe()"
   ]
  },
  {
   "cell_type": "markdown",
   "id": "8488950b-fdeb-48a4-8d13-21e76e3b4322",
   "metadata": {},
   "source": [
    "#### Lectura y escritura de ficheros"
   ]
  },
  {
   "cell_type": "code",
   "execution_count": 130,
   "id": "b9f19956-1cf3-4d21-b68f-46aa4d284496",
   "metadata": {},
   "outputs": [
    {
     "data": {
      "text/html": [
       "<div>\n",
       "<style scoped>\n",
       "    .dataframe tbody tr th:only-of-type {\n",
       "        vertical-align: middle;\n",
       "    }\n",
       "\n",
       "    .dataframe tbody tr th {\n",
       "        vertical-align: top;\n",
       "    }\n",
       "\n",
       "    .dataframe thead th {\n",
       "        text-align: right;\n",
       "    }\n",
       "</style>\n",
       "<table border=\"1\" class=\"dataframe\">\n",
       "  <thead>\n",
       "    <tr style=\"text-align: right;\">\n",
       "      <th></th>\n",
       "      <th>Title</th>\n",
       "      <th>Genre</th>\n",
       "      <th>Director</th>\n",
       "      <th>Release Year</th>\n",
       "      <th>Duration (minutes)</th>\n",
       "      <th>Rating</th>\n",
       "      <th>Box Office (Million $)</th>\n",
       "    </tr>\n",
       "  </thead>\n",
       "  <tbody>\n",
       "    <tr>\n",
       "      <th>7</th>\n",
       "      <td>The Shawshank Redemption</td>\n",
       "      <td>Drama</td>\n",
       "      <td>Frank Darabont</td>\n",
       "      <td>1994</td>\n",
       "      <td>142</td>\n",
       "      <td>9.3</td>\n",
       "      <td>58.3</td>\n",
       "    </tr>\n",
       "    <tr>\n",
       "      <th>5</th>\n",
       "      <td>The Godfather</td>\n",
       "      <td>Crime</td>\n",
       "      <td>Francis Ford Coppola</td>\n",
       "      <td>1972</td>\n",
       "      <td>175</td>\n",
       "      <td>9.2</td>\n",
       "      <td>246.1</td>\n",
       "    </tr>\n",
       "    <tr>\n",
       "      <th>1</th>\n",
       "      <td>The Dark Knight</td>\n",
       "      <td>Action</td>\n",
       "      <td>Christopher Nolan</td>\n",
       "      <td>2008</td>\n",
       "      <td>152</td>\n",
       "      <td>9.0</td>\n",
       "      <td>1004.6</td>\n",
       "    </tr>\n",
       "    <tr>\n",
       "      <th>15</th>\n",
       "      <td>Schindler's List</td>\n",
       "      <td>Drama</td>\n",
       "      <td>Steven Spielberg</td>\n",
       "      <td>1993</td>\n",
       "      <td>195</td>\n",
       "      <td>9.0</td>\n",
       "      <td>322.2</td>\n",
       "    </tr>\n",
       "    <tr>\n",
       "      <th>13</th>\n",
       "      <td>The Lord of the Rings: The Return of the King</td>\n",
       "      <td>Fantasy</td>\n",
       "      <td>Peter Jackson</td>\n",
       "      <td>2003</td>\n",
       "      <td>201</td>\n",
       "      <td>8.9</td>\n",
       "      <td>1142.0</td>\n",
       "    </tr>\n",
       "    <tr>\n",
       "      <th>4</th>\n",
       "      <td>Pulp Fiction</td>\n",
       "      <td>Crime</td>\n",
       "      <td>Quentin Tarantino</td>\n",
       "      <td>1994</td>\n",
       "      <td>154</td>\n",
       "      <td>8.9</td>\n",
       "      <td>214.2</td>\n",
       "    </tr>\n",
       "    <tr>\n",
       "      <th>0</th>\n",
       "      <td>Inception</td>\n",
       "      <td>Sci-Fi</td>\n",
       "      <td>Christopher Nolan</td>\n",
       "      <td>2010</td>\n",
       "      <td>148</td>\n",
       "      <td>8.8</td>\n",
       "      <td>829.9</td>\n",
       "    </tr>\n",
       "    <tr>\n",
       "      <th>6</th>\n",
       "      <td>Forrest Gump</td>\n",
       "      <td>Drama</td>\n",
       "      <td>Robert Zemeckis</td>\n",
       "      <td>1994</td>\n",
       "      <td>142</td>\n",
       "      <td>8.8</td>\n",
       "      <td>678.2</td>\n",
       "    </tr>\n",
       "    <tr>\n",
       "      <th>19</th>\n",
       "      <td>Goodfellas</td>\n",
       "      <td>Crime</td>\n",
       "      <td>Martin Scorsese</td>\n",
       "      <td>1990</td>\n",
       "      <td>146</td>\n",
       "      <td>8.7</td>\n",
       "      <td>46.8</td>\n",
       "    </tr>\n",
       "    <tr>\n",
       "      <th>3</th>\n",
       "      <td>The Matrix</td>\n",
       "      <td>Sci-Fi</td>\n",
       "      <td>The Wachowskis</td>\n",
       "      <td>1999</td>\n",
       "      <td>136</td>\n",
       "      <td>8.7</td>\n",
       "      <td>463.5</td>\n",
       "    </tr>\n",
       "    <tr>\n",
       "      <th>2</th>\n",
       "      <td>Interstellar</td>\n",
       "      <td>Sci-Fi</td>\n",
       "      <td>Christopher Nolan</td>\n",
       "      <td>2014</td>\n",
       "      <td>169</td>\n",
       "      <td>8.6</td>\n",
       "      <td>677.5</td>\n",
       "    </tr>\n",
       "    <tr>\n",
       "      <th>14</th>\n",
       "      <td>Star Wars: A New Hope</td>\n",
       "      <td>Sci-Fi</td>\n",
       "      <td>George Lucas</td>\n",
       "      <td>1977</td>\n",
       "      <td>121</td>\n",
       "      <td>8.6</td>\n",
       "      <td>775.4</td>\n",
       "    </tr>\n",
       "    <tr>\n",
       "      <th>18</th>\n",
       "      <td>The Silence of the Lambs</td>\n",
       "      <td>Thriller</td>\n",
       "      <td>Jonathan Demme</td>\n",
       "      <td>1991</td>\n",
       "      <td>118</td>\n",
       "      <td>8.6</td>\n",
       "      <td>272.7</td>\n",
       "    </tr>\n",
       "    <tr>\n",
       "      <th>16</th>\n",
       "      <td>Gladiator</td>\n",
       "      <td>Action</td>\n",
       "      <td>Ridley Scott</td>\n",
       "      <td>2000</td>\n",
       "      <td>155</td>\n",
       "      <td>8.5</td>\n",
       "      <td>457.6</td>\n",
       "    </tr>\n",
       "    <tr>\n",
       "      <th>11</th>\n",
       "      <td>The Lion King</td>\n",
       "      <td>Animation</td>\n",
       "      <td>Roger Allers</td>\n",
       "      <td>1994</td>\n",
       "      <td>88</td>\n",
       "      <td>8.5</td>\n",
       "      <td>968.5</td>\n",
       "    </tr>\n",
       "    <tr>\n",
       "      <th>17</th>\n",
       "      <td>Braveheart</td>\n",
       "      <td>Drama</td>\n",
       "      <td>Mel Gibson</td>\n",
       "      <td>1995</td>\n",
       "      <td>178</td>\n",
       "      <td>8.3</td>\n",
       "      <td>213.2</td>\n",
       "    </tr>\n",
       "    <tr>\n",
       "      <th>12</th>\n",
       "      <td>Jurassic Park</td>\n",
       "      <td>Sci-Fi</td>\n",
       "      <td>Steven Spielberg</td>\n",
       "      <td>1993</td>\n",
       "      <td>127</td>\n",
       "      <td>8.1</td>\n",
       "      <td>1033.9</td>\n",
       "    </tr>\n",
       "    <tr>\n",
       "      <th>8</th>\n",
       "      <td>The Avengers</td>\n",
       "      <td>Action</td>\n",
       "      <td>Joss Whedon</td>\n",
       "      <td>2012</td>\n",
       "      <td>143</td>\n",
       "      <td>8.0</td>\n",
       "      <td>1518.8</td>\n",
       "    </tr>\n",
       "    <tr>\n",
       "      <th>10</th>\n",
       "      <td>Avatar</td>\n",
       "      <td>Sci-Fi</td>\n",
       "      <td>James Cameron</td>\n",
       "      <td>2009</td>\n",
       "      <td>162</td>\n",
       "      <td>7.8</td>\n",
       "      <td>2788.0</td>\n",
       "    </tr>\n",
       "    <tr>\n",
       "      <th>9</th>\n",
       "      <td>Titanic</td>\n",
       "      <td>Romance</td>\n",
       "      <td>James Cameron</td>\n",
       "      <td>1997</td>\n",
       "      <td>195</td>\n",
       "      <td>7.8</td>\n",
       "      <td>2200.0</td>\n",
       "    </tr>\n",
       "  </tbody>\n",
       "</table>\n",
       "</div>"
      ],
      "text/plain": [
       "                                            Title      Genre  \\\n",
       "7                        The Shawshank Redemption      Drama   \n",
       "5                                   The Godfather      Crime   \n",
       "1                                 The Dark Knight     Action   \n",
       "15                               Schindler's List      Drama   \n",
       "13  The Lord of the Rings: The Return of the King    Fantasy   \n",
       "4                                    Pulp Fiction      Crime   \n",
       "0                                       Inception     Sci-Fi   \n",
       "6                                    Forrest Gump      Drama   \n",
       "19                                     Goodfellas      Crime   \n",
       "3                                      The Matrix     Sci-Fi   \n",
       "2                                    Interstellar     Sci-Fi   \n",
       "14                          Star Wars: A New Hope     Sci-Fi   \n",
       "18                       The Silence of the Lambs   Thriller   \n",
       "16                                      Gladiator     Action   \n",
       "11                                  The Lion King  Animation   \n",
       "17                                     Braveheart      Drama   \n",
       "12                                  Jurassic Park     Sci-Fi   \n",
       "8                                    The Avengers     Action   \n",
       "10                                         Avatar     Sci-Fi   \n",
       "9                                         Titanic    Romance   \n",
       "\n",
       "                Director  Release Year  Duration (minutes)  Rating  \\\n",
       "7         Frank Darabont          1994                 142     9.3   \n",
       "5   Francis Ford Coppola          1972                 175     9.2   \n",
       "1      Christopher Nolan          2008                 152     9.0   \n",
       "15      Steven Spielberg          1993                 195     9.0   \n",
       "13         Peter Jackson          2003                 201     8.9   \n",
       "4      Quentin Tarantino          1994                 154     8.9   \n",
       "0      Christopher Nolan          2010                 148     8.8   \n",
       "6        Robert Zemeckis          1994                 142     8.8   \n",
       "19       Martin Scorsese          1990                 146     8.7   \n",
       "3         The Wachowskis          1999                 136     8.7   \n",
       "2      Christopher Nolan          2014                 169     8.6   \n",
       "14          George Lucas          1977                 121     8.6   \n",
       "18        Jonathan Demme          1991                 118     8.6   \n",
       "16          Ridley Scott          2000                 155     8.5   \n",
       "11          Roger Allers          1994                  88     8.5   \n",
       "17            Mel Gibson          1995                 178     8.3   \n",
       "12      Steven Spielberg          1993                 127     8.1   \n",
       "8            Joss Whedon          2012                 143     8.0   \n",
       "10         James Cameron          2009                 162     7.8   \n",
       "9          James Cameron          1997                 195     7.8   \n",
       "\n",
       "    Box Office (Million $)  \n",
       "7                     58.3  \n",
       "5                    246.1  \n",
       "1                   1004.6  \n",
       "15                   322.2  \n",
       "13                  1142.0  \n",
       "4                    214.2  \n",
       "0                    829.9  \n",
       "6                    678.2  \n",
       "19                    46.8  \n",
       "3                    463.5  \n",
       "2                    677.5  \n",
       "14                   775.4  \n",
       "18                   272.7  \n",
       "16                   457.6  \n",
       "11                   968.5  \n",
       "17                   213.2  \n",
       "12                  1033.9  \n",
       "8                   1518.8  \n",
       "10                  2788.0  \n",
       "9                   2200.0  "
      ]
     },
     "execution_count": 130,
     "metadata": {},
     "output_type": "execute_result"
    }
   ],
   "source": [
    "movies = pd.read_csv('movies.csv')\n",
    "movies.sort_values('Rating', ascending=False)"
   ]
  },
  {
   "cell_type": "code",
   "execution_count": 131,
   "id": "0bd55e46-4aca-4967-b709-15c852d14e9e",
   "metadata": {},
   "outputs": [
    {
     "data": {
      "text/html": [
       "<div>\n",
       "<style scoped>\n",
       "    .dataframe tbody tr th:only-of-type {\n",
       "        vertical-align: middle;\n",
       "    }\n",
       "\n",
       "    .dataframe tbody tr th {\n",
       "        vertical-align: top;\n",
       "    }\n",
       "\n",
       "    .dataframe thead th {\n",
       "        text-align: right;\n",
       "    }\n",
       "</style>\n",
       "<table border=\"1\" class=\"dataframe\">\n",
       "  <thead>\n",
       "    <tr style=\"text-align: right;\">\n",
       "      <th></th>\n",
       "      <th>Release Year</th>\n",
       "      <th>Duration (minutes)</th>\n",
       "      <th>Rating</th>\n",
       "      <th>Box Office (Million $)</th>\n",
       "    </tr>\n",
       "  </thead>\n",
       "  <tbody>\n",
       "    <tr>\n",
       "      <th>count</th>\n",
       "      <td>20.000000</td>\n",
       "      <td>20.000000</td>\n",
       "      <td>20.00000</td>\n",
       "      <td>20.000000</td>\n",
       "    </tr>\n",
       "    <tr>\n",
       "      <th>mean</th>\n",
       "      <td>1996.950000</td>\n",
       "      <td>152.350000</td>\n",
       "      <td>8.60500</td>\n",
       "      <td>795.570000</td>\n",
       "    </tr>\n",
       "    <tr>\n",
       "      <th>std</th>\n",
       "      <td>10.708949</td>\n",
       "      <td>28.219581</td>\n",
       "      <td>0.42609</td>\n",
       "      <td>708.973705</td>\n",
       "    </tr>\n",
       "    <tr>\n",
       "      <th>min</th>\n",
       "      <td>1972.000000</td>\n",
       "      <td>88.000000</td>\n",
       "      <td>7.80000</td>\n",
       "      <td>46.800000</td>\n",
       "    </tr>\n",
       "    <tr>\n",
       "      <th>25%</th>\n",
       "      <td>1993.000000</td>\n",
       "      <td>140.500000</td>\n",
       "      <td>8.45000</td>\n",
       "      <td>266.050000</td>\n",
       "    </tr>\n",
       "    <tr>\n",
       "      <th>50%</th>\n",
       "      <td>1994.500000</td>\n",
       "      <td>150.000000</td>\n",
       "      <td>8.65000</td>\n",
       "      <td>677.850000</td>\n",
       "    </tr>\n",
       "    <tr>\n",
       "      <th>75%</th>\n",
       "      <td>2004.250000</td>\n",
       "      <td>170.500000</td>\n",
       "      <td>8.90000</td>\n",
       "      <td>1011.925000</td>\n",
       "    </tr>\n",
       "    <tr>\n",
       "      <th>max</th>\n",
       "      <td>2014.000000</td>\n",
       "      <td>201.000000</td>\n",
       "      <td>9.30000</td>\n",
       "      <td>2788.000000</td>\n",
       "    </tr>\n",
       "  </tbody>\n",
       "</table>\n",
       "</div>"
      ],
      "text/plain": [
       "       Release Year  Duration (minutes)    Rating  Box Office (Million $)\n",
       "count     20.000000           20.000000  20.00000               20.000000\n",
       "mean    1996.950000          152.350000   8.60500              795.570000\n",
       "std       10.708949           28.219581   0.42609              708.973705\n",
       "min     1972.000000           88.000000   7.80000               46.800000\n",
       "25%     1993.000000          140.500000   8.45000              266.050000\n",
       "50%     1994.500000          150.000000   8.65000              677.850000\n",
       "75%     2004.250000          170.500000   8.90000             1011.925000\n",
       "max     2014.000000          201.000000   9.30000             2788.000000"
      ]
     },
     "execution_count": 131,
     "metadata": {},
     "output_type": "execute_result"
    }
   ],
   "source": [
    "movies.describe()"
   ]
  },
  {
   "cell_type": "code",
   "execution_count": 134,
   "id": "dceac24b-89dc-48a1-af5e-a5320072c930",
   "metadata": {},
   "outputs": [
    {
     "data": {
      "text/html": [
       "<div>\n",
       "<style scoped>\n",
       "    .dataframe tbody tr th:only-of-type {\n",
       "        vertical-align: middle;\n",
       "    }\n",
       "\n",
       "    .dataframe tbody tr th {\n",
       "        vertical-align: top;\n",
       "    }\n",
       "\n",
       "    .dataframe thead th {\n",
       "        text-align: right;\n",
       "    }\n",
       "</style>\n",
       "<table border=\"1\" class=\"dataframe\">\n",
       "  <thead>\n",
       "    <tr style=\"text-align: right;\">\n",
       "      <th></th>\n",
       "      <th>Title</th>\n",
       "      <th>Genre</th>\n",
       "      <th>Director</th>\n",
       "      <th>Release Year</th>\n",
       "      <th>Duration (minutes)</th>\n",
       "      <th>Rating</th>\n",
       "      <th>Box Office (Million $)</th>\n",
       "    </tr>\n",
       "  </thead>\n",
       "  <tbody>\n",
       "    <tr>\n",
       "      <th>4</th>\n",
       "      <td>Pulp Fiction</td>\n",
       "      <td>Crime</td>\n",
       "      <td>Quentin Tarantino</td>\n",
       "      <td>1994</td>\n",
       "      <td>154</td>\n",
       "      <td>8.9</td>\n",
       "      <td>214.2</td>\n",
       "    </tr>\n",
       "    <tr>\n",
       "      <th>5</th>\n",
       "      <td>The Godfather</td>\n",
       "      <td>Crime</td>\n",
       "      <td>Francis Ford Coppola</td>\n",
       "      <td>1972</td>\n",
       "      <td>175</td>\n",
       "      <td>9.2</td>\n",
       "      <td>246.1</td>\n",
       "    </tr>\n",
       "    <tr>\n",
       "      <th>6</th>\n",
       "      <td>Forrest Gump</td>\n",
       "      <td>Drama</td>\n",
       "      <td>Robert Zemeckis</td>\n",
       "      <td>1994</td>\n",
       "      <td>142</td>\n",
       "      <td>8.8</td>\n",
       "      <td>678.2</td>\n",
       "    </tr>\n",
       "    <tr>\n",
       "      <th>7</th>\n",
       "      <td>The Shawshank Redemption</td>\n",
       "      <td>Drama</td>\n",
       "      <td>Frank Darabont</td>\n",
       "      <td>1994</td>\n",
       "      <td>142</td>\n",
       "      <td>9.3</td>\n",
       "      <td>58.3</td>\n",
       "    </tr>\n",
       "    <tr>\n",
       "      <th>11</th>\n",
       "      <td>The Lion King</td>\n",
       "      <td>Animation</td>\n",
       "      <td>Roger Allers</td>\n",
       "      <td>1994</td>\n",
       "      <td>88</td>\n",
       "      <td>8.5</td>\n",
       "      <td>968.5</td>\n",
       "    </tr>\n",
       "    <tr>\n",
       "      <th>12</th>\n",
       "      <td>Jurassic Park</td>\n",
       "      <td>Sci-Fi</td>\n",
       "      <td>Steven Spielberg</td>\n",
       "      <td>1993</td>\n",
       "      <td>127</td>\n",
       "      <td>8.1</td>\n",
       "      <td>1033.9</td>\n",
       "    </tr>\n",
       "    <tr>\n",
       "      <th>14</th>\n",
       "      <td>Star Wars: A New Hope</td>\n",
       "      <td>Sci-Fi</td>\n",
       "      <td>George Lucas</td>\n",
       "      <td>1977</td>\n",
       "      <td>121</td>\n",
       "      <td>8.6</td>\n",
       "      <td>775.4</td>\n",
       "    </tr>\n",
       "    <tr>\n",
       "      <th>15</th>\n",
       "      <td>Schindler's List</td>\n",
       "      <td>Drama</td>\n",
       "      <td>Steven Spielberg</td>\n",
       "      <td>1993</td>\n",
       "      <td>195</td>\n",
       "      <td>9.0</td>\n",
       "      <td>322.2</td>\n",
       "    </tr>\n",
       "    <tr>\n",
       "      <th>17</th>\n",
       "      <td>Braveheart</td>\n",
       "      <td>Drama</td>\n",
       "      <td>Mel Gibson</td>\n",
       "      <td>1995</td>\n",
       "      <td>178</td>\n",
       "      <td>8.3</td>\n",
       "      <td>213.2</td>\n",
       "    </tr>\n",
       "    <tr>\n",
       "      <th>18</th>\n",
       "      <td>The Silence of the Lambs</td>\n",
       "      <td>Thriller</td>\n",
       "      <td>Jonathan Demme</td>\n",
       "      <td>1991</td>\n",
       "      <td>118</td>\n",
       "      <td>8.6</td>\n",
       "      <td>272.7</td>\n",
       "    </tr>\n",
       "    <tr>\n",
       "      <th>19</th>\n",
       "      <td>Goodfellas</td>\n",
       "      <td>Crime</td>\n",
       "      <td>Martin Scorsese</td>\n",
       "      <td>1990</td>\n",
       "      <td>146</td>\n",
       "      <td>8.7</td>\n",
       "      <td>46.8</td>\n",
       "    </tr>\n",
       "  </tbody>\n",
       "</table>\n",
       "</div>"
      ],
      "text/plain": [
       "                       Title      Genre              Director  Release Year  \\\n",
       "4               Pulp Fiction      Crime     Quentin Tarantino          1994   \n",
       "5              The Godfather      Crime  Francis Ford Coppola          1972   \n",
       "6               Forrest Gump      Drama       Robert Zemeckis          1994   \n",
       "7   The Shawshank Redemption      Drama        Frank Darabont          1994   \n",
       "11             The Lion King  Animation          Roger Allers          1994   \n",
       "12             Jurassic Park     Sci-Fi      Steven Spielberg          1993   \n",
       "14     Star Wars: A New Hope     Sci-Fi          George Lucas          1977   \n",
       "15          Schindler's List      Drama      Steven Spielberg          1993   \n",
       "17                Braveheart      Drama            Mel Gibson          1995   \n",
       "18  The Silence of the Lambs   Thriller        Jonathan Demme          1991   \n",
       "19                Goodfellas      Crime       Martin Scorsese          1990   \n",
       "\n",
       "    Duration (minutes)  Rating  Box Office (Million $)  \n",
       "4                  154     8.9                   214.2  \n",
       "5                  175     9.2                   246.1  \n",
       "6                  142     8.8                   678.2  \n",
       "7                  142     9.3                    58.3  \n",
       "11                  88     8.5                   968.5  \n",
       "12                 127     8.1                  1033.9  \n",
       "14                 121     8.6                   775.4  \n",
       "15                 195     9.0                   322.2  \n",
       "17                 178     8.3                   213.2  \n",
       "18                 118     8.6                   272.7  \n",
       "19                 146     8.7                    46.8  "
      ]
     },
     "execution_count": 134,
     "metadata": {},
     "output_type": "execute_result"
    }
   ],
   "source": [
    "movies[movies['Release Year'] <= 1995]"
   ]
  }
 ],
 "metadata": {
  "kernelspec": {
   "display_name": "Python 3 (ipykernel)",
   "language": "python",
   "name": "python3"
  },
  "language_info": {
   "codemirror_mode": {
    "name": "ipython",
    "version": 3
   },
   "file_extension": ".py",
   "mimetype": "text/x-python",
   "name": "python",
   "nbconvert_exporter": "python",
   "pygments_lexer": "ipython3",
   "version": "3.12.4"
  }
 },
 "nbformat": 4,
 "nbformat_minor": 5
}
