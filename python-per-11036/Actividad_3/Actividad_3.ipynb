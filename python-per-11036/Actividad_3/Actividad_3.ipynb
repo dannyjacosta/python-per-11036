{
 "cells": [
  {
   "cell_type": "markdown",
   "metadata": {},
   "source": [
    "En la siguiente celda, completa los siguientes ejercicios:\n",
    "\n",
    "## Ejercicio 1\n",
    "\n",
    "Escribe una clase llamada Numero. Esta clase debe tener una constructora que reciba un número y almacene ese número en 2 atributos: romano que almacenará el número en el formato de número romanos como una cadena de caracteres y normal que guardará el número que nos han dado en la constructora.\n",
    "\n",
    "## Ejercicio 2\n",
    "Crea dos nuevos métodos en la clase Numero. El primer método, llamado imprime() imprime un mensaje mostrando el valor de ambos atributos; el segundo atributo, suma_romano() tendrá como parámetros una cadena de caracteres que representará otro número romano y que sumaremos a los atributos que ya teníamos.\n",
    "\n",
    "## Ejercicio 3\n",
    "\n",
    "Define una función dentro de la clase Numero que a partir de una cadena de caracteres, devuelve True si esa cadena de caracteres corresponde con un número romano y falso en caso contrario. Después, modifica el método para que lance un error en el caso de que el valor que nos pasan por parámetro no se corresponde con el patrón de un número romano"
   ]
  },
  {
   "cell_type": "code",
   "execution_count": 25,
   "metadata": {},
   "outputs": [],
   "source": [
    "class Numero:\n",
    "    def __init__(self, numero):\n",
    "        self.normal = numero\n",
    "        self.romano = self.convertir_a_romano(numero)\n",
    "\n",
    "\n",
    "    def imprime(self):\n",
    "        print(self.normal, self.romano)\n",
    "\n",
    "    def suma_romano(self, romano):\n",
    "        arabico = self.convertir_a_arabico(romano) \n",
    "        self.normal += arabico\n",
    "        self.romano = self.convertir_a_romano(self.normal)     \n",
    "\n",
    "    def is_romano(self, romano):\n",
    "        valores = [(900, 'CM'), (400, 'CD'), (90, 'XC'), (40, 'XL'), (9, 'IX'), (1000, 'M'),  (500, 'D'),  (100, 'C'),  (50, 'L'),  (10, 'X'),  (5, 'V'), (4, 'IV'), (3, 'III'), (2, 'II'), (1, 'I')]\n",
    "\n",
    "        romano = str(romano)\n",
    "        for _, simbolo in valores:\n",
    "            if simbolo in romano:                \n",
    "                romano = romano.replace(simbolo, '')\n",
    "                if len(romano) == 0:\n",
    "                    break\n",
    "        try:\n",
    "            if len(romano) != 0:\n",
    "                raise ValueError(f'Ha fallado el número {romano}')\n",
    "        finally:\n",
    "            return len(romano) == 0\n",
    "\n",
    "    def convertir_a_romano(self, arabico):\n",
    "        valores = [(1000, 'M'), (900, 'CM'), (500, 'D'), (400, 'CD'), (100, 'C'), (90, 'XC'), (50, 'L'), (40, 'XL'), (10, 'X'), (9, 'IX'), (5, 'V'), (4, 'IV'), (1, 'I')]\n",
    "        romano = ''\n",
    "        for valor, simbolo in valores:\n",
    "            while arabico >= valor:\n",
    "                romano += simbolo\n",
    "                arabico -= valor\n",
    "\n",
    "        return romano\n",
    "    \n",
    "    def convertir_a_arabico(self, romano):\n",
    "        valores = [(900, 'CM'), (400, 'CD'), (90, 'XC'), (40, 'XL'), (9, 'IX'), (1000, 'M'),  (500, 'D'),  (100, 'C'),  (50, 'L'),  (10, 'X'),  (5, 'V'), (4, 'IV'), (3, 'III'), (2, 'II'), (1, 'I')]\n",
    "        arabico = 0\n",
    "        romano = str(romano)\n",
    "        for valor, simbolo in valores:\n",
    "            if simbolo in romano:\n",
    "                arabico += valor * romano.count(simbolo)\n",
    "                romano = romano.replace(simbolo, '')\n",
    "\n",
    "        return arabico"
   ]
  },
  {
   "cell_type": "markdown",
   "metadata": {},
   "source": [
    "En la siguiente celda, completa los siguientes ejercicios:\n",
    "\n",
    "## Ejercicio 4\n",
    "\n",
    "Implementa una clase MejorNumero. Esta clase heredará las propiedades de Numero e incluirá dos métodos nuevos para restar y multiplicar los atributos recibiendo por parámetro otro número romano.\n",
    "\n",
    "## Ejercicio 5\n",
    "\n",
    "En la clase MejorNumero, crea un nuevo método que reciba una lista con 3 números romanos. A continuación, iterando sobre los elementos de la lista llamará a la función suma_romano(). Los posibles errores se tendrán que gestionar con excepciones para mostrar un mensaje y seguir ejecutando el siguiente número."
   ]
  },
  {
   "cell_type": "code",
   "execution_count": 30,
   "metadata": {},
   "outputs": [
    {
     "name": "stdout",
     "output_type": "stream",
     "text": [
      "Ha fallado el número 675\n",
      "XLIX\n"
     ]
    }
   ],
   "source": [
    "class MejorNumero(Numero):\n",
    "\n",
    "    def resta(self, romano):\n",
    "        arabico = self.convertir_a_arabico(romano)\n",
    "        self.normal -= arabico\n",
    "        self.romano = self.convertir_a_romano(self.normal)\n",
    "    \n",
    "    def multiplica(self, romano):\n",
    "        arabico = self.convertir_a_arabico(romano)\n",
    "        self.normal *= arabico\n",
    "        self.romano = self.convertir_a_romano(self.normal)\n",
    "\n",
    "    def iterar(self, romanos):\n",
    "        try:\n",
    "            for romano in romanos:\n",
    "                if self.is_romano(str(romano)):\n",
    "                    self.suma_romano(str(romano))\n",
    "        except ValueError as e:\n",
    "            print(str(e))\n",
    "\n",
    "#PRUEBAS\n",
    "# aux = MejorNumero(29)\n",
    "# aux.iterar(['XX', 675, 'VI'])\n",
    "# print(aux.romano)            "
   ]
  }
 ],
 "metadata": {
  "kernelspec": {
   "display_name": "Python 3 (ipykernel)",
   "language": "python",
   "name": "python3"
  },
  "language_info": {
   "codemirror_mode": {
    "name": "ipython",
    "version": 3
   },
   "file_extension": ".py",
   "mimetype": "text/x-python",
   "name": "python",
   "nbconvert_exporter": "python",
   "pygments_lexer": "ipython3",
   "version": "3.12.4"
  }
 },
 "nbformat": 4,
 "nbformat_minor": 2
}
