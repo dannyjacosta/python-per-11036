{
 "cells": [
  {
   "cell_type": "markdown",
   "metadata": {},
   "source": [
    "## Ejercicio 1\n",
    "\n",
    "Escribe una función llamada ejercicio1 que genere una lista con 15 valores enteros aleatorios que vayan de 1 a 100. La función debe devolver la lista con todos los valores.\n"
   ]
  },
  {
   "cell_type": "code",
   "execution_count": 61,
   "metadata": {},
   "outputs": [],
   "source": [
    "import random\n",
    "\n",
    "def ejercicio1():\n",
    "    valores =   [random.randint(0,100) for _ in range(15)]\n",
    "    return valores"
   ]
  },
  {
   "cell_type": "markdown",
   "metadata": {},
   "source": [
    "## Ejercicio 2\n",
    "\n",
    "Escribe una función llamada ejercicio2 que recibe 2 argumentos: el primero será la lista que hemos implementado en el Ejercicio 1 y el segundo un número por el que se dividirá cada uno de los elementos de la lista. El resultado será una nueva lista."
   ]
  },
  {
   "cell_type": "code",
   "execution_count": 31,
   "metadata": {},
   "outputs": [],
   "source": [
    "def ejercicio2(lista, divisor):\n",
    "    return [n / divisor for n in lista]"
   ]
  },
  {
   "cell_type": "markdown",
   "metadata": {},
   "source": [
    "## Ejercicio 3\n",
    "\n",
    "Usando funciones anónimas, crea una nueva lista que contenga los valores enteros de cada uno de los elementos de la lista que devuelve la función implementada en el Ejercicio 2."
   ]
  },
  {
   "cell_type": "code",
   "execution_count": 63,
   "metadata": {},
   "outputs": [
    {
     "name": "stdout",
     "output_type": "stream",
     "text": [
      "[25, 11, 19, 1, 31, 0, 3, 5, 15, 26, 3, 0, 9, 32, 0]\n"
     ]
    }
   ],
   "source": [
    "def ejercicio3(lista):\n",
    "    return list(map(lambda x: int(x), lista))"
   ]
  },
  {
   "cell_type": "markdown",
   "metadata": {},
   "source": [
    "## Ejercicio 4\n",
    "\n",
    "Implementa una función, llamada ejercicio4, que reciba como argumentos dos números enteros y devuelva en una tupla los siguientes valores: el factorial del primer argumento y el máximo común divisor de ambos argumentos."
   ]
  },
  {
   "cell_type": "code",
   "execution_count": 33,
   "metadata": {},
   "outputs": [],
   "source": [
    "import math\n",
    "\n",
    "def ejercicio4(n1, n2):\n",
    "    return math.factorial(n1), math.gcd(n1, n2)"
   ]
  },
  {
   "cell_type": "markdown",
   "metadata": {},
   "source": [
    "## Ejercicio 5\n",
    "\n",
    "Crea una función ejercicio5 que devuelva una lista con todos los valores contenidos en una lista que se pasa por argumento pero eliminando los valores repetidos. Prueba el funcionamiento de esta función con la lista obtenida en el Ejercicio 1."
   ]
  },
  {
   "cell_type": "code",
   "execution_count": 36,
   "metadata": {},
   "outputs": [
    {
     "name": "stdout",
     "output_type": "stream",
     "text": [
      "[1, 2, 4, 11, 17, 29, 34, 46, 57, 76, 79, 94, 96]\n"
     ]
    }
   ],
   "source": [
    "def ejercicio5(lista):\n",
    "    return list(set(lista))"
   ]
  }
 ],
 "metadata": {
  "kernelspec": {
   "display_name": "Python 3 (ipykernel)",
   "language": "python",
   "name": "python3"
  },
  "language_info": {
   "codemirror_mode": {
    "name": "ipython",
    "version": 3
   },
   "file_extension": ".py",
   "mimetype": "text/x-python",
   "name": "python",
   "nbconvert_exporter": "python",
   "pygments_lexer": "ipython3",
   "version": "3.12.4"
  }
 },
 "nbformat": 4,
 "nbformat_minor": 2
}
