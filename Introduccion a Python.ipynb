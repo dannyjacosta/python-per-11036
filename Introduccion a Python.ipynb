{
 "cells": [
  {
   "cell_type": "markdown",
   "id": "02ae2c98-9c45-46ca-8cbf-34424281b4af",
   "metadata": {
    "jp-MarkdownHeadingCollapsed": true
   },
   "source": [
    "### Tema II"
   ]
  },
  {
   "cell_type": "code",
   "execution_count": 1,
   "id": "f49ec83a-668f-4d65-a29d-0ea8fe10223c",
   "metadata": {},
   "outputs": [],
   "source": [
    "n = 3.25"
   ]
  },
  {
   "cell_type": "code",
   "execution_count": 2,
   "id": "3356e8b9-3109-4ede-a4aa-28d4c64c47b4",
   "metadata": {},
   "outputs": [
    {
     "data": {
      "text/plain": [
       "float"
      ]
     },
     "execution_count": 2,
     "metadata": {},
     "output_type": "execute_result"
    }
   ],
   "source": [
    "type(n)"
   ]
  },
  {
   "cell_type": "code",
   "execution_count": 3,
   "id": "09dc20bb-6169-439e-a907-9441a72b17b4",
   "metadata": {},
   "outputs": [
    {
     "name": "stdout",
     "output_type": "stream",
     "text": [
      "30.25\n"
     ]
    }
   ],
   "source": [
    "import constantes\n",
    "precio = 25\n",
    "precio_final = precio + (precio * constantes.IVA)\n",
    "print(precio_final)"
   ]
  },
  {
   "cell_type": "code",
   "execution_count": null,
   "id": "37f3532a-9f23-4340-9669-9ab73ab63474",
   "metadata": {},
   "outputs": [],
   "source": []
  },
  {
   "cell_type": "markdown",
   "id": "32bd739f-1876-441e-a099-b311b95a1fca",
   "metadata": {
    "jp-MarkdownHeadingCollapsed": true
   },
   "source": [
    "#### Operadores Aritméticos"
   ]
  },
  {
   "cell_type": "code",
   "execution_count": 4,
   "id": "e4175201-4456-4236-b1ad-cc54bac76601",
   "metadata": {},
   "outputs": [
    {
     "data": {
      "text/plain": [
       "9.129999999999999"
      ]
     },
     "execution_count": 4,
     "metadata": {},
     "output_type": "execute_result"
    }
   ],
   "source": [
    "3.13 + 6"
   ]
  },
  {
   "cell_type": "code",
   "execution_count": 5,
   "id": "4f860c79-f543-46c5-b4b0-dd08336f44fe",
   "metadata": {},
   "outputs": [
    {
     "data": {
      "text/plain": [
       "-2.87"
      ]
     },
     "execution_count": 5,
     "metadata": {},
     "output_type": "execute_result"
    }
   ],
   "source": [
    "3.13 - 6"
   ]
  },
  {
   "cell_type": "code",
   "execution_count": 6,
   "id": "a4295c2d-3319-499c-a487-46b90c0680d4",
   "metadata": {},
   "outputs": [
    {
     "data": {
      "text/plain": [
       "18.78"
      ]
     },
     "execution_count": 6,
     "metadata": {},
     "output_type": "execute_result"
    }
   ],
   "source": [
    "3.13 * 6"
   ]
  },
  {
   "cell_type": "code",
   "execution_count": 7,
   "id": "ba9bb54b-cdbc-4247-99fe-62c640305031",
   "metadata": {},
   "outputs": [
    {
     "data": {
      "text/plain": [
       "0.313"
      ]
     },
     "execution_count": 7,
     "metadata": {},
     "output_type": "execute_result"
    }
   ],
   "source": [
    "3.13 / 10"
   ]
  },
  {
   "cell_type": "code",
   "execution_count": 8,
   "id": "c357e60c-1a04-4d9f-ba07-0f87fc917f72",
   "metadata": {},
   "outputs": [
    {
     "data": {
      "text/plain": [
       "0.0"
      ]
     },
     "execution_count": 8,
     "metadata": {},
     "output_type": "execute_result"
    }
   ],
   "source": [
    "3.13 // 10"
   ]
  },
  {
   "cell_type": "code",
   "execution_count": 9,
   "id": "46b5c4a0-40e0-4442-8030-40ed4880490c",
   "metadata": {},
   "outputs": [
    {
     "data": {
      "text/plain": [
       "1"
      ]
     },
     "execution_count": 9,
     "metadata": {},
     "output_type": "execute_result"
    }
   ],
   "source": [
    "10 % 3"
   ]
  },
  {
   "cell_type": "code",
   "execution_count": 10,
   "id": "88e048b9-170d-4949-aa42-68241d6fcb2e",
   "metadata": {},
   "outputs": [
    {
     "data": {
      "text/plain": [
       "3"
      ]
     },
     "execution_count": 10,
     "metadata": {},
     "output_type": "execute_result"
    }
   ],
   "source": [
    "3 % 10"
   ]
  },
  {
   "cell_type": "code",
   "execution_count": 11,
   "id": "7faf9e2c-01ac-4743-bbbe-08ba88fdf5d8",
   "metadata": {},
   "outputs": [
    {
     "data": {
      "text/plain": [
       "9"
      ]
     },
     "execution_count": 11,
     "metadata": {},
     "output_type": "execute_result"
    }
   ],
   "source": [
    "3 ** 2"
   ]
  },
  {
   "cell_type": "code",
   "execution_count": 12,
   "id": "5b28230b-edd5-495f-94fc-7fe3e368fc46",
   "metadata": {},
   "outputs": [
    {
     "data": {
      "text/plain": [
       "3j"
      ]
     },
     "execution_count": 12,
     "metadata": {},
     "output_type": "execute_result"
    }
   ],
   "source": [
    "0.5 * 6j"
   ]
  },
  {
   "cell_type": "markdown",
   "id": "9108d46d-b1f0-4953-8ecb-8c7fcc6c8838",
   "metadata": {
    "jp-MarkdownHeadingCollapsed": true
   },
   "source": [
    "#### Operadores de asignación"
   ]
  },
  {
   "cell_type": "code",
   "execution_count": 13,
   "id": "60114024-b73a-404a-b96e-7a05b15a775e",
   "metadata": {},
   "outputs": [
    {
     "data": {
      "text/plain": [
       "10"
      ]
     },
     "execution_count": 13,
     "metadata": {},
     "output_type": "execute_result"
    }
   ],
   "source": [
    "resultado = 10\n",
    "resultado"
   ]
  },
  {
   "cell_type": "code",
   "execution_count": 14,
   "id": "732db02a-db5b-4693-9886-bf4c3cf19c6d",
   "metadata": {},
   "outputs": [
    {
     "data": {
      "text/plain": [
       "20"
      ]
     },
     "execution_count": 14,
     "metadata": {},
     "output_type": "execute_result"
    }
   ],
   "source": [
    "resultado = 10\n",
    "resultado += 10\n",
    "resultado"
   ]
  },
  {
   "cell_type": "code",
   "execution_count": 15,
   "id": "58f67541-0ab9-464d-9997-f13e97e651f9",
   "metadata": {},
   "outputs": [
    {
     "data": {
      "text/plain": [
       "0"
      ]
     },
     "execution_count": 15,
     "metadata": {},
     "output_type": "execute_result"
    }
   ],
   "source": [
    "resultado = 10\n",
    "resultado -= 10\n",
    "resultado"
   ]
  },
  {
   "cell_type": "code",
   "execution_count": 16,
   "id": "926dad8e-0675-4f25-9219-8b195e704fb8",
   "metadata": {},
   "outputs": [
    {
     "data": {
      "text/plain": [
       "100"
      ]
     },
     "execution_count": 16,
     "metadata": {},
     "output_type": "execute_result"
    }
   ],
   "source": [
    "resultado = 10\n",
    "resultado *= 10\n",
    "resultado"
   ]
  },
  {
   "cell_type": "code",
   "execution_count": 17,
   "id": "882fd61f-bbff-4f46-b8c9-4862ec8070ed",
   "metadata": {},
   "outputs": [
    {
     "data": {
      "text/plain": [
       "1.0"
      ]
     },
     "execution_count": 17,
     "metadata": {},
     "output_type": "execute_result"
    }
   ],
   "source": [
    "resultado = 10\n",
    "resultado /= 10\n",
    "resultado"
   ]
  },
  {
   "cell_type": "code",
   "execution_count": 18,
   "id": "35386d04-bd32-4891-8d96-2ca4e257635d",
   "metadata": {},
   "outputs": [
    {
     "data": {
      "text/plain": [
       "1"
      ]
     },
     "execution_count": 18,
     "metadata": {},
     "output_type": "execute_result"
    }
   ],
   "source": [
    "resultado = 10\n",
    "resultado //= 10\n",
    "resultado"
   ]
  },
  {
   "cell_type": "code",
   "execution_count": 19,
   "id": "25677645-9eef-4b51-ad63-81b21785aa08",
   "metadata": {},
   "outputs": [
    {
     "data": {
      "text/plain": [
       "4"
      ]
     },
     "execution_count": 19,
     "metadata": {},
     "output_type": "execute_result"
    }
   ],
   "source": [
    "resultado = 14\n",
    "resultado %= 10\n",
    "resultado"
   ]
  },
  {
   "cell_type": "code",
   "execution_count": 20,
   "id": "e160c6a3-2616-4c0e-95b5-71ec7458822c",
   "metadata": {},
   "outputs": [
    {
     "data": {
      "text/plain": [
       "100"
      ]
     },
     "execution_count": 20,
     "metadata": {},
     "output_type": "execute_result"
    }
   ],
   "source": [
    "resultado = 10\n",
    "resultado **= 2\n",
    "resultado"
   ]
  },
  {
   "cell_type": "markdown",
   "id": "c776e1e3-cd18-4ddc-a8fd-64772a66f45a",
   "metadata": {
    "jp-MarkdownHeadingCollapsed": true
   },
   "source": [
    "#### Operaciones de Bits"
   ]
  },
  {
   "cell_type": "markdown",
   "id": "f8b70564-a890-4e57-96bc-8d6cdc7bb2e2",
   "metadata": {},
   "source": [
    "``` 4 = 0b 100```\n",
    "``` 5 = 0b 101 ```"
   ]
  },
  {
   "cell_type": "code",
   "execution_count": 21,
   "id": "8928f501-4919-4dcb-b372-56556b57065b",
   "metadata": {},
   "outputs": [
    {
     "data": {
      "text/plain": [
       "4"
      ]
     },
     "execution_count": 21,
     "metadata": {},
     "output_type": "execute_result"
    }
   ],
   "source": [
    "4 & 5"
   ]
  },
  {
   "cell_type": "code",
   "execution_count": 22,
   "id": "1a1041ec-e29f-45b7-bb99-f363d498a6f5",
   "metadata": {},
   "outputs": [
    {
     "data": {
      "text/plain": [
       "5"
      ]
     },
     "execution_count": 22,
     "metadata": {},
     "output_type": "execute_result"
    }
   ],
   "source": [
    "4 | 5"
   ]
  },
  {
   "cell_type": "code",
   "execution_count": 23,
   "id": "54bdf2a9-17aa-4cf3-b438-397cfcec686d",
   "metadata": {},
   "outputs": [
    {
     "data": {
      "text/plain": [
       "1"
      ]
     },
     "execution_count": 23,
     "metadata": {},
     "output_type": "execute_result"
    }
   ],
   "source": [
    "4 ^ 5"
   ]
  },
  {
   "cell_type": "code",
   "execution_count": 24,
   "id": "d571b5bc-8782-4f1a-b348-b3fc0e9a7d07",
   "metadata": {},
   "outputs": [
    {
     "data": {
      "text/plain": [
       "8"
      ]
     },
     "execution_count": 24,
     "metadata": {},
     "output_type": "execute_result"
    }
   ],
   "source": [
    "4 << 1"
   ]
  },
  {
   "cell_type": "code",
   "execution_count": 25,
   "id": "a9cef3a5-9ac3-40a8-966e-27ee268e22c5",
   "metadata": {},
   "outputs": [
    {
     "data": {
      "text/plain": [
       "2"
      ]
     },
     "execution_count": 25,
     "metadata": {},
     "output_type": "execute_result"
    }
   ],
   "source": [
    "4 >> 1"
   ]
  },
  {
   "cell_type": "markdown",
   "id": "3df845aa-826c-489e-a3b9-a9abe903b487",
   "metadata": {
    "jp-MarkdownHeadingCollapsed": true
   },
   "source": [
    "#### Operaciones con booleanos"
   ]
  },
  {
   "cell_type": "code",
   "execution_count": 26,
   "id": "c5528744-3649-480d-b86a-1ce13ff0a383",
   "metadata": {},
   "outputs": [
    {
     "data": {
      "text/plain": [
       "False"
      ]
     },
     "execution_count": 26,
     "metadata": {},
     "output_type": "execute_result"
    }
   ],
   "source": [
    "True and False"
   ]
  },
  {
   "cell_type": "code",
   "execution_count": 27,
   "id": "d0b6d0ce-b749-44e7-9f4e-8b1219a026a1",
   "metadata": {},
   "outputs": [
    {
     "data": {
      "text/plain": [
       "True"
      ]
     },
     "execution_count": 27,
     "metadata": {},
     "output_type": "execute_result"
    }
   ],
   "source": [
    "True or False"
   ]
  },
  {
   "cell_type": "code",
   "execution_count": 28,
   "id": "3323be21-9606-4358-b702-a6d67fc7f5a2",
   "metadata": {},
   "outputs": [
    {
     "data": {
      "text/plain": [
       "False"
      ]
     },
     "execution_count": 28,
     "metadata": {},
     "output_type": "execute_result"
    }
   ],
   "source": [
    "not True"
   ]
  },
  {
   "cell_type": "code",
   "execution_count": 29,
   "id": "92a9be12-638b-4d74-86ef-bbb463c86d14",
   "metadata": {},
   "outputs": [
    {
     "data": {
      "text/plain": [
       "True"
      ]
     },
     "execution_count": 29,
     "metadata": {},
     "output_type": "execute_result"
    }
   ],
   "source": [
    "5 < 7"
   ]
  },
  {
   "cell_type": "code",
   "execution_count": 30,
   "id": "5280411d-8303-44c1-9f20-794349c8c7fe",
   "metadata": {},
   "outputs": [
    {
     "data": {
      "text/plain": [
       "True"
      ]
     },
     "execution_count": 30,
     "metadata": {},
     "output_type": "execute_result"
    }
   ],
   "source": [
    "7 <= 7"
   ]
  },
  {
   "cell_type": "code",
   "execution_count": 31,
   "id": "2455ef88-4885-4807-a5f4-52ea48d65582",
   "metadata": {},
   "outputs": [
    {
     "data": {
      "text/plain": [
       "False"
      ]
     },
     "execution_count": 31,
     "metadata": {},
     "output_type": "execute_result"
    }
   ],
   "source": [
    "5 > 7"
   ]
  },
  {
   "cell_type": "code",
   "execution_count": 32,
   "id": "fcacd754-1f18-440a-82c0-b343dc816405",
   "metadata": {},
   "outputs": [
    {
     "data": {
      "text/plain": [
       "False"
      ]
     },
     "execution_count": 32,
     "metadata": {},
     "output_type": "execute_result"
    }
   ],
   "source": [
    "5 >= 7"
   ]
  },
  {
   "cell_type": "code",
   "execution_count": 33,
   "id": "4cbfbe34-bdca-411a-92bf-e65a2736ab5b",
   "metadata": {},
   "outputs": [
    {
     "data": {
      "text/plain": [
       "False"
      ]
     },
     "execution_count": 33,
     "metadata": {},
     "output_type": "execute_result"
    }
   ],
   "source": [
    "5 == 7"
   ]
  },
  {
   "cell_type": "code",
   "execution_count": 34,
   "id": "9084d89e-71b2-47cc-b3ca-de6149a2fa9d",
   "metadata": {},
   "outputs": [
    {
     "data": {
      "text/plain": [
       "True"
      ]
     },
     "execution_count": 34,
     "metadata": {},
     "output_type": "execute_result"
    }
   ],
   "source": [
    "5 != 7"
   ]
  },
  {
   "cell_type": "markdown",
   "id": "42a7d87d-afc4-4a14-912d-b7f586324b76",
   "metadata": {
    "jp-MarkdownHeadingCollapsed": true
   },
   "source": [
    "#### Cadenas de caracteres"
   ]
  },
  {
   "cell_type": "code",
   "execution_count": 35,
   "id": "e67d8836-ec90-455b-a74e-05f61b8ffe7d",
   "metadata": {},
   "outputs": [],
   "source": [
    "mensaje = \"Esto es un mensaje de prueba para el curso de Python\""
   ]
  },
  {
   "cell_type": "code",
   "execution_count": 36,
   "id": "b0c867ed-b2eb-407c-83d8-3c16629e3429",
   "metadata": {},
   "outputs": [
    {
     "data": {
      "text/plain": [
       "'e'"
      ]
     },
     "execution_count": 36,
     "metadata": {},
     "output_type": "execute_result"
    }
   ],
   "source": [
    "mensaje[34]"
   ]
  },
  {
   "cell_type": "code",
   "execution_count": 37,
   "id": "cf3b1509-182d-4619-b2db-bc3d7649d245",
   "metadata": {},
   "outputs": [
    {
     "data": {
      "text/plain": [
       "' es un mens'"
      ]
     },
     "execution_count": 37,
     "metadata": {},
     "output_type": "execute_result"
    }
   ],
   "source": [
    "mensaje[4:15]"
   ]
  },
  {
   "cell_type": "code",
   "execution_count": 38,
   "id": "c0f37bef-efb8-4ea4-94d7-1a5edc9c7a44",
   "metadata": {},
   "outputs": [
    {
     "data": {
      "text/plain": [
       "'Esto es un mensaje d'"
      ]
     },
     "execution_count": 38,
     "metadata": {},
     "output_type": "execute_result"
    }
   ],
   "source": [
    "mensaje[:20]"
   ]
  },
  {
   "cell_type": "code",
   "execution_count": 39,
   "id": "a997bf0c-70fb-46b2-95c7-211954c9f699",
   "metadata": {},
   "outputs": [
    {
     "data": {
      "text/plain": [
       "'e prueba para el curso de Python'"
      ]
     },
     "execution_count": 39,
     "metadata": {},
     "output_type": "execute_result"
    }
   ],
   "source": [
    "mensaje[20:]"
   ]
  },
  {
   "cell_type": "code",
   "execution_count": 40,
   "id": "059b2bee-7531-4901-bb13-b8f38dfb2936",
   "metadata": {},
   "outputs": [
    {
     "data": {
      "text/plain": [
       "' de Python'"
      ]
     },
     "execution_count": 40,
     "metadata": {},
     "output_type": "execute_result"
    }
   ],
   "source": [
    "mensaje[-10:]"
   ]
  },
  {
   "cell_type": "code",
   "execution_count": 41,
   "id": "c651c666-b74e-41dd-9945-f8f3b5264473",
   "metadata": {},
   "outputs": [
    {
     "data": {
      "text/plain": [
       "'Esto es un mensaje de prueba para el curso'"
      ]
     },
     "execution_count": 41,
     "metadata": {},
     "output_type": "execute_result"
    }
   ],
   "source": [
    "mensaje[:-10]"
   ]
  },
  {
   "cell_type": "code",
   "execution_count": 42,
   "id": "ca6948c3-aadc-4348-ad86-6c2a36b180e3",
   "metadata": {},
   "outputs": [
    {
     "data": {
      "text/plain": [
       "'Hola, estoy bien'"
      ]
     },
     "execution_count": 42,
     "metadata": {},
     "output_type": "execute_result"
    }
   ],
   "source": [
    "\"Hola, \" + \"estoy bien\""
   ]
  },
  {
   "cell_type": "code",
   "execution_count": 43,
   "id": "34a4cd38-b920-4a69-8457-58e273146b99",
   "metadata": {},
   "outputs": [
    {
     "data": {
      "text/plain": [
       "'Hoy hace sol!Hoy hace sol!Hoy hace sol!'"
      ]
     },
     "execution_count": 43,
     "metadata": {},
     "output_type": "execute_result"
    }
   ],
   "source": [
    "\"Hoy hace sol!\" * 3"
   ]
  },
  {
   "cell_type": "code",
   "execution_count": 44,
   "id": "badccfe5-b817-45f7-b164-ca82e1a77fd7",
   "metadata": {},
   "outputs": [
    {
     "data": {
      "text/plain": [
       "52"
      ]
     },
     "execution_count": 44,
     "metadata": {},
     "output_type": "execute_result"
    }
   ],
   "source": [
    "len(mensaje)"
   ]
  },
  {
   "cell_type": "code",
   "execution_count": 45,
   "id": "99ed59b5-0202-44ce-b1f3-bdb6cd342eff",
   "metadata": {},
   "outputs": [
    {
     "data": {
      "text/plain": [
       "46"
      ]
     },
     "execution_count": 45,
     "metadata": {},
     "output_type": "execute_result"
    }
   ],
   "source": [
    "mensaje.find(\"Python\")"
   ]
  },
  {
   "cell_type": "code",
   "execution_count": 46,
   "id": "5edb8c9e-9cce-4d24-861a-02be8fdc1c1e",
   "metadata": {},
   "outputs": [
    {
     "data": {
      "text/plain": [
       "-1"
      ]
     },
     "execution_count": 46,
     "metadata": {},
     "output_type": "execute_result"
    }
   ],
   "source": [
    "mensaje.find(\"Java\")"
   ]
  },
  {
   "cell_type": "code",
   "execution_count": 47,
   "id": "fdcbca2d-2e95-4d38-bd2c-3d93de9d5b5a",
   "metadata": {},
   "outputs": [
    {
     "data": {
      "text/plain": [
       "'ESTO ES UN MENSAJE DE PRUEBA PARA EL CURSO DE PYTHON'"
      ]
     },
     "execution_count": 47,
     "metadata": {},
     "output_type": "execute_result"
    }
   ],
   "source": [
    "mensaje.upper()"
   ]
  },
  {
   "cell_type": "code",
   "execution_count": 48,
   "id": "95307977-aeb7-429d-aca0-f1800978f8e1",
   "metadata": {},
   "outputs": [
    {
     "data": {
      "text/plain": [
       "'esto es un mensaje de prueba para el curso de python'"
      ]
     },
     "execution_count": 48,
     "metadata": {},
     "output_type": "execute_result"
    }
   ],
   "source": [
    "mensaje.lower()"
   ]
  },
  {
   "cell_type": "code",
   "execution_count": 49,
   "id": "0e20f539-163c-4f27-ac8f-eac0270421de",
   "metadata": {},
   "outputs": [
    {
     "data": {
      "text/plain": [
       "'Esto es un mensaje de prueba para el seminario de Python'"
      ]
     },
     "execution_count": 49,
     "metadata": {},
     "output_type": "execute_result"
    }
   ],
   "source": [
    "mensaje.replace(\"curso\", \"seminario\")"
   ]
  },
  {
   "cell_type": "markdown",
   "id": "7dc106b8-0c31-4c28-b1b0-a01d623ce564",
   "metadata": {
    "jp-MarkdownHeadingCollapsed": true
   },
   "source": [
    "#### Tipo None"
   ]
  },
  {
   "cell_type": "code",
   "execution_count": 50,
   "id": "4c25e072-56cd-4b70-9c4a-71b5f91ef19a",
   "metadata": {},
   "outputs": [
    {
     "data": {
      "text/plain": [
       "NoneType"
      ]
     },
     "execution_count": 50,
     "metadata": {},
     "output_type": "execute_result"
    }
   ],
   "source": [
    "variable = None\n",
    "type(variable)"
   ]
  },
  {
   "cell_type": "code",
   "execution_count": 51,
   "id": "52bb0f8a-bd2b-44e3-a79d-62d57d5f7f9e",
   "metadata": {},
   "outputs": [
    {
     "data": {
      "text/plain": [
       "False"
      ]
     },
     "execution_count": 51,
     "metadata": {},
     "output_type": "execute_result"
    }
   ],
   "source": [
    "None == False"
   ]
  },
  {
   "cell_type": "code",
   "execution_count": 52,
   "id": "a159ca1a-f030-492d-afec-bb591072bdab",
   "metadata": {},
   "outputs": [
    {
     "data": {
      "text/plain": [
       "False"
      ]
     },
     "execution_count": 52,
     "metadata": {},
     "output_type": "execute_result"
    }
   ],
   "source": [
    "None == True"
   ]
  },
  {
   "cell_type": "markdown",
   "id": "7f2aa90a-d351-4c69-9c3c-deacd97c0b79",
   "metadata": {},
   "source": [
    "#### Tranformación de tipos de datos"
   ]
  },
  {
   "cell_type": "code",
   "execution_count": 53,
   "id": "c12104d6-f39c-4e14-85f3-e668bedcf99c",
   "metadata": {},
   "outputs": [
    {
     "data": {
      "text/plain": [
       "'10'"
      ]
     },
     "execution_count": 53,
     "metadata": {},
     "output_type": "execute_result"
    }
   ],
   "source": [
    "valor = 10\n",
    "str(valor)"
   ]
  },
  {
   "cell_type": "code",
   "execution_count": 54,
   "id": "a6173ea8-d224-4e6e-8bd4-fe80131a8e1b",
   "metadata": {},
   "outputs": [
    {
     "data": {
      "text/plain": [
       "10"
      ]
     },
     "execution_count": 54,
     "metadata": {},
     "output_type": "execute_result"
    }
   ],
   "source": [
    "valor_decimal = 10.78\n",
    "int(valor_decimal)"
   ]
  },
  {
   "cell_type": "code",
   "execution_count": 55,
   "id": "a7ffb2b5-d902-4876-a3ac-514d5b60b7a7",
   "metadata": {},
   "outputs": [
    {
     "data": {
      "text/plain": [
       "10.0"
      ]
     },
     "execution_count": 55,
     "metadata": {},
     "output_type": "execute_result"
    }
   ],
   "source": [
    "float(valor)"
   ]
  },
  {
   "cell_type": "code",
   "execution_count": 56,
   "id": "75216023-67d2-408d-be41-576f07465fc9",
   "metadata": {},
   "outputs": [
    {
     "data": {
      "text/plain": [
       "(10+0j)"
      ]
     },
     "execution_count": 56,
     "metadata": {},
     "output_type": "execute_result"
    }
   ],
   "source": [
    "complex(valor)"
   ]
  },
  {
   "cell_type": "markdown",
   "id": "a3677257-e941-441f-be4a-b6afe12da40d",
   "metadata": {},
   "source": [
    "#### Convertir a valor booleano"
   ]
  },
  {
   "cell_type": "code",
   "execution_count": 57,
   "id": "8b9b17c2-8b41-4ceb-aa3e-46bf5cbf3a03",
   "metadata": {},
   "outputs": [
    {
     "data": {
      "text/plain": [
       "False"
      ]
     },
     "execution_count": 57,
     "metadata": {},
     "output_type": "execute_result"
    }
   ],
   "source": [
    "bool()"
   ]
  },
  {
   "cell_type": "code",
   "execution_count": 58,
   "id": "241d62ed-e241-455f-b90a-5d84844391ac",
   "metadata": {},
   "outputs": [
    {
     "data": {
      "text/plain": [
       "False"
      ]
     },
     "execution_count": 58,
     "metadata": {},
     "output_type": "execute_result"
    }
   ],
   "source": [
    "bool(0)"
   ]
  },
  {
   "cell_type": "code",
   "execution_count": 59,
   "id": "abac20b8-0765-4931-8b6f-4d2dc679f42b",
   "metadata": {},
   "outputs": [
    {
     "data": {
      "text/plain": [
       "False"
      ]
     },
     "execution_count": 59,
     "metadata": {},
     "output_type": "execute_result"
    }
   ],
   "source": [
    "bool(False)"
   ]
  },
  {
   "cell_type": "code",
   "execution_count": 60,
   "id": "166c5b65-19ee-459a-b52c-4a13d10d37da",
   "metadata": {},
   "outputs": [
    {
     "data": {
      "text/plain": [
       "True"
      ]
     },
     "execution_count": 60,
     "metadata": {},
     "output_type": "execute_result"
    }
   ],
   "source": [
    "bool(10.78)"
   ]
  },
  {
   "cell_type": "code",
   "execution_count": 61,
   "id": "836e97d2-ef55-406f-b864-4806a2d7d66c",
   "metadata": {},
   "outputs": [
    {
     "data": {
      "text/plain": [
       "True"
      ]
     },
     "execution_count": 61,
     "metadata": {},
     "output_type": "execute_result"
    }
   ],
   "source": [
    "bool(\"CP\")"
   ]
  },
  {
   "cell_type": "markdown",
   "id": "4fd187be-c6ec-4a11-9835-6cd56de46fd7",
   "metadata": {},
   "source": [
    "### Tema III"
   ]
  },
  {
   "cell_type": "markdown",
   "id": "7c056e99-e77c-4c2e-b9d8-fb8adc44fb02",
   "metadata": {
    "jp-MarkdownHeadingCollapsed": true
   },
   "source": [
    "#### Estructuras de datos"
   ]
  },
  {
   "cell_type": "markdown",
   "id": "4b36502c-223e-4b98-9bc0-c783e1211057",
   "metadata": {
    "jp-MarkdownHeadingCollapsed": true
   },
   "source": [
    "##### Listas"
   ]
  },
  {
   "cell_type": "code",
   "execution_count": 62,
   "id": "0e90e2da-abab-4d01-94f8-474fa11b083c",
   "metadata": {},
   "outputs": [
    {
     "data": {
      "text/plain": [
       "[3, 'Hola', True]"
      ]
     },
     "execution_count": 62,
     "metadata": {},
     "output_type": "execute_result"
    }
   ],
   "source": [
    "lista = [3, 'Hola', True]\n",
    "lista"
   ]
  },
  {
   "cell_type": "code",
   "execution_count": 63,
   "id": "7cad864b-6864-4512-802d-b4acd2774e38",
   "metadata": {},
   "outputs": [
    {
     "data": {
      "text/plain": [
       "[]"
      ]
     },
     "execution_count": 63,
     "metadata": {},
     "output_type": "execute_result"
    }
   ],
   "source": [
    "lista_vacia = []\n",
    "lista_vacia"
   ]
  },
  {
   "cell_type": "code",
   "execution_count": 64,
   "id": "b9547261-77a2-4544-bfe7-1746f4abe10c",
   "metadata": {},
   "outputs": [
    {
     "data": {
      "text/plain": [
       "True"
      ]
     },
     "execution_count": 64,
     "metadata": {},
     "output_type": "execute_result"
    }
   ],
   "source": [
    "lista[2]"
   ]
  },
  {
   "cell_type": "code",
   "execution_count": 65,
   "id": "0c671493-5200-493f-a22a-6977787cd924",
   "metadata": {},
   "outputs": [
    {
     "data": {
      "text/plain": [
       "[3, 'Hola']"
      ]
     },
     "execution_count": 65,
     "metadata": {},
     "output_type": "execute_result"
    }
   ],
   "source": [
    "lista[:2]"
   ]
  },
  {
   "cell_type": "code",
   "execution_count": 66,
   "id": "87199cae-a729-417c-85dd-14ee328da0bd",
   "metadata": {},
   "outputs": [
    {
     "data": {
      "text/plain": [
       "['Hola', True]"
      ]
     },
     "execution_count": 66,
     "metadata": {},
     "output_type": "execute_result"
    }
   ],
   "source": [
    "lista[1:]"
   ]
  },
  {
   "cell_type": "code",
   "execution_count": 67,
   "id": "fadec0c0-13bb-4cc6-89c7-d3bf992b03c9",
   "metadata": {},
   "outputs": [
    {
     "data": {
      "text/plain": [
       "True"
      ]
     },
     "execution_count": 67,
     "metadata": {},
     "output_type": "execute_result"
    }
   ],
   "source": [
    "lista[-1]"
   ]
  },
  {
   "cell_type": "code",
   "execution_count": 68,
   "id": "32bd82ab-e005-4961-b256-e73341054aa7",
   "metadata": {},
   "outputs": [
    {
     "data": {
      "text/plain": [
       "3"
      ]
     },
     "execution_count": 68,
     "metadata": {},
     "output_type": "execute_result"
    }
   ],
   "source": [
    "len(lista)"
   ]
  },
  {
   "cell_type": "code",
   "execution_count": 69,
   "id": "bb205418-d416-4cfd-a2d7-6d1fec4117bb",
   "metadata": {},
   "outputs": [
    {
     "data": {
      "text/plain": [
       "1"
      ]
     },
     "execution_count": 69,
     "metadata": {},
     "output_type": "execute_result"
    }
   ],
   "source": [
    "lista.index('Hola')"
   ]
  },
  {
   "cell_type": "code",
   "execution_count": 70,
   "id": "d83b20d0-7703-40ed-925e-76f78d5716c8",
   "metadata": {},
   "outputs": [
    {
     "data": {
      "text/plain": [
       "[3, 'Adios', 'Hola', True]"
      ]
     },
     "execution_count": 70,
     "metadata": {},
     "output_type": "execute_result"
    }
   ],
   "source": [
    "lista.insert(1, 'Adios')\n",
    "lista"
   ]
  },
  {
   "cell_type": "code",
   "execution_count": 71,
   "id": "7dc0d382-cf0e-4202-bc4e-b33d7a2de51b",
   "metadata": {},
   "outputs": [
    {
     "data": {
      "text/plain": [
       "[3, 'Adios', 'Hola', True, 'Bienvenido']"
      ]
     },
     "execution_count": 71,
     "metadata": {},
     "output_type": "execute_result"
    }
   ],
   "source": [
    "lista.append('Bienvenido')\n",
    "lista"
   ]
  },
  {
   "cell_type": "code",
   "execution_count": 72,
   "id": "d7745241-f091-4db5-bf56-6214e130048f",
   "metadata": {},
   "outputs": [
    {
     "data": {
      "text/plain": [
       "[3, 'Adios', 'Hola', True, 'Bienvenido', [3, 4]]"
      ]
     },
     "execution_count": 72,
     "metadata": {},
     "output_type": "execute_result"
    }
   ],
   "source": [
    "lista.append([3,4]) #insert una lista dentro de la lista destino.\n",
    "lista"
   ]
  },
  {
   "cell_type": "code",
   "execution_count": 73,
   "id": "e03fe6f4-306d-4e33-92e2-536ad9e6ccb9",
   "metadata": {},
   "outputs": [
    {
     "data": {
      "text/plain": [
       "[3, 'Adios', 'Hola', True, 'Bienvenido', [3, 4], 5, 6]"
      ]
     },
     "execution_count": 73,
     "metadata": {},
     "output_type": "execute_result"
    }
   ],
   "source": [
    "lista.extend([5,6]) #Inserta cada elemento de la lista fuenta a la lista destino.\n",
    "lista"
   ]
  },
  {
   "cell_type": "code",
   "execution_count": 74,
   "id": "0206661c-1810-4064-ae2e-574396570898",
   "metadata": {},
   "outputs": [
    {
     "data": {
      "text/plain": [
       "[3, 'Adios', True, 'Bienvenido', 5, 6]"
      ]
     },
     "execution_count": 74,
     "metadata": {},
     "output_type": "execute_result"
    }
   ],
   "source": [
    "lista.remove('Hola')\n",
    "lista.remove([3,4])\n",
    "lista"
   ]
  },
  {
   "cell_type": "code",
   "execution_count": 75,
   "id": "88bda4c5-206d-4a74-8ff2-b2859aff5008",
   "metadata": {},
   "outputs": [
    {
     "data": {
      "text/plain": [
       "1"
      ]
     },
     "execution_count": 75,
     "metadata": {},
     "output_type": "execute_result"
    }
   ],
   "source": [
    "lista.count('Adios')"
   ]
  },
  {
   "cell_type": "code",
   "execution_count": 76,
   "id": "ca740fce-d96f-4887-96c5-930e97335dee",
   "metadata": {},
   "outputs": [
    {
     "data": {
      "text/plain": [
       "[6, 5, 'Bienvenido', True, 'Adios', 3]"
      ]
     },
     "execution_count": 76,
     "metadata": {},
     "output_type": "execute_result"
    }
   ],
   "source": [
    "lista.reverse()\n",
    "lista"
   ]
  },
  {
   "cell_type": "code",
   "execution_count": 77,
   "id": "adac5022-7a3d-4e50-8a0f-360372efd990",
   "metadata": {},
   "outputs": [
    {
     "data": {
      "text/plain": [
       "[1, 2, 3, 4, 5, 6, 7, 8, 9, 10]"
      ]
     },
     "execution_count": 77,
     "metadata": {},
     "output_type": "execute_result"
    }
   ],
   "source": [
    "lista = [1,2,3,4,5,6,7,8,9,10]\n",
    "lista.sort()\n",
    "lista"
   ]
  },
  {
   "cell_type": "code",
   "execution_count": 78,
   "id": "a151a9d2-2b1b-4afb-bcaf-56fa9fb4119e",
   "metadata": {},
   "outputs": [
    {
     "data": {
      "text/plain": [
       "[10, 9, 8, 7, 6, 5, 4, 3, 2, 1]"
      ]
     },
     "execution_count": 78,
     "metadata": {},
     "output_type": "execute_result"
    }
   ],
   "source": [
    "lista.sort(reverse=True)\n",
    "lista"
   ]
  },
  {
   "cell_type": "code",
   "execution_count": 79,
   "id": "16f86dd8-999e-40bd-909b-e119b8b7d0da",
   "metadata": {},
   "outputs": [
    {
     "data": {
      "text/plain": [
       "9"
      ]
     },
     "execution_count": 79,
     "metadata": {},
     "output_type": "execute_result"
    }
   ],
   "source": [
    "lista.pop(1)"
   ]
  },
  {
   "cell_type": "code",
   "execution_count": 80,
   "id": "bc90b4e5-950b-4dae-8143-2b1902d10d30",
   "metadata": {},
   "outputs": [
    {
     "data": {
      "text/plain": [
       "[10, 8, 7, 6, 5, 4, 3, 2, 1]"
      ]
     },
     "execution_count": 80,
     "metadata": {},
     "output_type": "execute_result"
    }
   ],
   "source": [
    "lista"
   ]
  },
  {
   "cell_type": "code",
   "execution_count": 81,
   "id": "0e4d5b39-e1e7-4fe9-9467-c5f3d8656b13",
   "metadata": {},
   "outputs": [
    {
     "data": {
      "text/plain": [
       "1"
      ]
     },
     "execution_count": 81,
     "metadata": {},
     "output_type": "execute_result"
    }
   ],
   "source": [
    "lista.pop()"
   ]
  },
  {
   "cell_type": "code",
   "execution_count": 82,
   "id": "588d4414-30d3-475b-9dfc-eec0c6d1726a",
   "metadata": {},
   "outputs": [
    {
     "data": {
      "text/plain": [
       "[10, 8, 7, 6, 5, 4, 3, 2]"
      ]
     },
     "execution_count": 82,
     "metadata": {},
     "output_type": "execute_result"
    }
   ],
   "source": [
    "lista"
   ]
  },
  {
   "cell_type": "markdown",
   "id": "0ca6c5e6-7974-403a-b3c1-f9bf2af2e45d",
   "metadata": {
    "jp-MarkdownHeadingCollapsed": true
   },
   "source": [
    "##### Tuplas - (Las tuplas son immutables)"
   ]
  },
  {
   "cell_type": "code",
   "execution_count": 85,
   "id": "08bc4c71-66c0-4d47-a980-1e38e8bd0064",
   "metadata": {},
   "outputs": [
    {
     "data": {
      "text/plain": [
       "('Hola', 3.4, True, 'Adios')"
      ]
     },
     "execution_count": 85,
     "metadata": {},
     "output_type": "execute_result"
    }
   ],
   "source": [
    "tupla = 'Hola', 3.4, True, 'Adios' #tuple packing\n",
    "tupla"
   ]
  },
  {
   "cell_type": "code",
   "execution_count": 89,
   "id": "3837a7ec-30c0-4212-bec7-1729a22dc227",
   "metadata": {},
   "outputs": [
    {
     "name": "stdout",
     "output_type": "stream",
     "text": [
      "Hola\n",
      "3.4\n",
      "True\n",
      "Adios\n"
     ]
    }
   ],
   "source": [
    "w, x, y, z = tupla #tuple unpacking\n",
    "print(w)\n",
    "print(x)\n",
    "print(y)\n",
    "print(z)"
   ]
  },
  {
   "cell_type": "code",
   "execution_count": 90,
   "id": "c21a5fa5-9c88-44b1-b9f9-7c70dc415c45",
   "metadata": {},
   "outputs": [
    {
     "data": {
      "text/plain": [
       "3.4"
      ]
     },
     "execution_count": 90,
     "metadata": {},
     "output_type": "execute_result"
    }
   ],
   "source": [
    "tupla[1]"
   ]
  },
  {
   "cell_type": "code",
   "execution_count": 91,
   "id": "6b0ea82d-7344-4f7b-b93d-45d245421414",
   "metadata": {},
   "outputs": [
    {
     "data": {
      "text/plain": [
       "4"
      ]
     },
     "execution_count": 91,
     "metadata": {},
     "output_type": "execute_result"
    }
   ],
   "source": [
    "len(tupla)"
   ]
  },
  {
   "cell_type": "code",
   "execution_count": 93,
   "id": "80ce3597-39ac-4303-9a9a-01ac8325ae75",
   "metadata": {},
   "outputs": [
    {
     "data": {
      "text/plain": [
       "1"
      ]
     },
     "execution_count": 93,
     "metadata": {},
     "output_type": "execute_result"
    }
   ],
   "source": [
    "tupla.count('Hola')"
   ]
  },
  {
   "cell_type": "code",
   "execution_count": 94,
   "id": "5e0e9fc4-0535-4ec7-8725-e664c9f88bd4",
   "metadata": {},
   "outputs": [
    {
     "data": {
      "text/plain": [
       "0"
      ]
     },
     "execution_count": 94,
     "metadata": {},
     "output_type": "execute_result"
    }
   ],
   "source": [
    "tupla.index('Hola')"
   ]
  },
  {
   "cell_type": "markdown",
   "id": "b0c3b704-1cce-4adc-920f-7fd714225696",
   "metadata": {
    "jp-MarkdownHeadingCollapsed": true
   },
   "source": [
    "##### Dictionaries"
   ]
  },
  {
   "cell_type": "code",
   "execution_count": 95,
   "id": "1866dd8b-111f-4ff4-a85b-d6194fb2df56",
   "metadata": {},
   "outputs": [
    {
     "data": {
      "text/plain": [
       "{'clave1': 'Mi primer valor',\n",
       " 'clave3': 'Tercer valor',\n",
       " 'clave2': 'Segundo valor'}"
      ]
     },
     "execution_count": 95,
     "metadata": {},
     "output_type": "execute_result"
    }
   ],
   "source": [
    "diccionario = {\n",
    "    'clave1': 'Mi primer valor',\n",
    "    'clave3': 'Tercer valor',\n",
    "    'clave2': 'Segundo valor' \n",
    "}\n",
    "diccionario"
   ]
  },
  {
   "cell_type": "code",
   "execution_count": 96,
   "id": "755769ba-c048-4f15-913d-18b8662ed73f",
   "metadata": {},
   "outputs": [
    {
     "data": {
      "text/plain": [
       "'Mi primer valor'"
      ]
     },
     "execution_count": 96,
     "metadata": {},
     "output_type": "execute_result"
    }
   ],
   "source": [
    "diccionario['clave1']"
   ]
  },
  {
   "cell_type": "code",
   "execution_count": 98,
   "id": "96102472-0083-4d14-a404-c6307667198b",
   "metadata": {},
   "outputs": [
    {
     "data": {
      "text/plain": [
       "{'clave1': 'Mi primer valor',\n",
       " 'clave3': 'Tercer valor',\n",
       " 'clave2': 'Segundo valor',\n",
       " 'clave4': 'Cuarto Valor'}"
      ]
     },
     "execution_count": 98,
     "metadata": {},
     "output_type": "execute_result"
    }
   ],
   "source": [
    "diccionario['clave4'] = 'Cuarto Valor'\n",
    "diccionario"
   ]
  },
  {
   "cell_type": "code",
   "execution_count": 100,
   "id": "482722d0-3241-4f0c-a5e4-e408be4b984f",
   "metadata": {},
   "outputs": [
    {
     "data": {
      "text/plain": [
       "{}"
      ]
     },
     "execution_count": 100,
     "metadata": {},
     "output_type": "execute_result"
    }
   ],
   "source": [
    "diccionario_vacio = {}\n",
    "diccionario_vacio"
   ]
  },
  {
   "cell_type": "code",
   "execution_count": 101,
   "id": "ea1a788a-55c7-468b-89c6-4eaa382e06ed",
   "metadata": {},
   "outputs": [
    {
     "data": {
      "text/plain": [
       "{}"
      ]
     },
     "execution_count": 101,
     "metadata": {},
     "output_type": "execute_result"
    }
   ],
   "source": [
    "otro_diccionario_vacio = dict()\n",
    "otro_diccionario_vacio"
   ]
  },
  {
   "cell_type": "code",
   "execution_count": 102,
   "id": "0816a78c-c06d-4264-a417-e55d3d3dfdce",
   "metadata": {},
   "outputs": [
    {
     "data": {
      "text/plain": [
       "{'clave3': 'Tercer valor', 'clave2': 'Segundo valor', 'clave4': 'Cuarto Valor'}"
      ]
     },
     "execution_count": 102,
     "metadata": {},
     "output_type": "execute_result"
    }
   ],
   "source": [
    "del diccionario['clave1']\n",
    "diccionario"
   ]
  },
  {
   "cell_type": "code",
   "execution_count": 103,
   "id": "b0e37de9-bba7-4cd3-b58b-054568e01033",
   "metadata": {},
   "outputs": [
    {
     "data": {
      "text/plain": [
       "['clave3', 'clave2', 'clave4']"
      ]
     },
     "execution_count": 103,
     "metadata": {},
     "output_type": "execute_result"
    }
   ],
   "source": [
    "list(diccionario)"
   ]
  },
  {
   "cell_type": "code",
   "execution_count": 104,
   "id": "4e3ddb6e-1e1a-4b62-9403-5abbb68a4675",
   "metadata": {},
   "outputs": [
    {
     "data": {
      "text/plain": [
       "['clave2', 'clave3', 'clave4']"
      ]
     },
     "execution_count": 104,
     "metadata": {},
     "output_type": "execute_result"
    }
   ],
   "source": [
    "sorted(diccionario)"
   ]
  },
  {
   "cell_type": "code",
   "execution_count": 105,
   "id": "5c69c53c-1b9b-4164-b1bc-91c6d60b2f27",
   "metadata": {},
   "outputs": [
    {
     "data": {
      "text/plain": [
       "True"
      ]
     },
     "execution_count": 105,
     "metadata": {},
     "output_type": "execute_result"
    }
   ],
   "source": [
    "'clave3' in diccionario"
   ]
  },
  {
   "cell_type": "markdown",
   "id": "88c26557-feda-4346-b714-c117697070e8",
   "metadata": {},
   "source": [
    "##### Conjuntos"
   ]
  },
  {
   "cell_type": "code",
   "execution_count": 107,
   "id": "306fa166-1abb-4561-9368-58035540a1b8",
   "metadata": {},
   "outputs": [
    {
     "data": {
      "text/plain": [
       "{'audi', 'ferrari', 'mercedes', 'renault', 'seat'}"
      ]
     },
     "execution_count": 107,
     "metadata": {},
     "output_type": "execute_result"
    }
   ],
   "source": [
    "conjunto = {'audi', 'mercedes', 'seat', 'ferrari', 'ferrari', 'renault'}\n",
    "conjunto"
   ]
  },
  {
   "cell_type": "code",
   "execution_count": 110,
   "id": "03c0d358-da43-4125-b952-c45a082826a7",
   "metadata": {},
   "outputs": [
    {
     "data": {
      "text/plain": [
       "set()"
      ]
     },
     "execution_count": 110,
     "metadata": {},
     "output_type": "execute_result"
    }
   ],
   "source": [
    "conjunto_vacio = set()\n",
    "conjunto_vacio"
   ]
  },
  {
   "cell_type": "code",
   "execution_count": 111,
   "id": "d2acbe6c-f7fe-4cc6-b0fe-d203fbf44f40",
   "metadata": {},
   "outputs": [
    {
     "data": {
      "text/plain": [
       "{1, 2, 3, 4, 5}"
      ]
     },
     "execution_count": 111,
     "metadata": {},
     "output_type": "execute_result"
    }
   ],
   "source": [
    "conjunto1 = {1,2,3}\n",
    "conjunto2 = {3,4,5}\n",
    "conjunto1.union(conjunto2)"
   ]
  },
  {
   "cell_type": "code",
   "execution_count": 112,
   "id": "6da1a434-7c75-4631-b161-62785a319529",
   "metadata": {},
   "outputs": [
    {
     "data": {
      "text/plain": [
       "{3}"
      ]
     },
     "execution_count": 112,
     "metadata": {},
     "output_type": "execute_result"
    }
   ],
   "source": [
    "conjunto1.intersection(conjunto2)"
   ]
  },
  {
   "cell_type": "code",
   "execution_count": 113,
   "id": "1cee2803-b2b9-4d64-a1ad-6ccca5267a89",
   "metadata": {},
   "outputs": [
    {
     "data": {
      "text/plain": [
       "{1, 2}"
      ]
     },
     "execution_count": 113,
     "metadata": {},
     "output_type": "execute_result"
    }
   ],
   "source": [
    "conjunto1.difference(conjunto2)"
   ]
  },
  {
   "cell_type": "code",
   "execution_count": 114,
   "id": "fcf78cf5-7b23-417c-8fa2-ee655e5194f4",
   "metadata": {},
   "outputs": [
    {
     "data": {
      "text/plain": [
       "{4, 5}"
      ]
     },
     "execution_count": 114,
     "metadata": {},
     "output_type": "execute_result"
    }
   ],
   "source": [
    "conjunto2.difference(conjunto1)"
   ]
  },
  {
   "cell_type": "code",
   "execution_count": 115,
   "id": "daca3272-f861-4ff2-bb9f-3d089989daa1",
   "metadata": {},
   "outputs": [
    {
     "data": {
      "text/plain": [
       "True"
      ]
     },
     "execution_count": 115,
     "metadata": {},
     "output_type": "execute_result"
    }
   ],
   "source": [
    "1 in conjunto1\n"
   ]
  },
  {
   "cell_type": "code",
   "execution_count": 116,
   "id": "722055eb-b39c-4f4c-943f-9f8d72b0f7b2",
   "metadata": {},
   "outputs": [
    {
     "data": {
      "text/plain": [
       "3"
      ]
     },
     "execution_count": 116,
     "metadata": {},
     "output_type": "execute_result"
    }
   ],
   "source": [
    "len(conjunto1)"
   ]
  },
  {
   "cell_type": "markdown",
   "id": "e042bf23-0b47-4413-8f07-f579769deeed",
   "metadata": {},
   "source": [
    "#### Ejecuciones condicionales"
   ]
  },
  {
   "cell_type": "code",
   "execution_count": null,
   "id": "cb2ca678-05f2-4f3e-9858-28efd7a91f05",
   "metadata": {},
   "outputs": [],
   "source": []
  }
 ],
 "metadata": {
  "kernelspec": {
   "display_name": "Python 3 (ipykernel)",
   "language": "python",
   "name": "python3"
  },
  "language_info": {
   "codemirror_mode": {
    "name": "ipython",
    "version": 3
   },
   "file_extension": ".py",
   "mimetype": "text/x-python",
   "name": "python",
   "nbconvert_exporter": "python",
   "pygments_lexer": "ipython3",
   "version": "3.12.4"
  }
 },
 "nbformat": 4,
 "nbformat_minor": 5
}
