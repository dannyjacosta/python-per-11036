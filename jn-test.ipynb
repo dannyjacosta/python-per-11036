{
 "cells": [
  {
   "cell_type": "code",
   "execution_count": 1,
   "id": "9bca6729-b7c8-4b1f-ba0b-449986f16fdd",
   "metadata": {},
   "outputs": [],
   "source": [
    "def hola_mundo():\n",
    "    print(\"Hola mundo sueco\")"
   ]
  },
  {
   "cell_type": "code",
   "execution_count": 2,
   "id": "05da33ec-d4e4-4630-a11c-eb210109b250",
   "metadata": {
    "jupyter": {
     "source_hidden": true
    }
   },
   "outputs": [
    {
     "name": "stdout",
     "output_type": "stream",
     "text": [
      "Hola mundo sueco\n"
     ]
    }
   ],
   "source": [
    "hola_mundo()"
   ]
  },
  {
   "cell_type": "markdown",
   "id": "63e9991d-7b42-4680-91a4-4667a77ec4fe",
   "metadata": {},
   "source": [
    "# This is markdown text"
   ]
  },
  {
   "cell_type": "code",
   "execution_count": null,
   "id": "b57b3b2e-101b-4122-b194-45d7347acf5a",
   "metadata": {},
   "outputs": [],
   "source": []
  }
 ],
 "metadata": {
  "kernelspec": {
   "display_name": "Python 3 (ipykernel)",
   "language": "python",
   "name": "python3"
  },
  "language_info": {
   "codemirror_mode": {
    "name": "ipython",
    "version": 3
   },
   "file_extension": ".py",
   "mimetype": "text/x-python",
   "name": "python",
   "nbconvert_exporter": "python",
   "pygments_lexer": "ipython3",
   "version": "3.12.4"
  }
 },
 "nbformat": 4,
 "nbformat_minor": 5
}
