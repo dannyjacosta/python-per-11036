{
 "cells": [
  {
   "cell_type": "markdown",
   "id": "49daee2d-8ced-41cb-9d8d-3ca735db36da",
   "metadata": {},
   "source": [
    "# Tema IV"
   ]
  },
  {
   "cell_type": "markdown",
   "id": "83793ebf-9065-4c8a-8b90-5dc4d60bf773",
   "metadata": {},
   "source": [
    "## Funciones"
   ]
  },
  {
   "cell_type": "markdown",
   "id": "b385decc-ec0e-4f1b-9763-73154e3ab56d",
   "metadata": {
    "jp-MarkdownHeadingCollapsed": true
   },
   "source": [
    "### Definición de Funciones"
   ]
  },
  {
   "cell_type": "code",
   "execution_count": 15,
   "id": "29964a38-5053-40d6-8254-3acf7a8f1028",
   "metadata": {},
   "outputs": [
    {
     "name": "stdout",
     "output_type": "stream",
     "text": [
      "Help on function area_triangulo in module __main__:\n",
      "\n",
      "area_triangulo(base=10, altura=10)\n",
      "    Calcula el área de un triángulo dadas su base y su altura.\n",
      "    Argumentos:\n",
      "    base -- la base del triángulo\n",
      "    altura -- la altura de triángulo.\n",
      "\n"
     ]
    }
   ],
   "source": [
    "def area_triangulo(base=10, altura=10):\n",
    "    \"\"\"\n",
    "    Calcula el área de un triángulo dadas su base y su altura.\n",
    "    Argumentos:\n",
    "    base -- la base del triángulo\n",
    "    altura -- la altura de triángulo.\n",
    "    \"\"\"\n",
    "    area = base * altura / 2\n",
    "    return area\n",
    "\n",
    "area_triangulo(6,5)\n",
    "help(area_triangulo)"
   ]
  },
  {
   "cell_type": "code",
   "execution_count": 2,
   "id": "7a85f38a-c038-44f2-980b-8270f26ebe30",
   "metadata": {},
   "outputs": [
    {
     "data": {
      "text/plain": [
       "20.0"
      ]
     },
     "execution_count": 2,
     "metadata": {},
     "output_type": "execute_result"
    }
   ],
   "source": [
    "area_triangulo(altura=4, base=10)"
   ]
  },
  {
   "cell_type": "code",
   "execution_count": 3,
   "id": "ba298373-a172-4f7e-a76f-f57413d3f7b1",
   "metadata": {},
   "outputs": [
    {
     "data": {
      "text/plain": [
       "50.0"
      ]
     },
     "execution_count": 3,
     "metadata": {},
     "output_type": "execute_result"
    }
   ],
   "source": [
    "area_triangulo()"
   ]
  },
  {
   "cell_type": "code",
   "execution_count": 1,
   "id": "210c86ca-79ca-4280-a1cd-02119f2f445b",
   "metadata": {},
   "outputs": [
    {
     "name": "stdout",
     "output_type": "stream",
     "text": [
      "1\n",
      "2\n",
      "4\n",
      "90\n",
      "45\n",
      "68\n"
     ]
    }
   ],
   "source": [
    "def imprimir_numeros(*args):\n",
    "    for arg in args:\n",
    "        print(arg)\n",
    "\n",
    "imprimir_numeros(1,2,4,90,45,68)"
   ]
  },
  {
   "cell_type": "code",
   "execution_count": 2,
   "id": "ee6ecae4-1fb5-44d3-b51c-874888318808",
   "metadata": {},
   "outputs": [
    {
     "name": "stdout",
     "output_type": "stream",
     "text": [
      "numero => 25\n",
      "booleano => True\n",
      "flotante => 3.69\n",
      "cadena => Hello World!\n"
     ]
    }
   ],
   "source": [
    "def imprimir_valores(**args):\n",
    "    for clave in args:\n",
    "        print(clave, '=>', args[clave])\n",
    "\n",
    "imprimir_valores(numero=25, booleano=True, flotante=3.69, cadena='Hello World!')"
   ]
  },
  {
   "cell_type": "code",
   "execution_count": 3,
   "id": "5ea592ed-c314-4d2b-855e-52e6516a60dc",
   "metadata": {},
   "outputs": [
    {
     "name": "stdout",
     "output_type": "stream",
     "text": [
      "nombre => Danny\n",
      "apellido => Acosta\n"
     ]
    }
   ],
   "source": [
    "imprimir_valores(nombre='Danny', apellido='Acosta')"
   ]
  },
  {
   "cell_type": "code",
   "execution_count": 4,
   "id": "dda0b8fa-3b7b-4ecb-86f6-2c52bc4e4458",
   "metadata": {},
   "outputs": [
    {
     "data": {
      "text/plain": [
       "256"
      ]
     },
     "execution_count": 4,
     "metadata": {},
     "output_type": "execute_result"
    }
   ],
   "source": [
    "def potencia(base, expontent):\n",
    "    return base ** expontent\n",
    "\n",
    "potencia(2, 8)"
   ]
  },
  {
   "cell_type": "code",
   "execution_count": 6,
   "id": "559ae436-8154-4d33-97a5-aad8ea192243",
   "metadata": {},
   "outputs": [
    {
     "data": {
      "text/plain": [
       "('Danny', 'Acosta', 49, 2)"
      ]
     },
     "execution_count": 6,
     "metadata": {},
     "output_type": "execute_result"
    }
   ],
   "source": [
    "def retorno_multiple():\n",
    "    return 'Danny', 'Acosta', 49, 2\n",
    "\n",
    "retorno_multiple()"
   ]
  },
  {
   "cell_type": "code",
   "execution_count": 8,
   "id": "ef95fb0d-e3e1-4cdc-b294-e8ffd02939d7",
   "metadata": {},
   "outputs": [
    {
     "name": "stdout",
     "output_type": "stream",
     "text": [
      "Danny Acosta 49 2\n"
     ]
    }
   ],
   "source": [
    "nombre, apellido, edad, hijos = retorno_multiple()\n",
    "print(nombre, apellido, edad, hijos)"
   ]
  },
  {
   "cell_type": "markdown",
   "id": "be842b06-b7c1-4de2-a995-4fa498826dc0",
   "metadata": {
    "jp-MarkdownHeadingCollapsed": true
   },
   "source": [
    "### Funciones incluidas en Python"
   ]
  },
  {
   "cell_type": "markdown",
   "id": "a1fabfbe-a921-4460-afbf-58aae12d4c22",
   "metadata": {
    "jp-MarkdownHeadingCollapsed": true
   },
   "source": [
    "#### Módulo math"
   ]
  },
  {
   "cell_type": "markdown",
   "id": "3a75fbdc-cee9-4ddd-aca6-e4cd54bf5b56",
   "metadata": {
    "jp-MarkdownHeadingCollapsed": true
   },
   "source": [
    "##### Funciones Aritméticas"
   ]
  },
  {
   "cell_type": "code",
   "execution_count": 1,
   "id": "a17354cd-a139-4df4-8b70-b75d7c2ea58b",
   "metadata": {},
   "outputs": [
    {
     "data": {
      "text/plain": [
       "14.0"
      ]
     },
     "execution_count": 1,
     "metadata": {},
     "output_type": "execute_result"
    }
   ],
   "source": [
    "import math\n",
    "math.fabs(-14)"
   ]
  },
  {
   "cell_type": "code",
   "execution_count": 2,
   "id": "6f69635d-163d-423a-aeac-7da2bdc2c6f8",
   "metadata": {},
   "outputs": [
    {
     "data": {
      "text/plain": [
       "2"
      ]
     },
     "execution_count": 2,
     "metadata": {},
     "output_type": "execute_result"
    }
   ],
   "source": [
    "math.gcd(34, 82)"
   ]
  },
  {
   "cell_type": "code",
   "execution_count": 3,
   "id": "30b238db-bbb8-4525-b89b-4149326cb278",
   "metadata": {},
   "outputs": [
    {
     "data": {
      "text/plain": [
       "245"
      ]
     },
     "execution_count": 3,
     "metadata": {},
     "output_type": "execute_result"
    }
   ],
   "source": [
    "math.floor(245.89)"
   ]
  },
  {
   "cell_type": "code",
   "execution_count": 4,
   "id": "761e4ec9-bbf9-426a-a5a5-e7afe9724907",
   "metadata": {},
   "outputs": [
    {
     "data": {
      "text/plain": [
       "246"
      ]
     },
     "execution_count": 4,
     "metadata": {},
     "output_type": "execute_result"
    }
   ],
   "source": [
    "math.ceil(245.89)"
   ]
  },
  {
   "cell_type": "code",
   "execution_count": 5,
   "id": "74420630-496f-474a-837e-afbff105a5aa",
   "metadata": {},
   "outputs": [
    {
     "data": {
      "text/plain": [
       "120"
      ]
     },
     "execution_count": 5,
     "metadata": {},
     "output_type": "execute_result"
    }
   ],
   "source": [
    "math.factorial(5)"
   ]
  },
  {
   "cell_type": "code",
   "execution_count": 6,
   "id": "1eb20ebd-b3f2-4546-af29-21687f6ae0b5",
   "metadata": {},
   "outputs": [
    {
     "data": {
      "text/plain": [
       "5"
      ]
     },
     "execution_count": 6,
     "metadata": {},
     "output_type": "execute_result"
    }
   ],
   "source": [
    "math.trunc(5.7836)"
   ]
  },
  {
   "cell_type": "code",
   "execution_count": 8,
   "id": "c4310730-ed4c-4b1d-b4be-4c8fee7bd290",
   "metadata": {},
   "outputs": [
    {
     "data": {
      "text/plain": [
       "5"
      ]
     },
     "execution_count": 8,
     "metadata": {},
     "output_type": "execute_result"
    }
   ],
   "source": [
    "int(5.7836)"
   ]
  },
  {
   "cell_type": "markdown",
   "id": "b2b677a5-f5cc-4f5a-a91c-b10ef9659458",
   "metadata": {
    "jp-MarkdownHeadingCollapsed": true
   },
   "source": [
    "##### Funciones Trigonométricas"
   ]
  },
  {
   "cell_type": "code",
   "execution_count": 15,
   "id": "12d5bc7b-dae0-4f2e-9280-d5cadedf55d4",
   "metadata": {},
   "outputs": [
    {
     "data": {
      "text/plain": [
       "1.2246467991473532e-16"
      ]
     },
     "execution_count": 15,
     "metadata": {},
     "output_type": "execute_result"
    }
   ],
   "source": [
    "math.sin(math.pi)"
   ]
  },
  {
   "cell_type": "code",
   "execution_count": 11,
   "id": "0a54f35f-ac3c-4d3b-994b-f47ad244b484",
   "metadata": {},
   "outputs": [
    {
     "data": {
      "text/plain": [
       "-1.0"
      ]
     },
     "execution_count": 11,
     "metadata": {},
     "output_type": "execute_result"
    }
   ],
   "source": [
    "math.cos(math.pi)"
   ]
  },
  {
   "cell_type": "code",
   "execution_count": 12,
   "id": "4e2f8c79-352d-42a0-bb18-538c04a1ffd6",
   "metadata": {},
   "outputs": [
    {
     "data": {
      "text/plain": [
       "1.633123935319537e+16"
      ]
     },
     "execution_count": 12,
     "metadata": {},
     "output_type": "execute_result"
    }
   ],
   "source": [
    "math.tan(math.pi/2)"
   ]
  },
  {
   "cell_type": "code",
   "execution_count": 18,
   "id": "2867265b-f02d-4c7f-b4ec-8c57ab119d2a",
   "metadata": {},
   "outputs": [
    {
     "data": {
      "text/plain": [
       "1.5707963267948966"
      ]
     },
     "execution_count": 18,
     "metadata": {},
     "output_type": "execute_result"
    }
   ],
   "source": [
    "math.asin(1)"
   ]
  },
  {
   "cell_type": "code",
   "execution_count": 19,
   "id": "ab0f58be-1618-447f-8030-2bb34a1688ae",
   "metadata": {},
   "outputs": [
    {
     "data": {
      "text/plain": [
       "0.0"
      ]
     },
     "execution_count": 19,
     "metadata": {},
     "output_type": "execute_result"
    }
   ],
   "source": [
    "math.acos(1)"
   ]
  },
  {
   "cell_type": "code",
   "execution_count": 20,
   "id": "26853a1d-d9cb-4b7c-9791-77fbbf4504a6",
   "metadata": {},
   "outputs": [
    {
     "data": {
      "text/plain": [
       "0.7853981633974483"
      ]
     },
     "execution_count": 20,
     "metadata": {},
     "output_type": "execute_result"
    }
   ],
   "source": [
    "math.atan(1)"
   ]
  },
  {
   "cell_type": "code",
   "execution_count": 21,
   "id": "b801cdcf-9e77-4d87-b96e-c9bfa551ae16",
   "metadata": {},
   "outputs": [
    {
     "data": {
      "text/plain": [
       "12.206555615733702"
      ]
     },
     "execution_count": 21,
     "metadata": {},
     "output_type": "execute_result"
    }
   ],
   "source": [
    "math.hypot(10, 7)"
   ]
  },
  {
   "cell_type": "markdown",
   "id": "7a245045-3f7f-481d-b67a-12487a332fc5",
   "metadata": {
    "jp-MarkdownHeadingCollapsed": true
   },
   "source": [
    "##### Funciones exponenciales y logarítmicas"
   ]
  },
  {
   "cell_type": "code",
   "execution_count": 22,
   "id": "c79f7953-532c-458f-a73d-6974e64de8bb",
   "metadata": {},
   "outputs": [
    {
     "data": {
      "text/plain": [
       "2.0"
      ]
     },
     "execution_count": 22,
     "metadata": {},
     "output_type": "execute_result"
    }
   ],
   "source": [
    "math.log10(100)"
   ]
  },
  {
   "cell_type": "code",
   "execution_count": 23,
   "id": "421bf5ab-b69a-4ab7-850b-961c63ef40aa",
   "metadata": {},
   "outputs": [
    {
     "data": {
      "text/plain": [
       "4.605170185988092"
      ]
     },
     "execution_count": 23,
     "metadata": {},
     "output_type": "execute_result"
    }
   ],
   "source": [
    "math.log(100)"
   ]
  },
  {
   "cell_type": "code",
   "execution_count": 27,
   "id": "1bc31bdc-ac9b-4e4c-beae-d99d3874cd26",
   "metadata": {},
   "outputs": [
    {
     "data": {
      "text/plain": [
       "10.0"
      ]
     },
     "execution_count": 27,
     "metadata": {},
     "output_type": "execute_result"
    }
   ],
   "source": [
    "math.log2(1024)"
   ]
  },
  {
   "cell_type": "code",
   "execution_count": 28,
   "id": "95d0c8f9-46aa-428f-b060-6f719ec94e0b",
   "metadata": {},
   "outputs": [
    {
     "data": {
      "text/plain": [
       "8.0"
      ]
     },
     "execution_count": 28,
     "metadata": {},
     "output_type": "execute_result"
    }
   ],
   "source": [
    "math.pow(2, 3)"
   ]
  },
  {
   "cell_type": "code",
   "execution_count": 29,
   "id": "ddd5da53-d31c-4db3-9b20-ff553ef119ea",
   "metadata": {},
   "outputs": [
    {
     "data": {
      "text/plain": [
       "16.0"
      ]
     },
     "execution_count": 29,
     "metadata": {},
     "output_type": "execute_result"
    }
   ],
   "source": [
    "math.sqrt(256)"
   ]
  },
  {
   "cell_type": "code",
   "execution_count": 30,
   "id": "0c4ca982-879f-4baf-8b13-4c7fcab69f52",
   "metadata": {},
   "outputs": [
    {
     "data": {
      "text/plain": [
       "3.141592653589793"
      ]
     },
     "execution_count": 30,
     "metadata": {},
     "output_type": "execute_result"
    }
   ],
   "source": [
    "math.pi"
   ]
  },
  {
   "cell_type": "code",
   "execution_count": 31,
   "id": "aa20ca07-8cb0-4d67-9dfb-73129eb4944b",
   "metadata": {},
   "outputs": [
    {
     "data": {
      "text/plain": [
       "2.718281828459045"
      ]
     },
     "execution_count": 31,
     "metadata": {},
     "output_type": "execute_result"
    }
   ],
   "source": [
    "math.e"
   ]
  },
  {
   "cell_type": "markdown",
   "id": "8641cb62-0940-4656-9c77-61e77e1c3c9a",
   "metadata": {
    "jp-MarkdownHeadingCollapsed": true
   },
   "source": [
    "#### Módulo sys"
   ]
  },
  {
   "cell_type": "markdown",
   "id": "d6a6247f-6add-4799-8f1c-106b37fecd8c",
   "metadata": {},
   "source": [
    "El contenido de esta sección está en el archivo test_sys.py"
   ]
  },
  {
   "cell_type": "markdown",
   "id": "64814804-0c81-47ac-8914-2062c2badd1b",
   "metadata": {
    "jp-MarkdownHeadingCollapsed": true
   },
   "source": [
    "#### Modulo os y os.path"
   ]
  },
  {
   "cell_type": "markdown",
   "id": "5b144a67-45b4-4e7d-b71a-a53b48ec5cc8",
   "metadata": {},
   "source": [
    "El contenido de esta sección está en el archivo test_sys.py"
   ]
  },
  {
   "cell_type": "markdown",
   "id": "aa2520ef-0ceb-467f-965f-a15dde9d475f",
   "metadata": {},
   "source": [
    "#### Módulo random"
   ]
  },
  {
   "cell_type": "code",
   "execution_count": 3,
   "id": "58e364c0-3c38-429c-8916-349a5c8e665e",
   "metadata": {},
   "outputs": [
    {
     "data": {
      "text/plain": [
       "4"
      ]
     },
     "execution_count": 3,
     "metadata": {},
     "output_type": "execute_result"
    }
   ],
   "source": [
    "import random\n",
    "random.randint(1, 10)"
   ]
  },
  {
   "cell_type": "code",
   "execution_count": 9,
   "id": "47b74d62-8c34-4d0d-9ed4-abe40e655ceb",
   "metadata": {},
   "outputs": [
    {
     "data": {
      "text/plain": [
       "3"
      ]
     },
     "execution_count": 9,
     "metadata": {},
     "output_type": "execute_result"
    }
   ],
   "source": [
    "random.choice(['Hola', 3, [2, 3], True, 3.141692])"
   ]
  },
  {
   "cell_type": "code",
   "execution_count": 13,
   "id": "e5354be5-a39e-4007-ac78-bd805142d19c",
   "metadata": {},
   "outputs": [
    {
     "data": {
      "text/plain": [
       "[True, 3.141692, [2, 3], 'Hola', 3]"
      ]
     },
     "execution_count": 13,
     "metadata": {},
     "output_type": "execute_result"
    }
   ],
   "source": [
    "lista = ['Hola', 3, [2, 3], True, 3.141692]\n",
    "random.shuffle(lista)\n",
    "lista"
   ]
  },
  {
   "cell_type": "code",
   "execution_count": 15,
   "id": "3a367edd-a790-4180-b622-9b658296425f",
   "metadata": {},
   "outputs": [
    {
     "data": {
      "text/plain": [
       "[True, 3]"
      ]
     },
     "execution_count": 15,
     "metadata": {},
     "output_type": "execute_result"
    }
   ],
   "source": [
    "elementos = ['Hola', 3, [2, 3], True, 3.141692]\n",
    "random.sample(elementos, 2)"
   ]
  },
  {
   "cell_type": "markdown",
   "id": "21cd38ec-7dfc-4684-b9b2-86f660681e65",
   "metadata": {},
   "source": [
    "### Funciones Anónimas"
   ]
  },
  {
   "cell_type": "code",
   "execution_count": 18,
   "id": "799d9468-c9d5-4d85-aefb-a172cd82f539",
   "metadata": {},
   "outputs": [
    {
     "data": {
      "text/plain": [
       "64"
      ]
     },
     "execution_count": 18,
     "metadata": {},
     "output_type": "execute_result"
    }
   ],
   "source": [
    "cuadrado = lambda x: x ** 2\n",
    "cuadrado(8)"
   ]
  },
  {
   "cell_type": "code",
   "execution_count": 33,
   "id": "7645361c-8331-4204-a2a5-78f049a670dd",
   "metadata": {},
   "outputs": [
    {
     "data": {
      "text/plain": [
       "[0, 2, 4, 6, 8, 10, 12, 14, 16, 18, 20, 22, 24]"
      ]
     },
     "execution_count": 33,
     "metadata": {},
     "output_type": "execute_result"
    }
   ],
   "source": [
    "lista = range(25)\n",
    "list(filter(lambda x: x % 2 == 0, lista))"
   ]
  },
  {
   "cell_type": "code",
   "execution_count": 34,
   "id": "2bf7c5ef-7237-474a-aa83-b6282e520b2e",
   "metadata": {},
   "outputs": [
    {
     "data": {
      "text/plain": [
       "[0,\n",
       " 1,\n",
       " 4,\n",
       " 9,\n",
       " 16,\n",
       " 25,\n",
       " 36,\n",
       " 49,\n",
       " 64,\n",
       " 81,\n",
       " 100,\n",
       " 121,\n",
       " 144,\n",
       " 169,\n",
       " 196,\n",
       " 225,\n",
       " 256,\n",
       " 289,\n",
       " 324,\n",
       " 361,\n",
       " 400,\n",
       " 441,\n",
       " 484,\n",
       " 529,\n",
       " 576]"
      ]
     },
     "execution_count": 34,
     "metadata": {},
     "output_type": "execute_result"
    }
   ],
   "source": [
    "list(map(lambda x: x ** 2, lista))"
   ]
  }
 ],
 "metadata": {
  "kernelspec": {
   "display_name": "Python 3 (ipykernel)",
   "language": "python",
   "name": "python3"
  },
  "language_info": {
   "codemirror_mode": {
    "name": "ipython",
    "version": 3
   },
   "file_extension": ".py",
   "mimetype": "text/x-python",
   "name": "python",
   "nbconvert_exporter": "python",
   "pygments_lexer": "ipython3",
   "version": "3.12.4"
  }
 },
 "nbformat": 4,
 "nbformat_minor": 5
}
